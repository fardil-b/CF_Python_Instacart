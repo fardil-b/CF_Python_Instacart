{
 "cells": [
  {
   "cell_type": "markdown",
   "id": "b0f55396",
   "metadata": {},
   "source": [
    "# 4.10 Coding Etiquette & Excel Reporting"
   ]
  },
  {
   "cell_type": "markdown",
   "id": "dd5ddd6f",
   "metadata": {},
   "source": [
    "## Instacart Basket Analysis"
   ]
  },
  {
   "cell_type": "markdown",
   "id": "8636818e",
   "metadata": {},
   "source": [
    "### by Fardil Bhugaloo"
   ]
  },
  {
   "cell_type": "code",
   "execution_count": 1,
   "id": "59fa4b28",
   "metadata": {},
   "outputs": [],
   "source": [
    "# Import libraries\n",
    "import pandas as pd\n",
    "import numpy as np\n",
    "import os\n",
    "import matplotlib.pyplot as plt\n",
    "import seaborn as sns\n",
    "import scipy"
   ]
  },
  {
   "cell_type": "markdown",
   "id": "5ca00d8c",
   "metadata": {},
   "source": [
    "## Q1 - Import the data set you exported in Exercise 4.9 into a new Jupyter notebook. This should be the merged version of your data that contains the new customers column."
   ]
  },
  {
   "cell_type": "code",
   "execution_count": 2,
   "id": "cbafd6b7",
   "metadata": {},
   "outputs": [],
   "source": [
    "path = r\"C:\\Users\\fardi\\OneDrive\\Desktop\\CF\\Data Immersion\\Python Fundamentals for Data Analysts\\06-09-2021 Instacart Basket Analysis\""
   ]
  },
  {
   "cell_type": "code",
   "execution_count": 3,
   "id": "41e190be",
   "metadata": {},
   "outputs": [],
   "source": [
    "# Load complete dataset\n",
    "df = pd.read_pickle(os.path.join(path, '02 Data', 'Prepared Data', 'Orders_products_all_new.pkl'))"
   ]
  },
  {
   "cell_type": "code",
   "execution_count": 4,
   "id": "375c9d95",
   "metadata": {},
   "outputs": [
    {
     "data": {
      "text/html": [
       "<div>\n",
       "<style scoped>\n",
       "    .dataframe tbody tr th:only-of-type {\n",
       "        vertical-align: middle;\n",
       "    }\n",
       "\n",
       "    .dataframe tbody tr th {\n",
       "        vertical-align: top;\n",
       "    }\n",
       "\n",
       "    .dataframe thead th {\n",
       "        text-align: right;\n",
       "    }\n",
       "</style>\n",
       "<table border=\"1\" class=\"dataframe\">\n",
       "  <thead>\n",
       "    <tr style=\"text-align: right;\">\n",
       "      <th></th>\n",
       "      <th>order_id</th>\n",
       "      <th>user_id</th>\n",
       "      <th>order_number</th>\n",
       "      <th>orders_day_of_week</th>\n",
       "      <th>order_hour_of_day</th>\n",
       "      <th>days_since_prior_order</th>\n",
       "      <th>product_id</th>\n",
       "      <th>add_to_cart_order</th>\n",
       "      <th>reordered</th>\n",
       "      <th>product_name</th>\n",
       "      <th>...</th>\n",
       "      <th>frequency_flag</th>\n",
       "      <th>family_name</th>\n",
       "      <th>gender</th>\n",
       "      <th>state</th>\n",
       "      <th>age</th>\n",
       "      <th>number_of_dependents</th>\n",
       "      <th>family_status</th>\n",
       "      <th>income</th>\n",
       "      <th>region</th>\n",
       "      <th>exclusion_flag</th>\n",
       "    </tr>\n",
       "  </thead>\n",
       "  <tbody>\n",
       "    <tr>\n",
       "      <th>4</th>\n",
       "      <td>431534</td>\n",
       "      <td>1</td>\n",
       "      <td>5</td>\n",
       "      <td>4</td>\n",
       "      <td>15</td>\n",
       "      <td>28.0</td>\n",
       "      <td>196</td>\n",
       "      <td>1</td>\n",
       "      <td>1</td>\n",
       "      <td>Soda</td>\n",
       "      <td>...</td>\n",
       "      <td>Regular customer</td>\n",
       "      <td>Nguyen</td>\n",
       "      <td>Female</td>\n",
       "      <td>Alabama</td>\n",
       "      <td>31</td>\n",
       "      <td>3</td>\n",
       "      <td>married</td>\n",
       "      <td>40423</td>\n",
       "      <td>Region 3</td>\n",
       "      <td>high_activity_customers</td>\n",
       "    </tr>\n",
       "    <tr>\n",
       "      <th>5</th>\n",
       "      <td>3367565</td>\n",
       "      <td>1</td>\n",
       "      <td>6</td>\n",
       "      <td>2</td>\n",
       "      <td>7</td>\n",
       "      <td>19.0</td>\n",
       "      <td>196</td>\n",
       "      <td>1</td>\n",
       "      <td>1</td>\n",
       "      <td>Soda</td>\n",
       "      <td>...</td>\n",
       "      <td>Regular customer</td>\n",
       "      <td>Nguyen</td>\n",
       "      <td>Female</td>\n",
       "      <td>Alabama</td>\n",
       "      <td>31</td>\n",
       "      <td>3</td>\n",
       "      <td>married</td>\n",
       "      <td>40423</td>\n",
       "      <td>Region 3</td>\n",
       "      <td>high_activity_customers</td>\n",
       "    </tr>\n",
       "    <tr>\n",
       "      <th>6</th>\n",
       "      <td>550135</td>\n",
       "      <td>1</td>\n",
       "      <td>7</td>\n",
       "      <td>1</td>\n",
       "      <td>9</td>\n",
       "      <td>20.0</td>\n",
       "      <td>196</td>\n",
       "      <td>1</td>\n",
       "      <td>1</td>\n",
       "      <td>Soda</td>\n",
       "      <td>...</td>\n",
       "      <td>Regular customer</td>\n",
       "      <td>Nguyen</td>\n",
       "      <td>Female</td>\n",
       "      <td>Alabama</td>\n",
       "      <td>31</td>\n",
       "      <td>3</td>\n",
       "      <td>married</td>\n",
       "      <td>40423</td>\n",
       "      <td>Region 3</td>\n",
       "      <td>high_activity_customers</td>\n",
       "    </tr>\n",
       "    <tr>\n",
       "      <th>7</th>\n",
       "      <td>3108588</td>\n",
       "      <td>1</td>\n",
       "      <td>8</td>\n",
       "      <td>1</td>\n",
       "      <td>14</td>\n",
       "      <td>14.0</td>\n",
       "      <td>196</td>\n",
       "      <td>2</td>\n",
       "      <td>1</td>\n",
       "      <td>Soda</td>\n",
       "      <td>...</td>\n",
       "      <td>Regular customer</td>\n",
       "      <td>Nguyen</td>\n",
       "      <td>Female</td>\n",
       "      <td>Alabama</td>\n",
       "      <td>31</td>\n",
       "      <td>3</td>\n",
       "      <td>married</td>\n",
       "      <td>40423</td>\n",
       "      <td>Region 3</td>\n",
       "      <td>high_activity_customers</td>\n",
       "    </tr>\n",
       "    <tr>\n",
       "      <th>8</th>\n",
       "      <td>2295261</td>\n",
       "      <td>1</td>\n",
       "      <td>9</td>\n",
       "      <td>1</td>\n",
       "      <td>16</td>\n",
       "      <td>0.0</td>\n",
       "      <td>196</td>\n",
       "      <td>4</td>\n",
       "      <td>1</td>\n",
       "      <td>Soda</td>\n",
       "      <td>...</td>\n",
       "      <td>Regular customer</td>\n",
       "      <td>Nguyen</td>\n",
       "      <td>Female</td>\n",
       "      <td>Alabama</td>\n",
       "      <td>31</td>\n",
       "      <td>3</td>\n",
       "      <td>married</td>\n",
       "      <td>40423</td>\n",
       "      <td>Region 3</td>\n",
       "      <td>high_activity_customers</td>\n",
       "    </tr>\n",
       "  </tbody>\n",
       "</table>\n",
       "<p>5 rows × 32 columns</p>\n",
       "</div>"
      ],
      "text/plain": [
       "   order_id  user_id  order_number  orders_day_of_week  order_hour_of_day  \\\n",
       "4    431534        1             5                   4                 15   \n",
       "5   3367565        1             6                   2                  7   \n",
       "6    550135        1             7                   1                  9   \n",
       "7   3108588        1             8                   1                 14   \n",
       "8   2295261        1             9                   1                 16   \n",
       "\n",
       "   days_since_prior_order  product_id  add_to_cart_order  reordered  \\\n",
       "4                    28.0         196                  1          1   \n",
       "5                    19.0         196                  1          1   \n",
       "6                    20.0         196                  1          1   \n",
       "7                    14.0         196                  2          1   \n",
       "8                     0.0         196                  4          1   \n",
       "\n",
       "  product_name  ...    frequency_flag  family_name  gender    state age  \\\n",
       "4         Soda  ...  Regular customer       Nguyen  Female  Alabama  31   \n",
       "5         Soda  ...  Regular customer       Nguyen  Female  Alabama  31   \n",
       "6         Soda  ...  Regular customer       Nguyen  Female  Alabama  31   \n",
       "7         Soda  ...  Regular customer       Nguyen  Female  Alabama  31   \n",
       "8         Soda  ...  Regular customer       Nguyen  Female  Alabama  31   \n",
       "\n",
       "  number_of_dependents family_status  income     region  \\\n",
       "4                    3       married   40423  Region 3    \n",
       "5                    3       married   40423  Region 3    \n",
       "6                    3       married   40423  Region 3    \n",
       "7                    3       married   40423  Region 3    \n",
       "8                    3       married   40423  Region 3    \n",
       "\n",
       "            exclusion_flag  \n",
       "4  high_activity_customers  \n",
       "5  high_activity_customers  \n",
       "6  high_activity_customers  \n",
       "7  high_activity_customers  \n",
       "8  high_activity_customers  \n",
       "\n",
       "[5 rows x 32 columns]"
      ]
     },
     "execution_count": 4,
     "metadata": {},
     "output_type": "execute_result"
    }
   ],
   "source": [
    "df.head()"
   ]
  },
  {
   "cell_type": "code",
   "execution_count": 5,
   "id": "58dc38ba",
   "metadata": {},
   "outputs": [
    {
     "name": "stdout",
     "output_type": "stream",
     "text": [
      "<class 'pandas.core.frame.DataFrame'>\n",
      "Int64Index: 24414877 entries, 4 to 32404858\n",
      "Data columns (total 32 columns):\n",
      " #   Column                  Dtype  \n",
      "---  ------                  -----  \n",
      " 0   order_id                int64  \n",
      " 1   user_id                 int64  \n",
      " 2   order_number            int64  \n",
      " 3   orders_day_of_week      int64  \n",
      " 4   order_hour_of_day       int64  \n",
      " 5   days_since_prior_order  float64\n",
      " 6   product_id              int64  \n",
      " 7   add_to_cart_order       int64  \n",
      " 8   reordered               int64  \n",
      " 9   product_name            object \n",
      " 10  aisle_id                int64  \n",
      " 11  department_id           int64  \n",
      " 12  prices                  float64\n",
      " 13  price_range_loc         object \n",
      " 14  busiest_day             object \n",
      " 15  busiest_days            object \n",
      " 16  busiest_period_of_day   object \n",
      " 17  max_order               int64  \n",
      " 18  loyalty_flag            object \n",
      " 19  mean_price              float64\n",
      " 20  spender_flag            object \n",
      " 21  median_order            float64\n",
      " 22  frequency_flag          object \n",
      " 23  family_name             object \n",
      " 24  gender                  object \n",
      " 25  state                   object \n",
      " 26  age                     int64  \n",
      " 27  number_of_dependents    int64  \n",
      " 28  family_status           object \n",
      " 29  income                  int64  \n",
      " 30  region                  object \n",
      " 31  exclusion_flag          object \n",
      "dtypes: float64(4), int64(14), object(14)\n",
      "memory usage: 6.0+ GB\n"
     ]
    }
   ],
   "source": [
    "df.info()"
   ]
  },
  {
   "cell_type": "code",
   "execution_count": 6,
   "id": "d6ba5f07",
   "metadata": {},
   "outputs": [
    {
     "data": {
      "text/plain": [
       "order_id                     0\n",
       "user_id                      0\n",
       "order_number                 0\n",
       "orders_day_of_week           0\n",
       "order_hour_of_day            0\n",
       "days_since_prior_order       0\n",
       "product_id                   0\n",
       "add_to_cart_order            0\n",
       "reordered                    0\n",
       "product_name                 0\n",
       "aisle_id                     0\n",
       "department_id                0\n",
       "prices                    3711\n",
       "price_range_loc              0\n",
       "busiest_day                  0\n",
       "busiest_days                 0\n",
       "busiest_period_of_day        0\n",
       "max_order                    0\n",
       "loyalty_flag                 0\n",
       "mean_price                   0\n",
       "spender_flag                 0\n",
       "median_order                 0\n",
       "frequency_flag               0\n",
       "family_name                  0\n",
       "gender                       0\n",
       "state                        0\n",
       "age                          0\n",
       "number_of_dependents         0\n",
       "family_status                0\n",
       "income                       0\n",
       "region                       0\n",
       "exclusion_flag               0\n",
       "dtype: int64"
      ]
     },
     "execution_count": 6,
     "metadata": {},
     "output_type": "execute_result"
    }
   ],
   "source": [
    "#check for NaN values\n",
    "df.isna().sum()"
   ]
  },
  {
   "cell_type": "code",
   "execution_count": 7,
   "id": "e65b0e52",
   "metadata": {},
   "outputs": [],
   "source": [
    "# dropping missing values\n",
    "df.dropna(subset = ['prices'], inplace = True)"
   ]
  },
  {
   "cell_type": "code",
   "execution_count": 8,
   "id": "6efca510",
   "metadata": {},
   "outputs": [
    {
     "data": {
      "text/plain": [
       "order_id                  0\n",
       "user_id                   0\n",
       "order_number              0\n",
       "orders_day_of_week        0\n",
       "order_hour_of_day         0\n",
       "days_since_prior_order    0\n",
       "product_id                0\n",
       "add_to_cart_order         0\n",
       "reordered                 0\n",
       "product_name              0\n",
       "aisle_id                  0\n",
       "department_id             0\n",
       "prices                    0\n",
       "price_range_loc           0\n",
       "busiest_day               0\n",
       "busiest_days              0\n",
       "busiest_period_of_day     0\n",
       "max_order                 0\n",
       "loyalty_flag              0\n",
       "mean_price                0\n",
       "spender_flag              0\n",
       "median_order              0\n",
       "frequency_flag            0\n",
       "family_name               0\n",
       "gender                    0\n",
       "state                     0\n",
       "age                       0\n",
       "number_of_dependents      0\n",
       "family_status             0\n",
       "income                    0\n",
       "region                    0\n",
       "exclusion_flag            0\n",
       "dtype: int64"
      ]
     },
     "execution_count": 8,
     "metadata": {},
     "output_type": "execute_result"
    }
   ],
   "source": [
    "df.isna().sum()"
   ]
  },
  {
   "cell_type": "markdown",
   "id": "83671c6e",
   "metadata": {},
   "source": [
    "## Q2 - Consider any security implications that might exist for this new data. You’ll need to address any PII data in the data before continuing your analysis."
   ]
  },
  {
   "cell_type": "markdown",
   "id": "7554c117",
   "metadata": {},
   "source": [
    "The dataset contains sensitive data; personal details of customers like their names, these data are considered personally identifiable information (PII). Extra care should be given to these types of data from storing to sharing. As such, the first names and surname columns would dropped.\n"
   ]
  },
  {
   "cell_type": "code",
   "execution_count": 9,
   "id": "20166c5c",
   "metadata": {},
   "outputs": [
    {
     "data": {
      "text/plain": [
       "Index(['order_id', 'user_id', 'order_number', 'orders_day_of_week',\n",
       "       'order_hour_of_day', 'days_since_prior_order', 'product_id',\n",
       "       'add_to_cart_order', 'reordered', 'product_name', 'aisle_id',\n",
       "       'department_id', 'prices', 'price_range_loc', 'busiest_day',\n",
       "       'busiest_days', 'busiest_period_of_day', 'max_order', 'loyalty_flag',\n",
       "       'mean_price', 'spender_flag', 'median_order', 'frequency_flag',\n",
       "       'family_name', 'gender', 'state', 'age', 'number_of_dependents',\n",
       "       'family_status', 'income', 'region', 'exclusion_flag'],\n",
       "      dtype='object')"
      ]
     },
     "execution_count": 9,
     "metadata": {},
     "output_type": "execute_result"
    }
   ],
   "source": [
    "df.columns"
   ]
  },
  {
   "cell_type": "code",
   "execution_count": 10,
   "id": "56b96414",
   "metadata": {},
   "outputs": [],
   "source": [
    "df.drop(columns = ['family_name'], inplace = True)"
   ]
  },
  {
   "cell_type": "markdown",
   "id": "57f21982",
   "metadata": {},
   "source": [
    "## Q3 - The Instacart officers are interested in comparing customer behavior in different geographic areas. Create a regional segmentation of the data. You’ll need to create a “Region” column based on the “State” column from your customers data set."
   ]
  },
  {
   "cell_type": "markdown",
   "id": "6e3d9e29",
   "metadata": {},
   "source": [
    "#### Use the region information in this Wikipedia article to create your column (you only need to create regions, not divisions)."
   ]
  },
  {
   "cell_type": "code",
   "execution_count": 11,
   "id": "3a5866c2",
   "metadata": {},
   "outputs": [
    {
     "data": {
      "text/plain": [
       "Pennsylvania            509414\n",
       "California              503795\n",
       "Rhode Island            499198\n",
       "Georgia                 499161\n",
       "Arizona                 495906\n",
       "New Mexico              495783\n",
       "Oklahoma                495047\n",
       "North Carolina          494001\n",
       "Minnesota               491025\n",
       "Alaska                  490775\n",
       "Massachusetts           489489\n",
       "Wyoming                 487032\n",
       "Virginia                485221\n",
       "Texas                   484395\n",
       "Missouri                484300\n",
       "Colorado                483936\n",
       "Maine                   482167\n",
       "Alabama                 480826\n",
       "North Dakota            480814\n",
       "Delaware                480479\n",
       "South Carolina          480322\n",
       "Nevada                  480186\n",
       "Kansas                  480002\n",
       "Washington              479353\n",
       "Louisiana               479332\n",
       "New York                478701\n",
       "Oregon                  478601\n",
       "Arkansas                477291\n",
       "Montana                 476900\n",
       "Hawaii                  475777\n",
       "South Dakota            475760\n",
       "Illinois                475106\n",
       "Mississippi             474691\n",
       "Kentucky                474586\n",
       "Florida                 473630\n",
       "Michigan                473470\n",
       "Maryland                472162\n",
       "Wisconsin               471084\n",
       "Indiana                 471032\n",
       "New Jersey              470124\n",
       "Nebraska                469700\n",
       "Ohio                    469372\n",
       "Iowa                    469131\n",
       "Connecticut             467206\n",
       "Tennessee               462123\n",
       "New Hampshire           460903\n",
       "District of Columbia    459908\n",
       "Utah                    458209\n",
       "Vermont                 457481\n",
       "West Virginia           454608\n",
       "Idaho                   451651\n",
       "Name: state, dtype: int64"
      ]
     },
     "execution_count": 11,
     "metadata": {},
     "output_type": "execute_result"
    }
   ],
   "source": [
    "df['state'].value_counts()"
   ]
  },
  {
   "cell_type": "code",
   "execution_count": 12,
   "id": "318ba182",
   "metadata": {},
   "outputs": [],
   "source": [
    "# Assigning region to each state\n",
    "region = []\n",
    "\n",
    "for state in df['state']:\n",
    "    if (state == 'Maine') or (state == 'New Hampshire') or (state == 'Vermont') or (state == 'Massachusetts') or (state == 'Rhode Island') or (state == 'Connecticut') or (state == 'New York') or (state == 'Pennsylvania') or (state == 'New Jersey'):\n",
    "        region.append('Northeast')\n",
    "    elif (state == 'Wisconsin') or (state == 'Michigan') or (state == 'Illinois') or (state == 'Indiana') or (state == 'Ohio') or (state == 'North Dakota') or (state == 'South Dakota') or (state == 'Nebraska') or (state == 'Kansas') or (state == 'Minnesota') or (state == 'Iowa') or (state == 'Missouri'):\n",
    "        region.append('Midwest')\n",
    "    elif (state == 'Delaware') or (state == 'Maryland') or (state == 'District of Columbia') or (state == 'Virginia') or (state == 'West Virginia') or (state == 'North Carolina') or (state == 'South Carolina') or (state == 'Georgia') or (state == 'Florida') or (state == 'Kentucky') or (state == 'Tennessee') or (state == 'Mississippi') or (state == 'Alabama') or (state == 'Oklahoma') or (state == 'Texas') or (state == 'Arkansas') or (state == 'Louisiana'):\n",
    "        region.append('South')\n",
    "    elif (state == 'Idaho') or (state == 'Montana') or (state == 'Wyoming') or (state == 'Nevada') or (state == 'Utah') or (state == 'Colorado') or (state == 'Arizona') or (state == 'New Mexico') or (state == 'Alaska') or (state == 'Washington') or (state == 'Oregon') or (state == 'California') or (state == 'Hawaii'):\n",
    "        region.append('West')\n",
    "    else:\n",
    "        region.append('Stateless')"
   ]
  },
  {
   "cell_type": "code",
   "execution_count": 13,
   "id": "7d568582",
   "metadata": {},
   "outputs": [],
   "source": [
    "df['Region'] = region"
   ]
  },
  {
   "cell_type": "code",
   "execution_count": 14,
   "id": "dad3cf1e",
   "metadata": {},
   "outputs": [
    {
     "data": {
      "text/plain": [
       "South        8127783\n",
       "West         6257904\n",
       "Midwest      5710796\n",
       "Northeast    4314683\n",
       "Name: Region, dtype: int64"
      ]
     },
     "execution_count": 14,
     "metadata": {},
     "output_type": "execute_result"
    }
   ],
   "source": [
    "df['Region'].value_counts()"
   ]
  },
  {
   "cell_type": "markdown",
   "id": "549233a3",
   "metadata": {},
   "source": [
    "#### Determine whether there’s a difference in spending habits between the different U.S. regions. "
   ]
  },
  {
   "cell_type": "code",
   "execution_count": 15,
   "id": "5eb72013",
   "metadata": {},
   "outputs": [],
   "source": [
    "# Crossing the varibale region and spender_flag to see if there is spending habit\n",
    "crosstab_region_spend = pd.crosstab(df['Region'], df['spender_flag'], dropna = False)"
   ]
  },
  {
   "cell_type": "code",
   "execution_count": 16,
   "id": "54a24bd1",
   "metadata": {},
   "outputs": [
    {
     "data": {
      "text/html": [
       "<div>\n",
       "<style scoped>\n",
       "    .dataframe tbody tr th:only-of-type {\n",
       "        vertical-align: middle;\n",
       "    }\n",
       "\n",
       "    .dataframe tbody tr th {\n",
       "        vertical-align: top;\n",
       "    }\n",
       "\n",
       "    .dataframe thead th {\n",
       "        text-align: right;\n",
       "    }\n",
       "</style>\n",
       "<table border=\"1\" class=\"dataframe\">\n",
       "  <thead>\n",
       "    <tr style=\"text-align: right;\">\n",
       "      <th>spender_flag</th>\n",
       "      <th>High spender</th>\n",
       "      <th>Low spender</th>\n",
       "    </tr>\n",
       "    <tr>\n",
       "      <th>Region</th>\n",
       "      <th></th>\n",
       "      <th></th>\n",
       "    </tr>\n",
       "  </thead>\n",
       "  <tbody>\n",
       "    <tr>\n",
       "      <th>Midwest</th>\n",
       "      <td>118248</td>\n",
       "      <td>5592548</td>\n",
       "    </tr>\n",
       "    <tr>\n",
       "      <th>Northeast</th>\n",
       "      <td>82029</td>\n",
       "      <td>4232654</td>\n",
       "    </tr>\n",
       "    <tr>\n",
       "      <th>South</th>\n",
       "      <td>157899</td>\n",
       "      <td>7969884</td>\n",
       "    </tr>\n",
       "    <tr>\n",
       "      <th>West</th>\n",
       "      <td>120826</td>\n",
       "      <td>6137078</td>\n",
       "    </tr>\n",
       "  </tbody>\n",
       "</table>\n",
       "</div>"
      ],
      "text/plain": [
       "spender_flag  High spender  Low spender\n",
       "Region                                 \n",
       "Midwest             118248      5592548\n",
       "Northeast            82029      4232654\n",
       "South               157899      7969884\n",
       "West                120826      6137078"
      ]
     },
     "execution_count": 16,
     "metadata": {},
     "output_type": "execute_result"
    }
   ],
   "source": [
    "crosstab_region_spend"
   ]
  },
  {
   "cell_type": "code",
   "execution_count": 17,
   "id": "d78bcf72",
   "metadata": {},
   "outputs": [],
   "source": [
    "crosstab_region_spend.to_clipboard()"
   ]
  },
  {
   "cell_type": "markdown",
   "id": "c2054544",
   "metadata": {},
   "source": [
    "## Q4. Create an exclusion flag for low-activity customers (customers with less than 5 orders) and exclude them from the data. Make sure you export this sample."
   ]
  },
  {
   "cell_type": "code",
   "execution_count": 18,
   "id": "9193561c",
   "metadata": {},
   "outputs": [],
   "source": [
    "df.loc[df['order_number'] < 5, 'exclusion_flag'] = 'low_activity_customers'"
   ]
  },
  {
   "cell_type": "code",
   "execution_count": 19,
   "id": "e5aea1e2",
   "metadata": {},
   "outputs": [],
   "source": [
    "df.loc[df['order_number'] >= 5, 'exclusion_flag'] = 'high_activity_customers'"
   ]
  },
  {
   "cell_type": "code",
   "execution_count": 20,
   "id": "6a383b6a",
   "metadata": {},
   "outputs": [
    {
     "data": {
      "text/plain": [
       "high_activity_customers    24411166\n",
       "Name: exclusion_flag, dtype: int64"
      ]
     },
     "execution_count": 20,
     "metadata": {},
     "output_type": "execute_result"
    }
   ],
   "source": [
    "df['exclusion_flag'].value_counts(dropna=False)"
   ]
  },
  {
   "cell_type": "code",
   "execution_count": 21,
   "id": "e8476511",
   "metadata": {},
   "outputs": [],
   "source": [
    "# create new variable for low activity customers\n",
    "low_activity_cust_df = df[df['exclusion_flag'] == 'low_activity_customers']"
   ]
  },
  {
   "cell_type": "code",
   "execution_count": 22,
   "id": "76e58c3d",
   "metadata": {},
   "outputs": [
    {
     "data": {
      "text/html": [
       "<div>\n",
       "<style scoped>\n",
       "    .dataframe tbody tr th:only-of-type {\n",
       "        vertical-align: middle;\n",
       "    }\n",
       "\n",
       "    .dataframe tbody tr th {\n",
       "        vertical-align: top;\n",
       "    }\n",
       "\n",
       "    .dataframe thead th {\n",
       "        text-align: right;\n",
       "    }\n",
       "</style>\n",
       "<table border=\"1\" class=\"dataframe\">\n",
       "  <thead>\n",
       "    <tr style=\"text-align: right;\">\n",
       "      <th></th>\n",
       "      <th>order_id</th>\n",
       "      <th>user_id</th>\n",
       "      <th>order_number</th>\n",
       "      <th>orders_day_of_week</th>\n",
       "      <th>order_hour_of_day</th>\n",
       "      <th>days_since_prior_order</th>\n",
       "      <th>product_id</th>\n",
       "      <th>add_to_cart_order</th>\n",
       "      <th>reordered</th>\n",
       "      <th>product_name</th>\n",
       "      <th>...</th>\n",
       "      <th>frequency_flag</th>\n",
       "      <th>gender</th>\n",
       "      <th>state</th>\n",
       "      <th>age</th>\n",
       "      <th>number_of_dependents</th>\n",
       "      <th>family_status</th>\n",
       "      <th>income</th>\n",
       "      <th>region</th>\n",
       "      <th>exclusion_flag</th>\n",
       "      <th>Region</th>\n",
       "    </tr>\n",
       "  </thead>\n",
       "  <tbody>\n",
       "  </tbody>\n",
       "</table>\n",
       "<p>0 rows × 32 columns</p>\n",
       "</div>"
      ],
      "text/plain": [
       "Empty DataFrame\n",
       "Columns: [order_id, user_id, order_number, orders_day_of_week, order_hour_of_day, days_since_prior_order, product_id, add_to_cart_order, reordered, product_name, aisle_id, department_id, prices, price_range_loc, busiest_day, busiest_days, busiest_period_of_day, max_order, loyalty_flag, mean_price, spender_flag, median_order, frequency_flag, gender, state, age, number_of_dependents, family_status, income, region, exclusion_flag, Region]\n",
       "Index: []\n",
       "\n",
       "[0 rows x 32 columns]"
      ]
     },
     "execution_count": 22,
     "metadata": {},
     "output_type": "execute_result"
    }
   ],
   "source": [
    "low_activity_cust_df.head()"
   ]
  },
  {
   "cell_type": "code",
   "execution_count": 23,
   "id": "2b14eba9",
   "metadata": {},
   "outputs": [],
   "source": [
    "# Export low_activity customers dataset\n",
    "low_activity_cust_df.to_pickle(os.path.join(path, '02 Data','Prepared Data', 'low_activity_customers.pkl'))"
   ]
  },
  {
   "cell_type": "code",
   "execution_count": 24,
   "id": "104a07c6",
   "metadata": {},
   "outputs": [],
   "source": [
    "#EXCLUDING THE CUSTOMERS WITH MAX ORDERS < 5\n",
    "df_cleaned =df[df['order_number'] >= 5]"
   ]
  },
  {
   "cell_type": "code",
   "execution_count": 25,
   "id": "24920b49",
   "metadata": {},
   "outputs": [
    {
     "data": {
      "text/plain": [
       "high_activity_customers    24411166\n",
       "Name: exclusion_flag, dtype: int64"
      ]
     },
     "execution_count": 25,
     "metadata": {},
     "output_type": "execute_result"
    }
   ],
   "source": [
    "df_cleaned['exclusion_flag'].value_counts(dropna=False)"
   ]
  },
  {
   "cell_type": "code",
   "execution_count": 26,
   "id": "aafd5170",
   "metadata": {},
   "outputs": [
    {
     "data": {
      "text/plain": [
       "(24411166, 32)"
      ]
     },
     "execution_count": 26,
     "metadata": {},
     "output_type": "execute_result"
    }
   ],
   "source": [
    "df_cleaned.shape"
   ]
  },
  {
   "cell_type": "code",
   "execution_count": 27,
   "id": "8649e9b1",
   "metadata": {},
   "outputs": [
    {
     "data": {
      "text/plain": [
       "Index(['order_id', 'user_id', 'order_number', 'orders_day_of_week',\n",
       "       'order_hour_of_day', 'days_since_prior_order', 'product_id',\n",
       "       'add_to_cart_order', 'reordered', 'product_name', 'aisle_id',\n",
       "       'department_id', 'prices', 'price_range_loc', 'busiest_day',\n",
       "       'busiest_days', 'busiest_period_of_day', 'max_order', 'loyalty_flag',\n",
       "       'mean_price', 'spender_flag', 'median_order', 'frequency_flag',\n",
       "       'gender', 'state', 'age', 'number_of_dependents', 'family_status',\n",
       "       'income', 'region', 'exclusion_flag', 'Region'],\n",
       "      dtype='object')"
      ]
     },
     "execution_count": 27,
     "metadata": {},
     "output_type": "execute_result"
    }
   ],
   "source": [
    "df_cleaned.columns"
   ]
  },
  {
   "cell_type": "markdown",
   "id": "4e12babf",
   "metadata": {},
   "source": [
    "## Q5. The marketing and business strategy units at Instacart want to create more-relevant marketing strategies for different products and are, thus, curious about customer profiling in their database. Create a profiling variable based on age, income, certain goods in the “department_id” column, and number of dependents."
   ]
  },
  {
   "cell_type": "code",
   "execution_count": 28,
   "id": "87251799",
   "metadata": {},
   "outputs": [],
   "source": [
    "# region/department_id\n",
    "xtb_region_dept = pd.crosstab(df_cleaned['department_id'], df_cleaned['Region'], dropna = False)"
   ]
  },
  {
   "cell_type": "code",
   "execution_count": 29,
   "id": "3aee777f",
   "metadata": {},
   "outputs": [],
   "source": [
    "# department_id/family_status\n",
    "xtb_dept_family_stat = pd.crosstab(df_cleaned['department_id'], df_cleaned['family_status'], dropna = False)"
   ]
  },
  {
   "cell_type": "code",
   "execution_count": 30,
   "id": "051f52fc",
   "metadata": {},
   "outputs": [],
   "source": [
    "# department_id/loyalty_flag\n",
    "xtb_dept_loyalty = pd.crosstab(df_cleaned['department_id'], df_cleaned['loyalty_flag'], dropna = False)"
   ]
  },
  {
   "cell_type": "code",
   "execution_count": 31,
   "id": "3f87f0f5",
   "metadata": {},
   "outputs": [],
   "source": [
    "# department_id/frequency\n",
    "xtb_dept_frequency = pd.crosstab(df_cleaned['department_id'], df_cleaned['frequency_flag'], dropna = False)"
   ]
  },
  {
   "cell_type": "code",
   "execution_count": 32,
   "id": "8ada2437",
   "metadata": {},
   "outputs": [],
   "source": [
    "#Creating a crosstab to find the relation between family_status and tpye of spenders\n",
    "xtb_family_status_spenders = pd.crosstab(df_cleaned['family_status'], df_cleaned['spender_flag'], dropna = False)"
   ]
  },
  {
   "cell_type": "code",
   "execution_count": 33,
   "id": "eedaad47",
   "metadata": {},
   "outputs": [],
   "source": [
    "# family_status/frequency_flag\n",
    "xtb_family_status_frequency = pd.crosstab(df_cleaned['family_status'], df_cleaned['frequency_flag'], dropna = False)"
   ]
  },
  {
   "cell_type": "code",
   "execution_count": 34,
   "id": "5543dd59",
   "metadata": {},
   "outputs": [],
   "source": [
    "# family_status/loyalty_flag\n",
    "xtb_family_status_loyalty = pd.crosstab(df_cleaned['family_status'], df_cleaned['loyalty_flag'], dropna = False)"
   ]
  },
  {
   "cell_type": "code",
   "execution_count": 35,
   "id": "62374b8f",
   "metadata": {},
   "outputs": [],
   "source": [
    "# family_status/region\n",
    "xtb_family_status_region  = pd.crosstab(df_cleaned['family_status'], df_cleaned['Region'], dropna = False)"
   ]
  },
  {
   "cell_type": "code",
   "execution_count": 36,
   "id": "0c6acb06",
   "metadata": {},
   "outputs": [],
   "source": [
    "# family_status/dependent\n",
    "xtb_family_status_dependent  = pd.crosstab(df_cleaned['family_status'], df_cleaned['number_of_dependents'], dropna = False)"
   ]
  },
  {
   "cell_type": "code",
   "execution_count": 37,
   "id": "463c8d35",
   "metadata": {},
   "outputs": [],
   "source": [
    "# Region/loyalty_flag\n",
    "xtb_region_loyalty = pd.crosstab(df_cleaned['Region'], df_cleaned['loyalty_flag'], dropna = False)"
   ]
  },
  {
   "cell_type": "code",
   "execution_count": 38,
   "id": "b82455a8",
   "metadata": {},
   "outputs": [],
   "source": [
    "# Region/frequency_flag\n",
    "xtb_region_frequency_flag = pd.crosstab(df_cleaned['Region'], df_cleaned['frequency_flag'], dropna = False)"
   ]
  },
  {
   "cell_type": "code",
   "execution_count": 39,
   "id": "71443c25",
   "metadata": {},
   "outputs": [],
   "source": [
    "# Region/spender_flag\n",
    "xtb_region_spender_flag = pd.crosstab(df_cleaned['Region'], df_cleaned['spender_flag'], dropna = False)"
   ]
  },
  {
   "cell_type": "code",
   "execution_count": 40,
   "id": "7c6baf16",
   "metadata": {},
   "outputs": [
    {
     "data": {
      "text/html": [
       "<div>\n",
       "<style scoped>\n",
       "    .dataframe tbody tr th:only-of-type {\n",
       "        vertical-align: middle;\n",
       "    }\n",
       "\n",
       "    .dataframe tbody tr th {\n",
       "        vertical-align: top;\n",
       "    }\n",
       "\n",
       "    .dataframe thead th {\n",
       "        text-align: right;\n",
       "    }\n",
       "</style>\n",
       "<table border=\"1\" class=\"dataframe\">\n",
       "  <thead>\n",
       "    <tr style=\"text-align: right;\">\n",
       "      <th>Region</th>\n",
       "      <th>Midwest</th>\n",
       "      <th>Northeast</th>\n",
       "      <th>South</th>\n",
       "      <th>West</th>\n",
       "    </tr>\n",
       "    <tr>\n",
       "      <th>department_id</th>\n",
       "      <th></th>\n",
       "      <th></th>\n",
       "      <th></th>\n",
       "      <th></th>\n",
       "    </tr>\n",
       "  </thead>\n",
       "  <tbody>\n",
       "    <tr>\n",
       "      <th>1</th>\n",
       "      <td>381094</td>\n",
       "      <td>283259</td>\n",
       "      <td>545809</td>\n",
       "      <td>417452</td>\n",
       "    </tr>\n",
       "    <tr>\n",
       "      <th>2</th>\n",
       "      <td>6284</td>\n",
       "      <td>4932</td>\n",
       "      <td>9200</td>\n",
       "      <td>6750</td>\n",
       "    </tr>\n",
       "    <tr>\n",
       "      <th>3</th>\n",
       "      <td>205374</td>\n",
       "      <td>157635</td>\n",
       "      <td>292772</td>\n",
       "      <td>227549</td>\n",
       "    </tr>\n",
       "    <tr>\n",
       "      <th>4</th>\n",
       "      <td>1695851</td>\n",
       "      <td>1269360</td>\n",
       "      <td>2409221</td>\n",
       "      <td>1852659</td>\n",
       "    </tr>\n",
       "    <tr>\n",
       "      <th>5</th>\n",
       "      <td>25567</td>\n",
       "      <td>18534</td>\n",
       "      <td>36253</td>\n",
       "      <td>27618</td>\n",
       "    </tr>\n",
       "    <tr>\n",
       "      <th>6</th>\n",
       "      <td>46607</td>\n",
       "      <td>34491</td>\n",
       "      <td>65417</td>\n",
       "      <td>51385</td>\n",
       "    </tr>\n",
       "    <tr>\n",
       "      <th>7</th>\n",
       "      <td>472243</td>\n",
       "      <td>367868</td>\n",
       "      <td>680594</td>\n",
       "      <td>515742</td>\n",
       "    </tr>\n",
       "    <tr>\n",
       "      <th>8</th>\n",
       "      <td>16481</td>\n",
       "      <td>14080</td>\n",
       "      <td>23012</td>\n",
       "      <td>18538</td>\n",
       "    </tr>\n",
       "    <tr>\n",
       "      <th>9</th>\n",
       "      <td>148529</td>\n",
       "      <td>110708</td>\n",
       "      <td>210680</td>\n",
       "      <td>163808</td>\n",
       "    </tr>\n",
       "    <tr>\n",
       "      <th>10</th>\n",
       "      <td>6488</td>\n",
       "      <td>4598</td>\n",
       "      <td>9184</td>\n",
       "      <td>7288</td>\n",
       "    </tr>\n",
       "    <tr>\n",
       "      <th>11</th>\n",
       "      <td>77792</td>\n",
       "      <td>57861</td>\n",
       "      <td>110474</td>\n",
       "      <td>82353</td>\n",
       "    </tr>\n",
       "    <tr>\n",
       "      <th>12</th>\n",
       "      <td>122137</td>\n",
       "      <td>92309</td>\n",
       "      <td>173933</td>\n",
       "      <td>135511</td>\n",
       "    </tr>\n",
       "    <tr>\n",
       "      <th>13</th>\n",
       "      <td>326376</td>\n",
       "      <td>243728</td>\n",
       "      <td>458526</td>\n",
       "      <td>356745</td>\n",
       "    </tr>\n",
       "    <tr>\n",
       "      <th>14</th>\n",
       "      <td>121761</td>\n",
       "      <td>92657</td>\n",
       "      <td>174421</td>\n",
       "      <td>136106</td>\n",
       "    </tr>\n",
       "    <tr>\n",
       "      <th>15</th>\n",
       "      <td>184194</td>\n",
       "      <td>137950</td>\n",
       "      <td>263145</td>\n",
       "      <td>202501</td>\n",
       "    </tr>\n",
       "    <tr>\n",
       "      <th>16</th>\n",
       "      <td>961340</td>\n",
       "      <td>729166</td>\n",
       "      <td>1370317</td>\n",
       "      <td>1055954</td>\n",
       "    </tr>\n",
       "    <tr>\n",
       "      <th>17</th>\n",
       "      <td>128464</td>\n",
       "      <td>96427</td>\n",
       "      <td>176971</td>\n",
       "      <td>137487</td>\n",
       "    </tr>\n",
       "    <tr>\n",
       "      <th>18</th>\n",
       "      <td>78496</td>\n",
       "      <td>59555</td>\n",
       "      <td>113970</td>\n",
       "      <td>83926</td>\n",
       "    </tr>\n",
       "    <tr>\n",
       "      <th>19</th>\n",
       "      <td>509148</td>\n",
       "      <td>389733</td>\n",
       "      <td>724967</td>\n",
       "      <td>563273</td>\n",
       "    </tr>\n",
       "    <tr>\n",
       "      <th>20</th>\n",
       "      <td>182735</td>\n",
       "      <td>139553</td>\n",
       "      <td>259644</td>\n",
       "      <td>201079</td>\n",
       "    </tr>\n",
       "    <tr>\n",
       "      <th>21</th>\n",
       "      <td>13835</td>\n",
       "      <td>10279</td>\n",
       "      <td>19273</td>\n",
       "      <td>14180</td>\n",
       "    </tr>\n",
       "  </tbody>\n",
       "</table>\n",
       "</div>"
      ],
      "text/plain": [
       "Region         Midwest  Northeast    South     West\n",
       "department_id                                      \n",
       "1               381094     283259   545809   417452\n",
       "2                 6284       4932     9200     6750\n",
       "3               205374     157635   292772   227549\n",
       "4              1695851    1269360  2409221  1852659\n",
       "5                25567      18534    36253    27618\n",
       "6                46607      34491    65417    51385\n",
       "7               472243     367868   680594   515742\n",
       "8                16481      14080    23012    18538\n",
       "9               148529     110708   210680   163808\n",
       "10                6488       4598     9184     7288\n",
       "11               77792      57861   110474    82353\n",
       "12              122137      92309   173933   135511\n",
       "13              326376     243728   458526   356745\n",
       "14              121761      92657   174421   136106\n",
       "15              184194     137950   263145   202501\n",
       "16              961340     729166  1370317  1055954\n",
       "17              128464      96427   176971   137487\n",
       "18               78496      59555   113970    83926\n",
       "19              509148     389733   724967   563273\n",
       "20              182735     139553   259644   201079\n",
       "21               13835      10279    19273    14180"
      ]
     },
     "execution_count": 40,
     "metadata": {},
     "output_type": "execute_result"
    }
   ],
   "source": [
    "#Creating a crosstab to find the relation between Department ID and Region\n",
    "xtb_dep_id_region = pd.crosstab(df_cleaned['department_id'], df_cleaned['Region'], dropna = False)\n",
    "xtb_dep_id_region"
   ]
  },
  {
   "cell_type": "markdown",
   "id": "cf02b8c0",
   "metadata": {},
   "source": [
    "## Q6. Create an appropriate visualization to show the distribution of profiles."
   ]
  },
  {
   "cell_type": "code",
   "execution_count": 41,
   "id": "eaca47a2",
   "metadata": {},
   "outputs": [
    {
     "data": {
      "text/plain": [
       "<AxesSubplot:xlabel='Region'>"
      ]
     },
     "execution_count": 41,
     "metadata": {},
     "output_type": "execute_result"
    },
    {
     "data": {
      "image/png": "[encoded data removed]",
      "text/plain": [
       "<Figure size 432x288 with 1 Axes>"
      ]
     },
     "metadata": {
      "needs_background": "light"
     },
     "output_type": "display_data"
    }
   ],
   "source": [
    "#charting the relation between Regions and loyalty_flag\n",
    "xtb_region_loyalty.plot(kind='bar', stacked=True)"
   ]
  },
  {
   "cell_type": "code",
   "execution_count": 42,
   "id": "bc30ace7",
   "metadata": {},
   "outputs": [
    {
     "data": {
      "text/plain": [
       "<AxesSubplot:xlabel='department_id'>"
      ]
     },
     "execution_count": 42,
     "metadata": {},
     "output_type": "execute_result"
    },
    {
     "data": {
      "image/png": "[encoded data removed]",
      "text/plain": [
       "<Figure size 432x288 with 1 Axes>"
      ]
     },
     "metadata": {
      "needs_background": "light"
     },
     "output_type": "display_data"
    }
   ],
   "source": [
    "#charting the relation between Regions and department_id\n",
    "xtb_dep_id_region.plot(kind='bar', stacked=True)"
   ]
  },
  {
   "cell_type": "code",
   "execution_count": 43,
   "id": "7fee4d5c",
   "metadata": {},
   "outputs": [
    {
     "data": {
      "image/png": "[encoded data removed]",
      "text/plain": [
       "<Figure size 432x288 with 1 Axes>"
      ]
     },
     "metadata": {
      "needs_background": "light"
     },
     "output_type": "display_data"
    }
   ],
   "source": [
    "bar_loyalty_region = xtb_region_loyalty.plot(kind = 'bar', stacked = False, width = 0.5)"
   ]
  },
  {
   "cell_type": "code",
   "execution_count": 113,
   "id": "210d66ee",
   "metadata": {},
   "outputs": [
    {
     "ename": "AttributeError",
     "evalue": "'DataFrame' object has no attribute 'set_xlabel'",
     "output_type": "error",
     "traceback": [
      "\u001b[1;31m---------------------------------------------------------------------------\u001b[0m",
      "\u001b[1;31mAttributeError\u001b[0m                            Traceback (most recent call last)",
      "\u001b[1;32m<ipython-input-113-bb57d7b823f1>\u001b[0m in \u001b[0;36m<module>\u001b[1;34m\u001b[0m\n\u001b[0;32m      1\u001b[0m \u001b[1;31m#charting the relation between Regions and frequency_flag\u001b[0m\u001b[1;33m\u001b[0m\u001b[1;33m\u001b[0m\u001b[1;33m\u001b[0m\u001b[0m\n\u001b[0;32m      2\u001b[0m \u001b[0mxtb_region_frequency_flag\u001b[0m\u001b[1;33m.\u001b[0m\u001b[0mplot\u001b[0m\u001b[1;33m(\u001b[0m\u001b[0mkind\u001b[0m\u001b[1;33m=\u001b[0m\u001b[1;34m'bar'\u001b[0m\u001b[1;33m,\u001b[0m \u001b[0mstacked\u001b[0m\u001b[1;33m=\u001b[0m\u001b[1;32mTrue\u001b[0m\u001b[1;33m)\u001b[0m\u001b[1;33m\u001b[0m\u001b[1;33m\u001b[0m\u001b[0m\n\u001b[1;32m----> 3\u001b[1;33m \u001b[0mxtb_region_frequency_flag\u001b[0m\u001b[1;33m.\u001b[0m\u001b[0mset_xlabel\u001b[0m\u001b[1;33m(\u001b[0m\u001b[1;34m\"Region\"\u001b[0m\u001b[1;33m)\u001b[0m\u001b[1;33m\u001b[0m\u001b[1;33m\u001b[0m\u001b[0m\n\u001b[0m\u001b[0;32m      4\u001b[0m \u001b[0mxtb_region_frequency_flag\u001b[0m\u001b[1;33m.\u001b[0m\u001b[0mset_ylabel\u001b[0m\u001b[1;33m(\u001b[0m\u001b[1;34m\"Cumulative orders in millions\"\u001b[0m\u001b[1;33m)\u001b[0m\u001b[1;33m\u001b[0m\u001b[1;33m\u001b[0m\u001b[0m\n\u001b[0;32m      5\u001b[0m \u001b[0mxtb_region_frequency_flag\u001b[0m\u001b[1;33m.\u001b[0m\u001b[0mset_title\u001b[0m\u001b[1;33m(\u001b[0m\u001b[1;34m\"Cumulative Orders per Region per Frequency flag \"\u001b[0m\u001b[1;33m)\u001b[0m\u001b[1;33m\u001b[0m\u001b[1;33m\u001b[0m\u001b[0m\n",
      "\u001b[1;32m~\\anaconda3\\lib\\site-packages\\pandas\\core\\generic.py\u001b[0m in \u001b[0;36m__getattr__\u001b[1;34m(self, name)\u001b[0m\n\u001b[0;32m   5463\u001b[0m             \u001b[1;32mif\u001b[0m \u001b[0mself\u001b[0m\u001b[1;33m.\u001b[0m\u001b[0m_info_axis\u001b[0m\u001b[1;33m.\u001b[0m\u001b[0m_can_hold_identifiers_and_holds_name\u001b[0m\u001b[1;33m(\u001b[0m\u001b[0mname\u001b[0m\u001b[1;33m)\u001b[0m\u001b[1;33m:\u001b[0m\u001b[1;33m\u001b[0m\u001b[1;33m\u001b[0m\u001b[0m\n\u001b[0;32m   5464\u001b[0m                 \u001b[1;32mreturn\u001b[0m \u001b[0mself\u001b[0m\u001b[1;33m[\u001b[0m\u001b[0mname\u001b[0m\u001b[1;33m]\u001b[0m\u001b[1;33m\u001b[0m\u001b[1;33m\u001b[0m\u001b[0m\n\u001b[1;32m-> 5465\u001b[1;33m             \u001b[1;32mreturn\u001b[0m \u001b[0mobject\u001b[0m\u001b[1;33m.\u001b[0m\u001b[0m__getattribute__\u001b[0m\u001b[1;33m(\u001b[0m\u001b[0mself\u001b[0m\u001b[1;33m,\u001b[0m \u001b[0mname\u001b[0m\u001b[1;33m)\u001b[0m\u001b[1;33m\u001b[0m\u001b[1;33m\u001b[0m\u001b[0m\n\u001b[0m\u001b[0;32m   5466\u001b[0m \u001b[1;33m\u001b[0m\u001b[0m\n\u001b[0;32m   5467\u001b[0m     \u001b[1;32mdef\u001b[0m \u001b[0m__setattr__\u001b[0m\u001b[1;33m(\u001b[0m\u001b[0mself\u001b[0m\u001b[1;33m,\u001b[0m \u001b[0mname\u001b[0m\u001b[1;33m:\u001b[0m \u001b[0mstr\u001b[0m\u001b[1;33m,\u001b[0m \u001b[0mvalue\u001b[0m\u001b[1;33m)\u001b[0m \u001b[1;33m->\u001b[0m \u001b[1;32mNone\u001b[0m\u001b[1;33m:\u001b[0m\u001b[1;33m\u001b[0m\u001b[1;33m\u001b[0m\u001b[0m\n",
      "\u001b[1;31mAttributeError\u001b[0m: 'DataFrame' object has no attribute 'set_xlabel'"
     ]
    },
    {
     "data": {
      "image/png": "[encoded data removed]",
      "text/plain": [
       "<Figure size 432x288 with 1 Axes>"
      ]
     },
     "metadata": {
      "needs_background": "light"
     },
     "output_type": "display_data"
    }
   ],
   "source": [
    "#charting the relation between Regions and frequency_flag\n",
    "xtb_region_frequency_flag.plot(kind='bar', stacked=True)\n",
    "xtb_region_frequency_flag.set_xlabel(\"Region\")\n",
    "xtb_region_frequency_flag.set_ylabel(\"Cumulative orders in millions\")\n",
    "xtb_region_frequency_flag.set_title(\"Cumulative Orders per Region per Frequency flag \")\n",
    "\n"
   ]
  },
  {
   "cell_type": "code",
   "execution_count": 127,
   "id": "76484b42",
   "metadata": {},
   "outputs": [
    {
     "data": {
      "text/plain": [
       "<AxesSubplot:title={'center':'Cumulative Orders per Region per Frequency flag'}, xlabel='Region', ylabel='Cumulative orders in millions'>"
      ]
     },
     "execution_count": 127,
     "metadata": {},
     "output_type": "execute_result"
    },
    {
     "data": {
      "image/png": "[encoded data removed]",
      "text/plain": [
       "<Figure size 432x288 with 1 Axes>"
      ]
     },
     "metadata": {
      "needs_background": "light"
     },
     "output_type": "display_data"
    }
   ],
   "source": [
    "#charting the relation between Regions and frequency_flag\n",
    "xtb_region_frequency_flag.plot(kind='bar', stacked=True, title= \"Cumulative Orders per Region per Frequency flag\", ylabel=\"Cumulative orders in millions\", xlabel= \"Region\")\n",
    "# plt.set_xlabel(\"Region\")\n",
    "# plt.set_ylabel(\"Cumulative orders in millions\")\n",
    "# plt.set_title(\"Cumulative Orders per Region per Frequency flag \")\n",
    "\n"
   ]
  },
  {
   "cell_type": "code",
   "execution_count": 45,
   "id": "1c08b459",
   "metadata": {},
   "outputs": [
    {
     "data": {
      "text/plain": [
       "<AxesSubplot:xlabel='Region'>"
      ]
     },
     "execution_count": 45,
     "metadata": {},
     "output_type": "execute_result"
    },
    {
     "data": {
      "image/png": "[encoded data removed]",
      "text/plain": [
       "<Figure size 432x288 with 1 Axes>"
      ]
     },
     "metadata": {
      "needs_background": "light"
     },
     "output_type": "display_data"
    }
   ],
   "source": [
    "#charting the relation between Regions and spender_flag\n",
    "xtb_region_spender_flag.plot(kind='bar', stacked=True)"
   ]
  },
  {
   "cell_type": "code",
   "execution_count": 46,
   "id": "cac70b21",
   "metadata": {},
   "outputs": [
    {
     "data": {
      "text/plain": [
       "<AxesSubplot:xlabel='family_status'>"
      ]
     },
     "execution_count": 46,
     "metadata": {},
     "output_type": "execute_result"
    },
    {
     "data": {
      "image/png": "[encoded data removed]",
      "text/plain": [
       "<Figure size 432x288 with 1 Axes>"
      ]
     },
     "metadata": {
      "needs_background": "light"
     },
     "output_type": "display_data"
    }
   ],
   "source": [
    "#charting the relation between family status and spender_flag\n",
    "xtb_family_status_spenders.plot(kind='bar', stacked=True)"
   ]
  },
  {
   "cell_type": "code",
   "execution_count": 47,
   "id": "69e2d4da",
   "metadata": {},
   "outputs": [
    {
     "data": {
      "text/plain": [
       "<AxesSubplot:xlabel='family_status'>"
      ]
     },
     "execution_count": 47,
     "metadata": {},
     "output_type": "execute_result"
    },
    {
     "data": {
      "image/png": "[encoded data removed]",
      "text/plain": [
       "<Figure size 432x288 with 1 Axes>"
      ]
     },
     "metadata": {
      "needs_background": "light"
     },
     "output_type": "display_data"
    }
   ],
   "source": [
    "#charting the relation between family status and frequency_flag\n",
    "xtb_family_status_frequency.plot(kind='bar', stacked=True)"
   ]
  },
  {
   "cell_type": "code",
   "execution_count": 48,
   "id": "fc4c31c8",
   "metadata": {},
   "outputs": [
    {
     "data": {
      "text/plain": [
       "<AxesSubplot:xlabel='family_status'>"
      ]
     },
     "execution_count": 48,
     "metadata": {},
     "output_type": "execute_result"
    },
    {
     "data": {
      "image/png": "[encoded data removed]",
      "text/plain": [
       "<Figure size 432x288 with 1 Axes>"
      ]
     },
     "metadata": {
      "needs_background": "light"
     },
     "output_type": "display_data"
    }
   ],
   "source": [
    "#charting the relation between family status and loyalty_flag\n",
    "xtb_family_status_loyalty.plot(kind='bar', stacked=True)"
   ]
  },
  {
   "cell_type": "code",
   "execution_count": 49,
   "id": "6d45cccd",
   "metadata": {},
   "outputs": [
    {
     "data": {
      "text/plain": [
       "<AxesSubplot:xlabel='family_status'>"
      ]
     },
     "execution_count": 49,
     "metadata": {},
     "output_type": "execute_result"
    },
    {
     "data": {
      "image/png": "[encoded data removed]",
      "text/plain": [
       "<Figure size 432x288 with 1 Axes>"
      ]
     },
     "metadata": {
      "needs_background": "light"
     },
     "output_type": "display_data"
    }
   ],
   "source": [
    "#charting the relation between family status and region\n",
    "xtb_family_status_region.plot(kind='bar', stacked=True)"
   ]
  },
  {
   "cell_type": "code",
   "execution_count": 50,
   "id": "e4e5bed8",
   "metadata": {},
   "outputs": [
    {
     "data": {
      "text/plain": [
       "<AxesSubplot:xlabel='family_status'>"
      ]
     },
     "execution_count": 50,
     "metadata": {},
     "output_type": "execute_result"
    },
    {
     "data": {
      "image/png": "[encoded data removed]",
      "text/plain": [
       "<Figure size 432x288 with 1 Axes>"
      ]
     },
     "metadata": {
      "needs_background": "light"
     },
     "output_type": "display_data"
    }
   ],
   "source": [
    "#charting the relation between family status and number of dependent\n",
    "xtb_family_status_dependent.plot(kind='bar', stacked=True)"
   ]
  },
  {
   "cell_type": "code",
   "execution_count": 51,
   "id": "fc8ff69f",
   "metadata": {},
   "outputs": [
    {
     "data": {
      "image/png": "[encoded data removed]",
      "text/plain": [
       "<Figure size 432x288 with 1 Axes>"
      ]
     },
     "metadata": {
      "needs_background": "light"
     },
     "output_type": "display_data"
    }
   ],
   "source": [
    "bar_family_dependent = xtb_family_status_dependent.plot(kind = 'bar', stacked = False, width = 0.5)"
   ]
  },
  {
   "cell_type": "code",
   "execution_count": 52,
   "id": "1bd80eec",
   "metadata": {},
   "outputs": [
    {
     "data": {
      "text/plain": [
       "<AxesSubplot:xlabel='department_id'>"
      ]
     },
     "execution_count": 52,
     "metadata": {},
     "output_type": "execute_result"
    },
    {
     "data": {
      "image/png": "[encoded data removed]",
      "text/plain": [
       "<Figure size 432x288 with 1 Axes>"
      ]
     },
     "metadata": {
      "needs_background": "light"
     },
     "output_type": "display_data"
    }
   ],
   "source": [
    "#charting the relation between department_id and loyalty_status\n",
    "xtb_dept_loyalty.plot(kind='bar', stacked=True)"
   ]
  },
  {
   "cell_type": "code",
   "execution_count": 53,
   "id": "f05c1d15",
   "metadata": {},
   "outputs": [
    {
     "data": {
      "text/plain": [
       "<AxesSubplot:xlabel='department_id'>"
      ]
     },
     "execution_count": 53,
     "metadata": {},
     "output_type": "execute_result"
    },
    {
     "data": {
      "image/png": "[encoded data removed]",
      "text/plain": [
       "<Figure size 432x288 with 1 Axes>"
      ]
     },
     "metadata": {
      "needs_background": "light"
     },
     "output_type": "display_data"
    }
   ],
   "source": [
    "#charting the relation between department_id and frequency_flag\n",
    "xtb_dept_frequency.plot(kind='bar', stacked=True)"
   ]
  },
  {
   "cell_type": "code",
   "execution_count": 54,
   "id": "399a7250",
   "metadata": {},
   "outputs": [
    {
     "data": {
      "image/png": "[encoded data removed]",
      "text/plain": [
       "<Figure size 432x288 with 1 Axes>"
      ]
     },
     "metadata": {
      "needs_background": "light"
     },
     "output_type": "display_data"
    }
   ],
   "source": [
    "#orders by department\n",
    "bar_order_dep = df_cleaned['department_id'].value_counts().plot.bar()"
   ]
  },
  {
   "cell_type": "markdown",
   "id": "dac18c36",
   "metadata": {},
   "source": [
    "## Q7. Aggregate the max, mean, and min variables on a customer-profile level for usage frequency and expenditure."
   ]
  },
  {
   "cell_type": "code",
   "execution_count": 55,
   "id": "9e19d130",
   "metadata": {},
   "outputs": [],
   "source": [
    "# aggregate user by expenditure\n",
    "agg_user_prices = df_cleaned.groupby('user_id').agg({'prices': ['mean', 'min', 'max']})"
   ]
  },
  {
   "cell_type": "code",
   "execution_count": 56,
   "id": "b46b4e01",
   "metadata": {},
   "outputs": [
    {
     "data": {
      "text/html": [
       "<div>\n",
       "<style scoped>\n",
       "    .dataframe tbody tr th:only-of-type {\n",
       "        vertical-align: middle;\n",
       "    }\n",
       "\n",
       "    .dataframe tbody tr th {\n",
       "        vertical-align: top;\n",
       "    }\n",
       "\n",
       "    .dataframe thead tr th {\n",
       "        text-align: left;\n",
       "    }\n",
       "\n",
       "    .dataframe thead tr:last-of-type th {\n",
       "        text-align: right;\n",
       "    }\n",
       "</style>\n",
       "<table border=\"1\" class=\"dataframe\">\n",
       "  <thead>\n",
       "    <tr>\n",
       "      <th></th>\n",
       "      <th colspan=\"3\" halign=\"left\">prices</th>\n",
       "    </tr>\n",
       "    <tr>\n",
       "      <th></th>\n",
       "      <th>mean</th>\n",
       "      <th>min</th>\n",
       "      <th>max</th>\n",
       "    </tr>\n",
       "    <tr>\n",
       "      <th>user_id</th>\n",
       "      <th></th>\n",
       "      <th></th>\n",
       "      <th></th>\n",
       "    </tr>\n",
       "  </thead>\n",
       "  <tbody>\n",
       "    <tr>\n",
       "      <th>1</th>\n",
       "      <td>6.697368</td>\n",
       "      <td>1.3</td>\n",
       "      <td>14.0</td>\n",
       "    </tr>\n",
       "    <tr>\n",
       "      <th>2</th>\n",
       "      <td>7.834810</td>\n",
       "      <td>1.3</td>\n",
       "      <td>14.8</td>\n",
       "    </tr>\n",
       "    <tr>\n",
       "      <th>3</th>\n",
       "      <td>8.279310</td>\n",
       "      <td>1.3</td>\n",
       "      <td>14.3</td>\n",
       "    </tr>\n",
       "    <tr>\n",
       "      <th>4</th>\n",
       "      <td>5.000000</td>\n",
       "      <td>1.4</td>\n",
       "      <td>7.5</td>\n",
       "    </tr>\n",
       "    <tr>\n",
       "      <th>7</th>\n",
       "      <td>7.754887</td>\n",
       "      <td>1.1</td>\n",
       "      <td>23.2</td>\n",
       "    </tr>\n",
       "    <tr>\n",
       "      <th>...</th>\n",
       "      <td>...</td>\n",
       "      <td>...</td>\n",
       "      <td>...</td>\n",
       "    </tr>\n",
       "    <tr>\n",
       "      <th>206203</th>\n",
       "      <td>6.330000</td>\n",
       "      <td>1.8</td>\n",
       "      <td>13.8</td>\n",
       "    </tr>\n",
       "    <tr>\n",
       "      <th>206206</th>\n",
       "      <td>7.577737</td>\n",
       "      <td>1.1</td>\n",
       "      <td>14.8</td>\n",
       "    </tr>\n",
       "    <tr>\n",
       "      <th>206207</th>\n",
       "      <td>7.712579</td>\n",
       "      <td>1.2</td>\n",
       "      <td>24.7</td>\n",
       "    </tr>\n",
       "    <tr>\n",
       "      <th>206208</th>\n",
       "      <td>8.388942</td>\n",
       "      <td>1.1</td>\n",
       "      <td>21.6</td>\n",
       "    </tr>\n",
       "    <tr>\n",
       "      <th>206209</th>\n",
       "      <td>7.055263</td>\n",
       "      <td>1.3</td>\n",
       "      <td>14.7</td>\n",
       "    </tr>\n",
       "  </tbody>\n",
       "</table>\n",
       "<p>162631 rows × 3 columns</p>\n",
       "</div>"
      ],
      "text/plain": [
       "           prices           \n",
       "             mean  min   max\n",
       "user_id                     \n",
       "1        6.697368  1.3  14.0\n",
       "2        7.834810  1.3  14.8\n",
       "3        8.279310  1.3  14.3\n",
       "4        5.000000  1.4   7.5\n",
       "7        7.754887  1.1  23.2\n",
       "...           ...  ...   ...\n",
       "206203   6.330000  1.8  13.8\n",
       "206206   7.577737  1.1  14.8\n",
       "206207   7.712579  1.2  24.7\n",
       "206208   8.388942  1.1  21.6\n",
       "206209   7.055263  1.3  14.7\n",
       "\n",
       "[162631 rows x 3 columns]"
      ]
     },
     "execution_count": 56,
     "metadata": {},
     "output_type": "execute_result"
    }
   ],
   "source": [
    "agg_user_prices"
   ]
  },
  {
   "cell_type": "code",
   "execution_count": 57,
   "id": "080fbf22",
   "metadata": {},
   "outputs": [
    {
     "data": {
      "text/html": [
       "<div>\n",
       "<style scoped>\n",
       "    .dataframe tbody tr th:only-of-type {\n",
       "        vertical-align: middle;\n",
       "    }\n",
       "\n",
       "    .dataframe tbody tr th {\n",
       "        vertical-align: top;\n",
       "    }\n",
       "\n",
       "    .dataframe thead tr th {\n",
       "        text-align: left;\n",
       "    }\n",
       "\n",
       "    .dataframe thead tr:last-of-type th {\n",
       "        text-align: right;\n",
       "    }\n",
       "</style>\n",
       "<table border=\"1\" class=\"dataframe\">\n",
       "  <thead>\n",
       "    <tr>\n",
       "      <th></th>\n",
       "      <th colspan=\"3\" halign=\"left\">days_since_prior_order</th>\n",
       "    </tr>\n",
       "    <tr>\n",
       "      <th></th>\n",
       "      <th>mean</th>\n",
       "      <th>min</th>\n",
       "      <th>max</th>\n",
       "    </tr>\n",
       "    <tr>\n",
       "      <th>user_id</th>\n",
       "      <th></th>\n",
       "      <th></th>\n",
       "      <th></th>\n",
       "    </tr>\n",
       "  </thead>\n",
       "  <tbody>\n",
       "    <tr>\n",
       "      <th>1</th>\n",
       "      <td>19.842105</td>\n",
       "      <td>0.0</td>\n",
       "      <td>30.0</td>\n",
       "    </tr>\n",
       "    <tr>\n",
       "      <th>2</th>\n",
       "      <td>17.259494</td>\n",
       "      <td>6.0</td>\n",
       "      <td>30.0</td>\n",
       "    </tr>\n",
       "    <tr>\n",
       "      <th>3</th>\n",
       "      <td>10.155172</td>\n",
       "      <td>7.0</td>\n",
       "      <td>17.0</td>\n",
       "    </tr>\n",
       "    <tr>\n",
       "      <th>4</th>\n",
       "      <td>0.000000</td>\n",
       "      <td>0.0</td>\n",
       "      <td>0.0</td>\n",
       "    </tr>\n",
       "    <tr>\n",
       "      <th>7</th>\n",
       "      <td>8.526316</td>\n",
       "      <td>2.0</td>\n",
       "      <td>28.0</td>\n",
       "    </tr>\n",
       "    <tr>\n",
       "      <th>...</th>\n",
       "      <td>...</td>\n",
       "      <td>...</td>\n",
       "      <td>...</td>\n",
       "    </tr>\n",
       "    <tr>\n",
       "      <th>206203</th>\n",
       "      <td>30.000000</td>\n",
       "      <td>30.0</td>\n",
       "      <td>30.0</td>\n",
       "    </tr>\n",
       "    <tr>\n",
       "      <th>206206</th>\n",
       "      <td>4.083942</td>\n",
       "      <td>0.0</td>\n",
       "      <td>15.0</td>\n",
       "    </tr>\n",
       "    <tr>\n",
       "      <th>206207</th>\n",
       "      <td>16.012579</td>\n",
       "      <td>1.0</td>\n",
       "      <td>30.0</td>\n",
       "    </tr>\n",
       "    <tr>\n",
       "      <th>206208</th>\n",
       "      <td>7.432859</td>\n",
       "      <td>0.0</td>\n",
       "      <td>20.0</td>\n",
       "    </tr>\n",
       "    <tr>\n",
       "      <th>206209</th>\n",
       "      <td>17.881579</td>\n",
       "      <td>3.0</td>\n",
       "      <td>30.0</td>\n",
       "    </tr>\n",
       "  </tbody>\n",
       "</table>\n",
       "<p>162631 rows × 3 columns</p>\n",
       "</div>"
      ],
      "text/plain": [
       "        days_since_prior_order            \n",
       "                          mean   min   max\n",
       "user_id                                   \n",
       "1                    19.842105   0.0  30.0\n",
       "2                    17.259494   6.0  30.0\n",
       "3                    10.155172   7.0  17.0\n",
       "4                     0.000000   0.0   0.0\n",
       "7                     8.526316   2.0  28.0\n",
       "...                        ...   ...   ...\n",
       "206203               30.000000  30.0  30.0\n",
       "206206                4.083942   0.0  15.0\n",
       "206207               16.012579   1.0  30.0\n",
       "206208                7.432859   0.0  20.0\n",
       "206209               17.881579   3.0  30.0\n",
       "\n",
       "[162631 rows x 3 columns]"
      ]
     },
     "execution_count": 57,
     "metadata": {},
     "output_type": "execute_result"
    }
   ],
   "source": [
    "# aggregate user by usage frequency\n",
    "agg_user_DPO = df_cleaned.groupby('user_id').agg({'days_since_prior_order': ['mean', 'min', 'max']})\n",
    "agg_user_DPO"
   ]
  },
  {
   "cell_type": "code",
   "execution_count": 58,
   "id": "29eb58b0",
   "metadata": {},
   "outputs": [
    {
     "data": {
      "text/html": [
       "<div>\n",
       "<style scoped>\n",
       "    .dataframe tbody tr th:only-of-type {\n",
       "        vertical-align: middle;\n",
       "    }\n",
       "\n",
       "    .dataframe tbody tr th {\n",
       "        vertical-align: top;\n",
       "    }\n",
       "\n",
       "    .dataframe thead tr th {\n",
       "        text-align: left;\n",
       "    }\n",
       "\n",
       "    .dataframe thead tr:last-of-type th {\n",
       "        text-align: right;\n",
       "    }\n",
       "</style>\n",
       "<table border=\"1\" class=\"dataframe\">\n",
       "  <thead>\n",
       "    <tr>\n",
       "      <th></th>\n",
       "      <th colspan=\"3\" halign=\"left\">prices</th>\n",
       "    </tr>\n",
       "    <tr>\n",
       "      <th></th>\n",
       "      <th>mean</th>\n",
       "      <th>min</th>\n",
       "      <th>max</th>\n",
       "    </tr>\n",
       "    <tr>\n",
       "      <th>frequency_flag</th>\n",
       "      <th></th>\n",
       "      <th></th>\n",
       "      <th></th>\n",
       "    </tr>\n",
       "  </thead>\n",
       "  <tbody>\n",
       "    <tr>\n",
       "      <th>Frequent customer</th>\n",
       "      <td>7.791924</td>\n",
       "      <td>1.0</td>\n",
       "      <td>25.0</td>\n",
       "    </tr>\n",
       "    <tr>\n",
       "      <th>Non-frequent customer</th>\n",
       "      <td>7.771731</td>\n",
       "      <td>1.0</td>\n",
       "      <td>25.0</td>\n",
       "    </tr>\n",
       "    <tr>\n",
       "      <th>Regular customer</th>\n",
       "      <td>7.790135</td>\n",
       "      <td>1.0</td>\n",
       "      <td>25.0</td>\n",
       "    </tr>\n",
       "  </tbody>\n",
       "</table>\n",
       "</div>"
      ],
      "text/plain": [
       "                         prices           \n",
       "                           mean  min   max\n",
       "frequency_flag                            \n",
       "Frequent customer      7.791924  1.0  25.0\n",
       "Non-frequent customer  7.771731  1.0  25.0\n",
       "Regular customer       7.790135  1.0  25.0"
      ]
     },
     "execution_count": 58,
     "metadata": {},
     "output_type": "execute_result"
    }
   ],
   "source": [
    "# Aggregate customer frequency by expenditure\n",
    "agg_frequency_prices= df_cleaned.groupby('frequency_flag').agg({'prices': ['mean', 'min', 'max']})\n",
    "agg_frequency_prices"
   ]
  },
  {
   "cell_type": "code",
   "execution_count": 59,
   "id": "177ea201",
   "metadata": {},
   "outputs": [
    {
     "data": {
      "text/html": [
       "<div>\n",
       "<style scoped>\n",
       "    .dataframe tbody tr th:only-of-type {\n",
       "        vertical-align: middle;\n",
       "    }\n",
       "\n",
       "    .dataframe tbody tr th {\n",
       "        vertical-align: top;\n",
       "    }\n",
       "\n",
       "    .dataframe thead tr th {\n",
       "        text-align: left;\n",
       "    }\n",
       "\n",
       "    .dataframe thead tr:last-of-type th {\n",
       "        text-align: right;\n",
       "    }\n",
       "</style>\n",
       "<table border=\"1\" class=\"dataframe\">\n",
       "  <thead>\n",
       "    <tr>\n",
       "      <th></th>\n",
       "      <th colspan=\"3\" halign=\"left\">prices</th>\n",
       "    </tr>\n",
       "    <tr>\n",
       "      <th></th>\n",
       "      <th>mean</th>\n",
       "      <th>min</th>\n",
       "      <th>max</th>\n",
       "    </tr>\n",
       "    <tr>\n",
       "      <th>loyalty_flag</th>\n",
       "      <th></th>\n",
       "      <th></th>\n",
       "      <th></th>\n",
       "    </tr>\n",
       "  </thead>\n",
       "  <tbody>\n",
       "    <tr>\n",
       "      <th>Loyal customer</th>\n",
       "      <td>7.774434</td>\n",
       "      <td>1.0</td>\n",
       "      <td>25.0</td>\n",
       "    </tr>\n",
       "    <tr>\n",
       "      <th>New customer</th>\n",
       "      <td>7.802461</td>\n",
       "      <td>1.0</td>\n",
       "      <td>25.0</td>\n",
       "    </tr>\n",
       "    <tr>\n",
       "      <th>Regular customer</th>\n",
       "      <td>7.800892</td>\n",
       "      <td>1.0</td>\n",
       "      <td>25.0</td>\n",
       "    </tr>\n",
       "  </tbody>\n",
       "</table>\n",
       "</div>"
      ],
      "text/plain": [
       "                    prices           \n",
       "                      mean  min   max\n",
       "loyalty_flag                         \n",
       "Loyal customer    7.774434  1.0  25.0\n",
       "New customer      7.802461  1.0  25.0\n",
       "Regular customer  7.800892  1.0  25.0"
      ]
     },
     "execution_count": 59,
     "metadata": {},
     "output_type": "execute_result"
    }
   ],
   "source": [
    "# Aggregate customer loyalty by expenditure\n",
    "agg_loyalty_prices= df_cleaned.groupby('loyalty_flag').agg({'prices': ['mean', 'min', 'max']})\n",
    "agg_loyalty_prices"
   ]
  },
  {
   "cell_type": "code",
   "execution_count": 60,
   "id": "e71d7110",
   "metadata": {},
   "outputs": [
    {
     "data": {
      "text/html": [
       "<div>\n",
       "<style scoped>\n",
       "    .dataframe tbody tr th:only-of-type {\n",
       "        vertical-align: middle;\n",
       "    }\n",
       "\n",
       "    .dataframe tbody tr th {\n",
       "        vertical-align: top;\n",
       "    }\n",
       "\n",
       "    .dataframe thead tr th {\n",
       "        text-align: left;\n",
       "    }\n",
       "\n",
       "    .dataframe thead tr:last-of-type th {\n",
       "        text-align: right;\n",
       "    }\n",
       "</style>\n",
       "<table border=\"1\" class=\"dataframe\">\n",
       "  <thead>\n",
       "    <tr>\n",
       "      <th></th>\n",
       "      <th colspan=\"3\" halign=\"left\">prices</th>\n",
       "    </tr>\n",
       "    <tr>\n",
       "      <th></th>\n",
       "      <th>mean</th>\n",
       "      <th>min</th>\n",
       "      <th>max</th>\n",
       "    </tr>\n",
       "    <tr>\n",
       "      <th>spender_flag</th>\n",
       "      <th></th>\n",
       "      <th></th>\n",
       "      <th></th>\n",
       "    </tr>\n",
       "  </thead>\n",
       "  <tbody>\n",
       "    <tr>\n",
       "      <th>High spender</th>\n",
       "      <td>8.158752</td>\n",
       "      <td>1.0</td>\n",
       "      <td>25.0</td>\n",
       "    </tr>\n",
       "    <tr>\n",
       "      <th>Low spender</th>\n",
       "      <td>7.783305</td>\n",
       "      <td>1.0</td>\n",
       "      <td>25.0</td>\n",
       "    </tr>\n",
       "  </tbody>\n",
       "</table>\n",
       "</div>"
      ],
      "text/plain": [
       "                prices           \n",
       "                  mean  min   max\n",
       "spender_flag                     \n",
       "High spender  8.158752  1.0  25.0\n",
       "Low spender   7.783305  1.0  25.0"
      ]
     },
     "execution_count": 60,
     "metadata": {},
     "output_type": "execute_result"
    }
   ],
   "source": [
    "# Aggregate customer spending habit by expenditure\n",
    "agg_spender_prices= df_cleaned.groupby('spender_flag').agg({'prices': ['mean', 'min', 'max']})\n",
    "agg_spender_prices"
   ]
  },
  {
   "cell_type": "code",
   "execution_count": 61,
   "id": "4835b6f2",
   "metadata": {},
   "outputs": [
    {
     "data": {
      "text/html": [
       "<div>\n",
       "<style scoped>\n",
       "    .dataframe tbody tr th:only-of-type {\n",
       "        vertical-align: middle;\n",
       "    }\n",
       "\n",
       "    .dataframe tbody tr th {\n",
       "        vertical-align: top;\n",
       "    }\n",
       "\n",
       "    .dataframe thead tr th {\n",
       "        text-align: left;\n",
       "    }\n",
       "\n",
       "    .dataframe thead tr:last-of-type th {\n",
       "        text-align: right;\n",
       "    }\n",
       "</style>\n",
       "<table border=\"1\" class=\"dataframe\">\n",
       "  <thead>\n",
       "    <tr>\n",
       "      <th></th>\n",
       "      <th colspan=\"3\" halign=\"left\">prices</th>\n",
       "    </tr>\n",
       "    <tr>\n",
       "      <th></th>\n",
       "      <th>mean</th>\n",
       "      <th>min</th>\n",
       "      <th>max</th>\n",
       "    </tr>\n",
       "    <tr>\n",
       "      <th>gender</th>\n",
       "      <th></th>\n",
       "      <th></th>\n",
       "      <th></th>\n",
       "    </tr>\n",
       "  </thead>\n",
       "  <tbody>\n",
       "    <tr>\n",
       "      <th>Female</th>\n",
       "      <td>7.789054</td>\n",
       "      <td>1.0</td>\n",
       "      <td>25.0</td>\n",
       "    </tr>\n",
       "    <tr>\n",
       "      <th>Male</th>\n",
       "      <td>7.792270</td>\n",
       "      <td>1.0</td>\n",
       "      <td>25.0</td>\n",
       "    </tr>\n",
       "  </tbody>\n",
       "</table>\n",
       "</div>"
      ],
      "text/plain": [
       "          prices           \n",
       "            mean  min   max\n",
       "gender                     \n",
       "Female  7.789054  1.0  25.0\n",
       "Male    7.792270  1.0  25.0"
      ]
     },
     "execution_count": 61,
     "metadata": {},
     "output_type": "execute_result"
    }
   ],
   "source": [
    "# Aggregate customer gender by expenditure\n",
    "agg_gender_prices= df_cleaned.groupby('gender').agg({'prices': ['mean', 'min', 'max']})\n",
    "agg_gender_prices"
   ]
  },
  {
   "cell_type": "code",
   "execution_count": 62,
   "id": "b2a05476",
   "metadata": {},
   "outputs": [
    {
     "data": {
      "text/html": [
       "<div>\n",
       "<style scoped>\n",
       "    .dataframe tbody tr th:only-of-type {\n",
       "        vertical-align: middle;\n",
       "    }\n",
       "\n",
       "    .dataframe tbody tr th {\n",
       "        vertical-align: top;\n",
       "    }\n",
       "\n",
       "    .dataframe thead tr th {\n",
       "        text-align: left;\n",
       "    }\n",
       "\n",
       "    .dataframe thead tr:last-of-type th {\n",
       "        text-align: right;\n",
       "    }\n",
       "</style>\n",
       "<table border=\"1\" class=\"dataframe\">\n",
       "  <thead>\n",
       "    <tr>\n",
       "      <th></th>\n",
       "      <th colspan=\"3\" halign=\"left\">prices</th>\n",
       "    </tr>\n",
       "    <tr>\n",
       "      <th></th>\n",
       "      <th>mean</th>\n",
       "      <th>min</th>\n",
       "      <th>max</th>\n",
       "    </tr>\n",
       "    <tr>\n",
       "      <th>family_status</th>\n",
       "      <th></th>\n",
       "      <th></th>\n",
       "      <th></th>\n",
       "    </tr>\n",
       "  </thead>\n",
       "  <tbody>\n",
       "    <tr>\n",
       "      <th>divorced/widowed</th>\n",
       "      <td>7.802878</td>\n",
       "      <td>1.0</td>\n",
       "      <td>25.0</td>\n",
       "    </tr>\n",
       "    <tr>\n",
       "      <th>living with parents and siblings</th>\n",
       "      <td>7.800691</td>\n",
       "      <td>1.0</td>\n",
       "      <td>25.0</td>\n",
       "    </tr>\n",
       "    <tr>\n",
       "      <th>married</th>\n",
       "      <td>7.789876</td>\n",
       "      <td>1.0</td>\n",
       "      <td>25.0</td>\n",
       "    </tr>\n",
       "    <tr>\n",
       "      <th>single</th>\n",
       "      <td>7.784801</td>\n",
       "      <td>1.0</td>\n",
       "      <td>25.0</td>\n",
       "    </tr>\n",
       "  </tbody>\n",
       "</table>\n",
       "</div>"
      ],
      "text/plain": [
       "                                    prices           \n",
       "                                      mean  min   max\n",
       "family_status                                        \n",
       "divorced/widowed                  7.802878  1.0  25.0\n",
       "living with parents and siblings  7.800691  1.0  25.0\n",
       "married                           7.789876  1.0  25.0\n",
       "single                            7.784801  1.0  25.0"
      ]
     },
     "execution_count": 62,
     "metadata": {},
     "output_type": "execute_result"
    }
   ],
   "source": [
    "# Aggregate customer family status by expenditure\n",
    "agg_family_prices= df_cleaned.groupby('family_status').agg({'prices': ['mean', 'min', 'max']})\n",
    "agg_family_prices"
   ]
  },
  {
   "cell_type": "code",
   "execution_count": 63,
   "id": "e2764c96",
   "metadata": {},
   "outputs": [
    {
     "data": {
      "text/html": [
       "<div>\n",
       "<style scoped>\n",
       "    .dataframe tbody tr th:only-of-type {\n",
       "        vertical-align: middle;\n",
       "    }\n",
       "\n",
       "    .dataframe tbody tr th {\n",
       "        vertical-align: top;\n",
       "    }\n",
       "\n",
       "    .dataframe thead tr th {\n",
       "        text-align: left;\n",
       "    }\n",
       "\n",
       "    .dataframe thead tr:last-of-type th {\n",
       "        text-align: right;\n",
       "    }\n",
       "</style>\n",
       "<table border=\"1\" class=\"dataframe\">\n",
       "  <thead>\n",
       "    <tr>\n",
       "      <th></th>\n",
       "      <th colspan=\"3\" halign=\"left\">prices</th>\n",
       "    </tr>\n",
       "    <tr>\n",
       "      <th></th>\n",
       "      <th>mean</th>\n",
       "      <th>min</th>\n",
       "      <th>max</th>\n",
       "    </tr>\n",
       "    <tr>\n",
       "      <th>number_of_dependents</th>\n",
       "      <th></th>\n",
       "      <th></th>\n",
       "      <th></th>\n",
       "    </tr>\n",
       "  </thead>\n",
       "  <tbody>\n",
       "    <tr>\n",
       "      <th>0</th>\n",
       "      <td>7.790987</td>\n",
       "      <td>1.0</td>\n",
       "      <td>25.0</td>\n",
       "    </tr>\n",
       "    <tr>\n",
       "      <th>1</th>\n",
       "      <td>7.793787</td>\n",
       "      <td>1.0</td>\n",
       "      <td>25.0</td>\n",
       "    </tr>\n",
       "    <tr>\n",
       "      <th>2</th>\n",
       "      <td>7.784331</td>\n",
       "      <td>1.0</td>\n",
       "      <td>25.0</td>\n",
       "    </tr>\n",
       "    <tr>\n",
       "      <th>3</th>\n",
       "      <td>7.793571</td>\n",
       "      <td>1.0</td>\n",
       "      <td>25.0</td>\n",
       "    </tr>\n",
       "  </tbody>\n",
       "</table>\n",
       "</div>"
      ],
      "text/plain": [
       "                        prices           \n",
       "                          mean  min   max\n",
       "number_of_dependents                     \n",
       "0                     7.790987  1.0  25.0\n",
       "1                     7.793787  1.0  25.0\n",
       "2                     7.784331  1.0  25.0\n",
       "3                     7.793571  1.0  25.0"
      ]
     },
     "execution_count": 63,
     "metadata": {},
     "output_type": "execute_result"
    }
   ],
   "source": [
    "# Aggregate number of dependents by expenditure\n",
    "agg_dependent_prices= df_cleaned.groupby('number_of_dependents').agg({'prices': ['mean', 'min', 'max']})\n",
    "agg_dependent_prices"
   ]
  },
  {
   "cell_type": "code",
   "execution_count": 64,
   "id": "855bc6dd",
   "metadata": {},
   "outputs": [
    {
     "data": {
      "text/html": [
       "<div>\n",
       "<style scoped>\n",
       "    .dataframe tbody tr th:only-of-type {\n",
       "        vertical-align: middle;\n",
       "    }\n",
       "\n",
       "    .dataframe tbody tr th {\n",
       "        vertical-align: top;\n",
       "    }\n",
       "\n",
       "    .dataframe thead tr th {\n",
       "        text-align: left;\n",
       "    }\n",
       "\n",
       "    .dataframe thead tr:last-of-type th {\n",
       "        text-align: right;\n",
       "    }\n",
       "</style>\n",
       "<table border=\"1\" class=\"dataframe\">\n",
       "  <thead>\n",
       "    <tr>\n",
       "      <th></th>\n",
       "      <th colspan=\"3\" halign=\"left\">prices</th>\n",
       "    </tr>\n",
       "    <tr>\n",
       "      <th></th>\n",
       "      <th>mean</th>\n",
       "      <th>min</th>\n",
       "      <th>max</th>\n",
       "    </tr>\n",
       "    <tr>\n",
       "      <th>Region</th>\n",
       "      <th></th>\n",
       "      <th></th>\n",
       "      <th></th>\n",
       "    </tr>\n",
       "  </thead>\n",
       "  <tbody>\n",
       "    <tr>\n",
       "      <th>Midwest</th>\n",
       "      <td>7.790719</td>\n",
       "      <td>1.0</td>\n",
       "      <td>25.0</td>\n",
       "    </tr>\n",
       "    <tr>\n",
       "      <th>Northeast</th>\n",
       "      <td>7.781979</td>\n",
       "      <td>1.0</td>\n",
       "      <td>25.0</td>\n",
       "    </tr>\n",
       "    <tr>\n",
       "      <th>South</th>\n",
       "      <td>7.795570</td>\n",
       "      <td>1.0</td>\n",
       "      <td>25.0</td>\n",
       "    </tr>\n",
       "    <tr>\n",
       "      <th>West</th>\n",
       "      <td>7.790263</td>\n",
       "      <td>1.0</td>\n",
       "      <td>25.0</td>\n",
       "    </tr>\n",
       "  </tbody>\n",
       "</table>\n",
       "</div>"
      ],
      "text/plain": [
       "             prices           \n",
       "               mean  min   max\n",
       "Region                        \n",
       "Midwest    7.790719  1.0  25.0\n",
       "Northeast  7.781979  1.0  25.0\n",
       "South      7.795570  1.0  25.0\n",
       "West       7.790263  1.0  25.0"
      ]
     },
     "execution_count": 64,
     "metadata": {},
     "output_type": "execute_result"
    }
   ],
   "source": [
    "# Aggregate Region by expenditure\n",
    "agg_region_prices= df_cleaned.groupby('Region').agg({'prices': ['mean', 'min', 'max']})\n",
    "agg_region_prices"
   ]
  },
  {
   "cell_type": "markdown",
   "id": "ad8e534b",
   "metadata": {},
   "source": [
    "## Q8. Compare your customer profiles with regions and departments. Can you identify a link between them? Customers may demonstrate different behaviors across regions, which could make this information important."
   ]
  },
  {
   "cell_type": "markdown",
   "id": "4d442fa6",
   "metadata": {},
   "source": [
    "## Q9.Produce suitable charts to illustrate your results and export them in your project folder."
   ]
  },
  {
   "cell_type": "code",
   "execution_count": 65,
   "id": "ce020bea",
   "metadata": {},
   "outputs": [
    {
     "data": {
      "image/png": "[encoded data removed]",
      "text/plain": [
       "<Figure size 432x288 with 1 Axes>"
      ]
     },
     "metadata": {
      "needs_background": "light"
     },
     "output_type": "display_data"
    }
   ],
   "source": [
    "#charting the relation between family status and region\n",
    "bar_family_region = xtb_family_status_region.plot(kind = 'bar', stacked = False, width = 0.5)"
   ]
  },
  {
   "cell_type": "code",
   "execution_count": 66,
   "id": "c731df88",
   "metadata": {},
   "outputs": [
    {
     "data": {
      "image/png": "[encoded data removed]",
      "text/plain": [
       "<Figure size 432x288 with 1 Axes>"
      ]
     },
     "metadata": {
      "needs_background": "light"
     },
     "output_type": "display_data"
    }
   ],
   "source": [
    "#charting the relation between customer spending habits and region\n",
    "bar_spender_region = xtb_region_spender_flag.plot(kind = 'bar', stacked = False, width = 0.5)"
   ]
  },
  {
   "cell_type": "code",
   "execution_count": 67,
   "id": "f827f6e3",
   "metadata": {},
   "outputs": [
    {
     "data": {
      "image/png": "[encoded data removed]",
      "text/plain": [
       "<Figure size 432x288 with 1 Axes>"
      ]
     },
     "metadata": {
      "needs_background": "light"
     },
     "output_type": "display_data"
    }
   ],
   "source": [
    "#charting the relation between customer frequency habits and region\n",
    "bar_frequency_region = xtb_region_frequency_flag.plot(kind = 'bar', stacked = False, width = 0.5)"
   ]
  },
  {
   "cell_type": "code",
   "execution_count": 68,
   "id": "a31519f4",
   "metadata": {},
   "outputs": [
    {
     "data": {
      "text/plain": [
       "<AxesSubplot:xlabel='department_id'>"
      ]
     },
     "execution_count": 68,
     "metadata": {},
     "output_type": "execute_result"
    },
    {
     "data": {
      "image/png": "[encoded data removed]",
      "text/plain": [
       "<Figure size 432x288 with 1 Axes>"
      ]
     },
     "metadata": {
      "needs_background": "light"
     },
     "output_type": "display_data"
    }
   ],
   "source": [
    "#charting the relation between Region and department_id\n",
    "xtb_region_dept.plot(kind='bar', stacked=True)"
   ]
  },
  {
   "cell_type": "code",
   "execution_count": 69,
   "id": "4c409bcf",
   "metadata": {},
   "outputs": [
    {
     "data": {
      "text/plain": [
       "<AxesSubplot:xlabel='department_id'>"
      ]
     },
     "execution_count": 69,
     "metadata": {},
     "output_type": "execute_result"
    },
    {
     "data": {
      "image/png": "[encoded data removed]",
      "text/plain": [
       "<Figure size 432x288 with 1 Axes>"
      ]
     },
     "metadata": {
      "needs_background": "light"
     },
     "output_type": "display_data"
    }
   ],
   "source": [
    "#charting the relation between department_id and family_status\n",
    "xtb_dept_family_stat.plot(kind='bar', stacked=True)"
   ]
  },
  {
   "cell_type": "markdown",
   "id": "c9d8e77e",
   "metadata": {},
   "source": [
    "## Additional Visualization"
   ]
  },
  {
   "cell_type": "code",
   "execution_count": 70,
   "id": "123190b0",
   "metadata": {},
   "outputs": [],
   "source": [
    "df_plot =df_cleaned[['orders_day_of_week','mean_price']]"
   ]
  },
  {
   "cell_type": "code",
   "execution_count": 71,
   "id": "25adeb22",
   "metadata": {},
   "outputs": [
    {
     "data": {
      "image/png": "[encoded data removed]",
      "text/plain": [
       "<Figure size 432x288 with 1 Axes>"
      ]
     },
     "metadata": {
      "needs_background": "light"
     },
     "output_type": "display_data"
    }
   ],
   "source": [
    "# Creating line plot for Orders and prices\n",
    "plot_ODW_prices = sns.lineplot(data = df_plot, x = 'orders_day_of_week',y = 'mean_price')"
   ]
  },
  {
   "cell_type": "code",
   "execution_count": 72,
   "id": "3f78c3da",
   "metadata": {},
   "outputs": [],
   "source": [
    "df_plot_d =df_cleaned[['order_hour_of_day','mean_price']]"
   ]
  },
  {
   "cell_type": "code",
   "execution_count": 73,
   "id": "cb862be4",
   "metadata": {},
   "outputs": [
    {
     "data": {
      "image/png": "[encoded data removed]",
      "text/plain": [
       "<Figure size 432x288 with 1 Axes>"
      ]
     },
     "metadata": {
      "needs_background": "light"
     },
     "output_type": "display_data"
    }
   ],
   "source": [
    "# Creating line plot for Orders and prices\n",
    "plot_OHD_prices = sns.lineplot(data = df_plot_d, x = 'order_hour_of_day',y = 'mean_price')"
   ]
  },
  {
   "cell_type": "code",
   "execution_count": 74,
   "id": "c19958f0",
   "metadata": {},
   "outputs": [
    {
     "data": {
      "text/plain": [
       "Mid-range product     16479445\n",
       "Low-range product      7626745\n",
       "High-range product      304976\n",
       "Name: price_range_loc, dtype: int64"
      ]
     },
     "execution_count": 74,
     "metadata": {},
     "output_type": "execute_result"
    }
   ],
   "source": [
    "# Using value_counts to prep for a product_range pie chart\n",
    "price_range_counts = df_cleaned['price_range_loc'].value_counts()\n",
    "price_range_counts"
   ]
  },
  {
   "cell_type": "code",
   "execution_count": 75,
   "id": "5b6a1421",
   "metadata": {},
   "outputs": [],
   "source": [
    "labels = 'Mid-range products', 'Low-range products', 'High-range products'\n",
    "sizes = price_range_counts\n",
    "explode = (0, 0, 0.3)"
   ]
  },
  {
   "cell_type": "code",
   "execution_count": 76,
   "id": "aea95ddb",
   "metadata": {},
   "outputs": [
    {
     "data": {
      "image/png": "[encoded data removed]",
      "text/plain": [
       "<Figure size 432x288 with 1 Axes>"
      ]
     },
     "metadata": {},
     "output_type": "display_data"
    }
   ],
   "source": [
    "fig1, ax1 = plt.subplots()\n",
    "ax1.pie(sizes, labels=labels, autopct='%1.1f%%')\n",
    "ax1.axis('equal')\n",
    "ax1.set_title('Price Range grouping of Products Sold')\n",
    "\n",
    "plt.show()"
   ]
  },
  {
   "cell_type": "code",
   "execution_count": 77,
   "id": "41429aaa",
   "metadata": {},
   "outputs": [
    {
     "data": {
      "text/plain": [
       "Frequent customer        18762178\n",
       "Regular customer          4538113\n",
       "Non-frequent customer     1110875\n",
       "Name: frequency_flag, dtype: int64"
      ]
     },
     "execution_count": 77,
     "metadata": {},
     "output_type": "execute_result"
    }
   ],
   "source": [
    "# Using value_counts for brand loyalty\n",
    "frequency_counts = df_cleaned['frequency_flag'].value_counts()\n",
    "frequency_counts"
   ]
  },
  {
   "cell_type": "code",
   "execution_count": 78,
   "id": "376f408c",
   "metadata": {},
   "outputs": [],
   "source": [
    "labels = 'Frequent customer', 'Regular customer', 'Non-frequent customer'\n",
    "sizes = frequency_counts\n",
    "explode = (0, 0, 0.3)"
   ]
  },
  {
   "cell_type": "code",
   "execution_count": 79,
   "id": "3eac65e1",
   "metadata": {},
   "outputs": [
    {
     "data": {
      "image/png": "[encoded data removed]",
      "text/plain": [
       "<Figure size 432x288 with 1 Axes>"
      ]
     },
     "metadata": {},
     "output_type": "display_data"
    }
   ],
   "source": [
    "fig1, ax1 = plt.subplots()\n",
    "ax1.pie(sizes, labels=labels, autopct='%1.1f%%')\n",
    "ax1.axis('equal')\n",
    "ax1.set_title('Distribution of users in terms brand loyalty')\n",
    "\n",
    "plt.show()"
   ]
  },
  {
   "cell_type": "code",
   "execution_count": 80,
   "id": "5cf60efb",
   "metadata": {},
   "outputs": [
    {
     "data": {
      "text/html": [
       "<div>\n",
       "<style scoped>\n",
       "    .dataframe tbody tr th:only-of-type {\n",
       "        vertical-align: middle;\n",
       "    }\n",
       "\n",
       "    .dataframe tbody tr th {\n",
       "        vertical-align: top;\n",
       "    }\n",
       "\n",
       "    .dataframe thead tr th {\n",
       "        text-align: left;\n",
       "    }\n",
       "\n",
       "    .dataframe thead tr:last-of-type th {\n",
       "        text-align: right;\n",
       "    }\n",
       "</style>\n",
       "<table border=\"1\" class=\"dataframe\">\n",
       "  <thead>\n",
       "    <tr>\n",
       "      <th></th>\n",
       "      <th colspan=\"3\" halign=\"left\">age</th>\n",
       "    </tr>\n",
       "    <tr>\n",
       "      <th></th>\n",
       "      <th>mean</th>\n",
       "      <th>min</th>\n",
       "      <th>max</th>\n",
       "    </tr>\n",
       "    <tr>\n",
       "      <th>Region</th>\n",
       "      <th></th>\n",
       "      <th></th>\n",
       "      <th></th>\n",
       "    </tr>\n",
       "  </thead>\n",
       "  <tbody>\n",
       "    <tr>\n",
       "      <th>Midwest</th>\n",
       "      <td>49.419674</td>\n",
       "      <td>18</td>\n",
       "      <td>81</td>\n",
       "    </tr>\n",
       "    <tr>\n",
       "      <th>Northeast</th>\n",
       "      <td>49.607294</td>\n",
       "      <td>18</td>\n",
       "      <td>81</td>\n",
       "    </tr>\n",
       "    <tr>\n",
       "      <th>South</th>\n",
       "      <td>49.304344</td>\n",
       "      <td>18</td>\n",
       "      <td>81</td>\n",
       "    </tr>\n",
       "    <tr>\n",
       "      <th>West</th>\n",
       "      <td>49.587194</td>\n",
       "      <td>18</td>\n",
       "      <td>81</td>\n",
       "    </tr>\n",
       "  </tbody>\n",
       "</table>\n",
       "</div>"
      ],
      "text/plain": [
       "                 age        \n",
       "                mean min max\n",
       "Region                      \n",
       "Midwest    49.419674  18  81\n",
       "Northeast  49.607294  18  81\n",
       "South      49.304344  18  81\n",
       "West       49.587194  18  81"
      ]
     },
     "execution_count": 80,
     "metadata": {},
     "output_type": "execute_result"
    }
   ],
   "source": [
    "# Aggregate Region by expenditure\n",
    "df_cleaned.groupby('Region').agg({'age': ['mean', 'min', 'max']})"
   ]
  },
  {
   "cell_type": "code",
   "execution_count": 81,
   "id": "47a38331",
   "metadata": {},
   "outputs": [],
   "source": [
    "# creating different ranges for age\n",
    "df_cleaned.loc[df_cleaned['age'] < 20, 'age_range'] = '18-19'\n",
    "df_cleaned.loc[(df_cleaned['age'] >= 20) & (df_cleaned['age'] < 30), 'age_range'] = '20s'\n",
    "df_cleaned.loc[(df_cleaned['age'] >= 30) & (df_cleaned['age'] < 40), 'age_range'] = '30s'\n",
    "df_cleaned.loc[(df_cleaned['age'] >= 40) & (df_cleaned['age'] < 50), 'age_range'] = '40s'\n",
    "df_cleaned.loc[(df_cleaned['age'] >= 50) & (df_cleaned['age'] < 60), 'age_range'] = '50s'\n",
    "df_cleaned.loc[(df_cleaned['age'] >= 60) & (df_cleaned['age'] < 70), 'age_range'] = '60s'\n",
    "df_cleaned.loc[(df_cleaned['age'] >= 70) & (df_cleaned['age'] < 80), 'age_range'] = '70s'\n",
    "df_cleaned.loc[df_cleaned['age'] >= 80, 'age_range'] = '80 and up'"
   ]
  },
  {
   "cell_type": "code",
   "execution_count": 82,
   "id": "b2752a08",
   "metadata": {},
   "outputs": [
    {
     "data": {
      "text/plain": [
       "40s          3851865\n",
       "30s          3828191\n",
       "20s          3820794\n",
       "50s          3812280\n",
       "70s          3806099\n",
       "60s          3750933\n",
       "80 and up     772317\n",
       "18-19         768687\n",
       "Name: age_range, dtype: int64"
      ]
     },
     "execution_count": 82,
     "metadata": {},
     "output_type": "execute_result"
    }
   ],
   "source": [
    "df_cleaned['age_range'].value_counts()"
   ]
  },
  {
   "cell_type": "code",
   "execution_count": 83,
   "id": "e86bc38b",
   "metadata": {},
   "outputs": [],
   "source": [
    "# Crosstab for age and region\n",
    "xtb_age_reg = pd.crosstab(df_cleaned['age_range'], df_cleaned['Region'], dropna = False)"
   ]
  },
  {
   "cell_type": "code",
   "execution_count": 84,
   "id": "dd6f6928",
   "metadata": {},
   "outputs": [
    {
     "data": {
      "text/plain": [
       "<AxesSubplot:xlabel='age_range'>"
      ]
     },
     "execution_count": 84,
     "metadata": {},
     "output_type": "execute_result"
    },
    {
     "data": {
      "image/png": "[encoded data removed]",
      "text/plain": [
       "<Figure size 432x288 with 1 Axes>"
      ]
     },
     "metadata": {
      "needs_background": "light"
     },
     "output_type": "display_data"
    }
   ],
   "source": [
    "#charting the relation between Region and age\n",
    "xtb_age_reg.plot(kind='bar', stacked=True)"
   ]
  },
  {
   "cell_type": "code",
   "execution_count": 85,
   "id": "d38238b9",
   "metadata": {},
   "outputs": [],
   "source": [
    "# Crosstab for age and department_id\n",
    "xtb_age_dept = pd.crosstab(df_cleaned['department_id'], df_cleaned['age_range'], dropna = False)"
   ]
  },
  {
   "cell_type": "code",
   "execution_count": 86,
   "id": "d9fb1029",
   "metadata": {},
   "outputs": [
    {
     "data": {
      "text/plain": [
       "<AxesSubplot:xlabel='department_id'>"
      ]
     },
     "execution_count": 86,
     "metadata": {},
     "output_type": "execute_result"
    },
    {
     "data": {
      "image/png": "[encoded data removed]",
      "text/plain": [
       "<Figure size 432x288 with 1 Axes>"
      ]
     },
     "metadata": {
      "needs_background": "light"
     },
     "output_type": "display_data"
    }
   ],
   "source": [
    "#charting the relation between age and department_id\n",
    "xtb_age_dept.plot(kind='bar', stacked=True)"
   ]
  },
  {
   "cell_type": "code",
   "execution_count": 87,
   "id": "437fcc1b",
   "metadata": {},
   "outputs": [
    {
     "data": {
      "image/png": "[encoded data removed]",
      "text/plain": [
       "<Figure size 432x288 with 1 Axes>"
      ]
     },
     "metadata": {
      "needs_background": "light"
     },
     "output_type": "display_data"
    }
   ],
   "source": [
    "bar_age_range = df_cleaned['age_range'].value_counts().sort_index().plot.bar()\n",
    "bar_age_range.set_xlabel(\"days of the week\")\n",
    "bar_age_range.set_ylabel(\"Cumulative orders in millions\")\n",
    "bar_age_range.set_title(\"Busiest Days of the Week\")"
   ]
  },
  {
   "cell_type": "code",
   "execution_count": 88,
   "id": "86fea753",
   "metadata": {},
   "outputs": [],
   "source": [
    "# Crosstab for age and family_status\n",
    "xtb_age_family_stat = pd.crosstab(df_cleaned['age_range'], df_cleaned['family_status'], dropna = False)"
   ]
  },
  {
   "cell_type": "code",
   "execution_count": 89,
   "id": "d6aec23c",
   "metadata": {},
   "outputs": [
    {
     "data": {
      "text/plain": [
       "<AxesSubplot:xlabel='age_range'>"
      ]
     },
     "execution_count": 89,
     "metadata": {},
     "output_type": "execute_result"
    },
    {
     "data": {
      "image/png": "[encoded data removed]",
      "text/plain": [
       "<Figure size 432x288 with 1 Axes>"
      ]
     },
     "metadata": {
      "needs_background": "light"
     },
     "output_type": "display_data"
    }
   ],
   "source": [
    "#charting the relation between age and family_status\n",
    "xtb_age_family_stat.plot(kind='bar', stacked=True)"
   ]
  },
  {
   "cell_type": "code",
   "execution_count": 90,
   "id": "6ac24999",
   "metadata": {},
   "outputs": [],
   "source": [
    "# age/frequency_flag\n",
    "xtb_age_freq = pd.crosstab(df_cleaned['age_range'], df_cleaned['frequency_flag'], dropna = False)"
   ]
  },
  {
   "cell_type": "code",
   "execution_count": 91,
   "id": "bf22c1be",
   "metadata": {},
   "outputs": [
    {
     "data": {
      "text/plain": [
       "<AxesSubplot:xlabel='age_range'>"
      ]
     },
     "execution_count": 91,
     "metadata": {},
     "output_type": "execute_result"
    },
    {
     "data": {
      "image/png": "[encoded data removed]",
      "text/plain": [
       "<Figure size 432x288 with 1 Axes>"
      ]
     },
     "metadata": {
      "needs_background": "light"
     },
     "output_type": "display_data"
    }
   ],
   "source": [
    "#charting the relation between age and frequency_flag\n",
    "xtb_age_freq.plot(kind='bar', stacked=True)"
   ]
  },
  {
   "cell_type": "code",
   "execution_count": 92,
   "id": "9517e0ff",
   "metadata": {},
   "outputs": [],
   "source": [
    "# department/frequency_flag\n",
    "xtb_dep_freq = pd.crosstab(df_cleaned['department_id'], df_cleaned['frequency_flag'], dropna = False)"
   ]
  },
  {
   "cell_type": "code",
   "execution_count": 93,
   "id": "7ff40d1a",
   "metadata": {},
   "outputs": [
    {
     "data": {
      "text/plain": [
       "<AxesSubplot:xlabel='department_id'>"
      ]
     },
     "execution_count": 93,
     "metadata": {},
     "output_type": "execute_result"
    },
    {
     "data": {
      "image/png": "[encoded data removed]",
      "text/plain": [
       "<Figure size 432x288 with 1 Axes>"
      ]
     },
     "metadata": {
      "needs_background": "light"
     },
     "output_type": "display_data"
    }
   ],
   "source": [
    "#charting the relation between department_id and frequency_flag\n",
    "xtb_dep_freq.plot(kind='bar', stacked=True)"
   ]
  },
  {
   "cell_type": "code",
   "execution_count": 94,
   "id": "6b8dc50f",
   "metadata": {},
   "outputs": [],
   "source": [
    "# price_range/family_status\n",
    "xtb_dep_price_range2 = pd.crosstab(df_cleaned['price_range_loc'], df_cleaned['family_status'], dropna = False)"
   ]
  },
  {
   "cell_type": "code",
   "execution_count": 95,
   "id": "1514f631",
   "metadata": {},
   "outputs": [
    {
     "data": {
      "text/plain": [
       "<AxesSubplot:xlabel='price_range_loc'>"
      ]
     },
     "execution_count": 95,
     "metadata": {},
     "output_type": "execute_result"
    },
    {
     "data": {
      "image/png": "[encoded data removed]",
      "text/plain": [
       "<Figure size 432x288 with 1 Axes>"
      ]
     },
     "metadata": {
      "needs_background": "light"
     },
     "output_type": "display_data"
    }
   ],
   "source": [
    "#charting the relation between department_id and price_range_loc\n",
    "xtb_dep_price_range2.plot(kind='bar', stacked=True)"
   ]
  },
  {
   "cell_type": "code",
   "execution_count": 115,
   "id": "b2b45ed6",
   "metadata": {},
   "outputs": [],
   "source": [
    "# Creating weekday column with loc function \n",
    "\n",
    "df_cleaned.loc[df_cleaned['orders_day_of_week'] == 0, 'weekday'] = 'Saturday'\n",
    "df_cleaned.loc[df_cleaned['orders_day_of_week'] == 1, 'weekday'] = 'Sunday'\n",
    "df_cleaned.loc[df_cleaned['orders_day_of_week'] == 2, 'weekday'] = 'Monday'\n",
    "df_cleaned.loc[df_cleaned['orders_day_of_week'] == 3, 'weekday'] = 'Tuesday'\n",
    "df_cleaned.loc[df_cleaned['orders_day_of_week'] == 4, 'weekday'] = 'Wednesday'\n",
    "df_cleaned.loc[df_cleaned['orders_day_of_week'] == 5, 'weekday'] = 'Thursday'\n",
    "df_cleaned.loc[df_cleaned['orders_day_of_week'] == 6, 'weekday'] = 'Friday'"
   ]
  },
  {
   "cell_type": "code",
   "execution_count": 118,
   "id": "13ff166d",
   "metadata": {},
   "outputs": [
    {
     "data": {
      "text/plain": [
       "Text(0.5, 1.0, 'Busiest Days of the Week')"
      ]
     },
     "execution_count": 118,
     "metadata": {},
     "output_type": "execute_result"
    },
    {
     "data": {
      "image/png": "[encoded data removed]",
      "text/plain": [
       "<Figure size 432x288 with 1 Axes>"
      ]
     },
     "metadata": {
      "needs_background": "light"
     },
     "output_type": "display_data"
    }
   ],
   "source": [
    "# Adding details to visualization\n",
    "bar_ords_day = df_cleaned['weekday'].value_counts().plot.bar()\n",
    "bar_ords_day.set_xlabel(\"days of the week\")\n",
    "bar_ords_day.set_ylabel(\"Cumulative orders in millions\")\n",
    "bar_ords_day.set_title(\"Busiest Days of the Week\")"
   ]
  },
  {
   "cell_type": "code",
   "execution_count": 99,
   "id": "85596545",
   "metadata": {},
   "outputs": [
    {
     "data": {
      "text/plain": [
       "Text(0.5, 1.0, 'Busiest Hours of the Day')"
      ]
     },
     "execution_count": 99,
     "metadata": {},
     "output_type": "execute_result"
    },
    {
     "data": {
      "image/png": "[encoded data removed]",
      "text/plain": [
       "<Figure size 432x288 with 1 Axes>"
      ]
     },
     "metadata": {
      "needs_background": "light"
     },
     "output_type": "display_data"
    }
   ],
   "source": [
    "# histogram of the “order_hour_of_day” column\n",
    "bar_2 = df_cleaned['order_hour_of_day'].plot.hist(bins = 70)\n",
    "bar_2.set_xlabel(\"hours of the day\")\n",
    "bar_2.set_ylabel(\"Cumulative orders per hour in millions\")\n",
    "bar_2.set_title(\"Busiest Hours of the Day\")"
   ]
  },
  {
   "cell_type": "code",
   "execution_count": 100,
   "id": "403b8772",
   "metadata": {},
   "outputs": [],
   "source": [
    "# Creating department columns with name instead of numbers\n",
    "df_cleaned.loc[df_cleaned['department_id'] == 1, 'department'] = 'frozen'\n",
    "df_cleaned.loc[df_cleaned['department_id'] == 2, 'department'] = 'other'\n",
    "df_cleaned.loc[df_cleaned['department_id'] == 3, 'department'] = 'bakery'\n",
    "df_cleaned.loc[df_cleaned['department_id'] == 4, 'department'] = 'produce'\n",
    "df_cleaned.loc[df_cleaned['department_id'] == 5, 'department'] = 'alcohol'\n",
    "df_cleaned.loc[df_cleaned['department_id'] == 6, 'department'] = 'international'\n",
    "df_cleaned.loc[df_cleaned['department_id'] == 7, 'department'] = 'beverages'\n",
    "df_cleaned.loc[df_cleaned['department_id'] == 8, 'department'] = 'pets'\n",
    "df_cleaned.loc[df_cleaned['department_id'] == 9, 'department'] = 'dry goods pasta'\n",
    "df_cleaned.loc[df_cleaned['department_id'] == 10, 'department'] = 'bulk'\n",
    "df_cleaned.loc[df_cleaned['department_id'] == 11, 'department'] = 'personal care'\n",
    "df_cleaned.loc[df_cleaned['department_id'] == 12, 'department'] = 'meat seafood'\n",
    "df_cleaned.loc[df_cleaned['department_id'] == 13, 'department'] = 'pantry'\n",
    "df_cleaned.loc[df_cleaned['department_id'] == 14, 'department'] = 'breakfast'\n",
    "df_cleaned.loc[df_cleaned['department_id'] == 15, 'department'] = 'canned goods'\n",
    "df_cleaned.loc[df_cleaned['department_id'] == 16, 'department'] = 'dairy eggs'\n",
    "df_cleaned.loc[df_cleaned['department_id'] == 17, 'department'] = 'households'\n",
    "df_cleaned.loc[df_cleaned['department_id'] == 18, 'department'] = 'babies'\n",
    "df_cleaned.loc[df_cleaned['department_id'] == 19, 'department'] = 'snacks'\n",
    "df_cleaned.loc[df_cleaned['department_id'] == 20, 'department'] = 'deli'\n",
    "df_cleaned.loc[df_cleaned['department_id'] == 21, 'department'] = 'missing'"
   ]
  },
  {
   "cell_type": "code",
   "execution_count": 120,
   "id": "4b5bdb2b",
   "metadata": {},
   "outputs": [
    {
     "data": {
      "text/plain": [
       "Text(0.5, 1.0, 'Cumulative Orders by Department')"
      ]
     },
     "execution_count": 120,
     "metadata": {},
     "output_type": "execute_result"
    },
    {
     "data": {
      "image/png": "[encoded data removed]",
      "text/plain": [
       "<Figure size 432x288 with 1 Axes>"
      ]
     },
     "metadata": {
      "needs_background": "light"
     },
     "output_type": "display_data"
    }
   ],
   "source": [
    "bar_order_dep_new = df_cleaned['department'].value_counts().plot.bar()\n",
    "bar_order_dep_new.set_xlabel(\"Departments\")\n",
    "bar_order_dep_new.set_ylabel(\"Orders in millions\")\n",
    "bar_order_dep_new.set_title(\"Cumulative Orders by Department\")"
   ]
  },
  {
   "cell_type": "markdown",
   "id": "85004f6c",
   "metadata": {},
   "source": [
    "## Q10. Tidy up your script, export your final data set, and save your notebook."
   ]
  },
  {
   "cell_type": "code",
   "execution_count": 96,
   "id": "963a0046",
   "metadata": {},
   "outputs": [],
   "source": [
    "# EXPORTING DATA\n",
    "df_cleaned.to_pickle(os.path.join(path, '02 Data','Prepared Data', 'df_cleaned_final.pkl'))"
   ]
  }
 ],
 "metadata": {
  "kernelspec": {
   "display_name": "Python 3",
   "language": "python",
   "name": "python3"
  },
  "language_info": {
   "codemirror_mode": {
    "name": "ipython",
    "version": 3
   },
   "file_extension": ".py",
   "mimetype": "text/x-python",
   "name": "python",
   "nbconvert_exporter": "python",
   "pygments_lexer": "ipython3",
   "version": "3.8.8"
  }
 },
 "nbformat": 4,
 "nbformat_minor": 5
}
