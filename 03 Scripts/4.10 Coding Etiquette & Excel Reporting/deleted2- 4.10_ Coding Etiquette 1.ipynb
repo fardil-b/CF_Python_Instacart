{
 "cells": [
  {
   "cell_type": "markdown",
   "id": "090b2d49",
   "metadata": {},
   "source": [
    "## 4.10: Coding Etiquette & Excel Reporting"
   ]
  },
  {
   "cell_type": "markdown",
   "id": "95434b03",
   "metadata": {},
   "source": [
    "# INSTACART GROCERY BASKET ANALYSIS\n"
   ]
  },
  {
   "cell_type": "markdown",
   "id": "17febbaa",
   "metadata": {},
   "source": [
    "##### Daniel Rodelli"
   ]
  },
  {
   "cell_type": "markdown",
   "id": "10e0315a",
   "metadata": {},
   "source": [
    "________________"
   ]
  },
  {
   "cell_type": "markdown",
   "id": "d5226bed",
   "metadata": {},
   "source": [
    "### _Notebook Summary_"
   ]
  },
  {
   "cell_type": "markdown",
   "id": "4d355f50",
   "metadata": {},
   "source": [
    " - 1. Datasest importing and dataframe checks\n",
    " - 2. Adressing PII Data\n",
    " - 3. Regional Segmentation\n",
    " - 4. Low-activity customers exclusion\n",
    " - 5. Customer Profiling\n",
    "     - 5.1 Age\n",
    "     - 5.2 Income\n",
    "     - 5.3 Family Status\n",
    "     - 5.4 Prices\n",
    "     - 5.5 Spending \n",
    "     - 5.6 Gender\n",
    " - 6. Customer Profiling Visualizations\n",
    " - 7. Aggregating users by Spending and Frequency\n",
    " - 8. Customer Profiling and Regions"
   ]
  },
  {
   "cell_type": "markdown",
   "id": "60ed0445",
   "metadata": {},
   "source": [
    "___________________________________"
   ]
  },
  {
   "cell_type": "code",
   "execution_count": 1,
   "id": "c18fc1e4",
   "metadata": {},
   "outputs": [],
   "source": [
    "#importing the libraries\n",
    "import pandas as pd\n",
    "import os\n",
    "import numpy as np\n",
    "import matplotlib.pyplot as plt\n",
    "import seaborn as sns"
   ]
  },
  {
   "cell_type": "markdown",
   "id": "1d5a9447",
   "metadata": {},
   "source": [
    "### 1. Import the data set you exported in Exercise 4.9 into a new Jupyter notebook. This should be the merged version of your data that contains the new customers column."
   ]
  },
  {
   "cell_type": "code",
   "execution_count": 2,
   "id": "46e2a876",
   "metadata": {},
   "outputs": [],
   "source": [
    "#setting the path for importing the data\n",
    "path = r'C:\\Users\\daniel\\Documents\\CareerFoundry\\immersion_achievement4'"
   ]
  },
  {
   "cell_type": "code",
   "execution_count": 3,
   "id": "35a600b4",
   "metadata": {},
   "outputs": [],
   "source": [
    "#importing the orders data set\n",
    "df = pd.read_pickle(os.path.join(path, '02data', 'prepared_data', 'prods_orders_customers.pkl'))"
   ]
  },
  {
   "cell_type": "code",
   "execution_count": 4,
   "id": "6e7d677b",
   "metadata": {},
   "outputs": [
    {
     "data": {
      "text/html": [
       "<div>\n",
       "<style scoped>\n",
       "    .dataframe tbody tr th:only-of-type {\n",
       "        vertical-align: middle;\n",
       "    }\n",
       "\n",
       "    .dataframe tbody tr th {\n",
       "        vertical-align: top;\n",
       "    }\n",
       "\n",
       "    .dataframe thead th {\n",
       "        text-align: right;\n",
       "    }\n",
       "</style>\n",
       "<table border=\"1\" class=\"dataframe\">\n",
       "  <thead>\n",
       "    <tr style=\"text-align: right;\">\n",
       "      <th></th>\n",
       "      <th>order_id</th>\n",
       "      <th>user_id</th>\n",
       "      <th>order_number</th>\n",
       "      <th>orders_day_of_week</th>\n",
       "      <th>order_hour_of_day</th>\n",
       "      <th>days_since_prior_order</th>\n",
       "      <th>product_id</th>\n",
       "      <th>add_to_cart_order</th>\n",
       "      <th>reordered</th>\n",
       "      <th>product_name</th>\n",
       "      <th>...</th>\n",
       "      <th>frequency_flag</th>\n",
       "      <th>First_name</th>\n",
       "      <th>Surname</th>\n",
       "      <th>Gender</th>\n",
       "      <th>State</th>\n",
       "      <th>Age</th>\n",
       "      <th>Date_joined</th>\n",
       "      <th>n_dependants</th>\n",
       "      <th>Family_status</th>\n",
       "      <th>Income</th>\n",
       "    </tr>\n",
       "  </thead>\n",
       "  <tbody>\n",
       "    <tr>\n",
       "      <th>0</th>\n",
       "      <td>2539329</td>\n",
       "      <td>1</td>\n",
       "      <td>1</td>\n",
       "      <td>2</td>\n",
       "      <td>8</td>\n",
       "      <td>NaN</td>\n",
       "      <td>196</td>\n",
       "      <td>1</td>\n",
       "      <td>0</td>\n",
       "      <td>Soda</td>\n",
       "      <td>...</td>\n",
       "      <td>Frequent_customer</td>\n",
       "      <td>Linda</td>\n",
       "      <td>Nguyen</td>\n",
       "      <td>Female</td>\n",
       "      <td>Alabama</td>\n",
       "      <td>31</td>\n",
       "      <td>2/17/2019</td>\n",
       "      <td>3</td>\n",
       "      <td>married</td>\n",
       "      <td>40423</td>\n",
       "    </tr>\n",
       "    <tr>\n",
       "      <th>1</th>\n",
       "      <td>2539329</td>\n",
       "      <td>1</td>\n",
       "      <td>1</td>\n",
       "      <td>2</td>\n",
       "      <td>8</td>\n",
       "      <td>NaN</td>\n",
       "      <td>14084</td>\n",
       "      <td>2</td>\n",
       "      <td>0</td>\n",
       "      <td>Organic Unsweetened Vanilla Almond Milk</td>\n",
       "      <td>...</td>\n",
       "      <td>Frequent_customer</td>\n",
       "      <td>Linda</td>\n",
       "      <td>Nguyen</td>\n",
       "      <td>Female</td>\n",
       "      <td>Alabama</td>\n",
       "      <td>31</td>\n",
       "      <td>2/17/2019</td>\n",
       "      <td>3</td>\n",
       "      <td>married</td>\n",
       "      <td>40423</td>\n",
       "    </tr>\n",
       "    <tr>\n",
       "      <th>2</th>\n",
       "      <td>2539329</td>\n",
       "      <td>1</td>\n",
       "      <td>1</td>\n",
       "      <td>2</td>\n",
       "      <td>8</td>\n",
       "      <td>NaN</td>\n",
       "      <td>12427</td>\n",
       "      <td>3</td>\n",
       "      <td>0</td>\n",
       "      <td>Original Beef Jerky</td>\n",
       "      <td>...</td>\n",
       "      <td>Frequent_customer</td>\n",
       "      <td>Linda</td>\n",
       "      <td>Nguyen</td>\n",
       "      <td>Female</td>\n",
       "      <td>Alabama</td>\n",
       "      <td>31</td>\n",
       "      <td>2/17/2019</td>\n",
       "      <td>3</td>\n",
       "      <td>married</td>\n",
       "      <td>40423</td>\n",
       "    </tr>\n",
       "    <tr>\n",
       "      <th>3</th>\n",
       "      <td>2539329</td>\n",
       "      <td>1</td>\n",
       "      <td>1</td>\n",
       "      <td>2</td>\n",
       "      <td>8</td>\n",
       "      <td>NaN</td>\n",
       "      <td>26088</td>\n",
       "      <td>4</td>\n",
       "      <td>0</td>\n",
       "      <td>Aged White Cheddar Popcorn</td>\n",
       "      <td>...</td>\n",
       "      <td>Frequent_customer</td>\n",
       "      <td>Linda</td>\n",
       "      <td>Nguyen</td>\n",
       "      <td>Female</td>\n",
       "      <td>Alabama</td>\n",
       "      <td>31</td>\n",
       "      <td>2/17/2019</td>\n",
       "      <td>3</td>\n",
       "      <td>married</td>\n",
       "      <td>40423</td>\n",
       "    </tr>\n",
       "    <tr>\n",
       "      <th>4</th>\n",
       "      <td>2539329</td>\n",
       "      <td>1</td>\n",
       "      <td>1</td>\n",
       "      <td>2</td>\n",
       "      <td>8</td>\n",
       "      <td>NaN</td>\n",
       "      <td>26405</td>\n",
       "      <td>5</td>\n",
       "      <td>0</td>\n",
       "      <td>XL Pick-A-Size Paper Towel Rolls</td>\n",
       "      <td>...</td>\n",
       "      <td>Frequent_customer</td>\n",
       "      <td>Linda</td>\n",
       "      <td>Nguyen</td>\n",
       "      <td>Female</td>\n",
       "      <td>Alabama</td>\n",
       "      <td>31</td>\n",
       "      <td>2/17/2019</td>\n",
       "      <td>3</td>\n",
       "      <td>married</td>\n",
       "      <td>40423</td>\n",
       "    </tr>\n",
       "  </tbody>\n",
       "</table>\n",
       "<p>5 rows × 31 columns</p>\n",
       "</div>"
      ],
      "text/plain": [
       "   order_id  user_id  order_number  orders_day_of_week  order_hour_of_day  \\\n",
       "0   2539329        1             1                   2                  8   \n",
       "1   2539329        1             1                   2                  8   \n",
       "2   2539329        1             1                   2                  8   \n",
       "3   2539329        1             1                   2                  8   \n",
       "4   2539329        1             1                   2                  8   \n",
       "\n",
       "   days_since_prior_order  product_id  add_to_cart_order reordered  \\\n",
       "0                     NaN         196                  1         0   \n",
       "1                     NaN       14084                  2         0   \n",
       "2                     NaN       12427                  3         0   \n",
       "3                     NaN       26088                  4         0   \n",
       "4                     NaN       26405                  5         0   \n",
       "\n",
       "                              product_name  ...     frequency_flag  \\\n",
       "0                                     Soda  ...  Frequent_customer   \n",
       "1  Organic Unsweetened Vanilla Almond Milk  ...  Frequent_customer   \n",
       "2                      Original Beef Jerky  ...  Frequent_customer   \n",
       "3               Aged White Cheddar Popcorn  ...  Frequent_customer   \n",
       "4         XL Pick-A-Size Paper Towel Rolls  ...  Frequent_customer   \n",
       "\n",
       "   First_name  Surname  Gender    State Age  Date_joined n_dependants  \\\n",
       "0       Linda   Nguyen  Female  Alabama  31    2/17/2019            3   \n",
       "1       Linda   Nguyen  Female  Alabama  31    2/17/2019            3   \n",
       "2       Linda   Nguyen  Female  Alabama  31    2/17/2019            3   \n",
       "3       Linda   Nguyen  Female  Alabama  31    2/17/2019            3   \n",
       "4       Linda   Nguyen  Female  Alabama  31    2/17/2019            3   \n",
       "\n",
       "   Family_status Income  \n",
       "0        married  40423  \n",
       "1        married  40423  \n",
       "2        married  40423  \n",
       "3        married  40423  \n",
       "4        married  40423  \n",
       "\n",
       "[5 rows x 31 columns]"
      ]
     },
     "execution_count": 4,
     "metadata": {},
     "output_type": "execute_result"
    }
   ],
   "source": [
    "df.head(5)"
   ]
  },
  {
   "cell_type": "code",
   "execution_count": 5,
   "id": "a59a5cc0",
   "metadata": {
    "scrolled": false
   },
   "outputs": [
    {
     "name": "stdout",
     "output_type": "stream",
     "text": [
      "<class 'pandas.core.frame.DataFrame'>\n",
      "Int64Index: 32436241 entries, 0 to 32436240\n",
      "Data columns (total 31 columns):\n",
      " #   Column                  Dtype   \n",
      "---  ------                  -----   \n",
      " 0   order_id                int32   \n",
      " 1   user_id                 int32   \n",
      " 2   order_number            int8    \n",
      " 3   orders_day_of_week      int8    \n",
      " 4   order_hour_of_day       int8    \n",
      " 5   days_since_prior_order  float16 \n",
      " 6   product_id              int32   \n",
      " 7   add_to_cart_order       int16   \n",
      " 8   reordered               category\n",
      " 9   product_name            object  \n",
      " 10  aisle_id                float16 \n",
      " 11  department_id           float16 \n",
      " 12  prices                  float16 \n",
      " 13  busiest_day             category\n",
      " 14  Busiest days            category\n",
      " 15  busiest_period_of_day   category\n",
      " 16  max_order               int8    \n",
      " 17  loyalty_flag            category\n",
      " 18  mean_prices_customers   float16 \n",
      " 19  spending_flag           category\n",
      " 20  days_frequency          int8    \n",
      " 21  frequency_flag          category\n",
      " 22  First_name              object  \n",
      " 23  Surname                 object  \n",
      " 24  Gender                  category\n",
      " 25  State                   object  \n",
      " 26  Age                     int8    \n",
      " 27  Date_joined             object  \n",
      " 28  n_dependants            int8    \n",
      " 29  Family_status           category\n",
      " 30  Income                  int32   \n",
      "dtypes: category(9), float16(5), int16(1), int32(4), int8(7), object(5)\n",
      "memory usage: 2.8+ GB\n"
     ]
    }
   ],
   "source": [
    "df.info()"
   ]
  },
  {
   "cell_type": "code",
   "execution_count": 5,
   "id": "137c0d7b",
   "metadata": {
    "scrolled": true
   },
   "outputs": [
    {
     "data": {
      "text/plain": [
       "order_id                        0\n",
       "user_id                         0\n",
       "order_number                    0\n",
       "orders_day_of_week              0\n",
       "order_hour_of_day               0\n",
       "days_since_prior_order    2078207\n",
       "product_id                      0\n",
       "add_to_cart_order               0\n",
       "reordered                       0\n",
       "product_name                30200\n",
       "aisle_id                     2029\n",
       "department_id                2029\n",
       "prices                       2029\n",
       "busiest_day                     0\n",
       "Busiest days                    0\n",
       "busiest_period_of_day           0\n",
       "max_order                       0\n",
       "loyalty_flag                    0\n",
       "mean_prices_customers           0\n",
       "spending_flag                   0\n",
       "days_frequency                  0\n",
       "frequency_flag                  0\n",
       "First_name                      0\n",
       "Surname                         0\n",
       "Gender                          0\n",
       "State                           0\n",
       "Age                             0\n",
       "Date_joined                     0\n",
       "n_dependants                    0\n",
       "Family_status                   0\n",
       "Income                          0\n",
       "dtype: int64"
      ]
     },
     "execution_count": 5,
     "metadata": {},
     "output_type": "execute_result"
    }
   ],
   "source": [
    "#check for eventual NaN values still present\n",
    "df.isna().sum()"
   ]
  },
  {
   "cell_type": "code",
   "execution_count": 6,
   "id": "05ecb5fb",
   "metadata": {},
   "outputs": [],
   "source": [
    "df.dropna(subset = ['department_id'], inplace = True)"
   ]
  },
  {
   "cell_type": "code",
   "execution_count": 8,
   "id": "f87a7e38",
   "metadata": {},
   "outputs": [
    {
     "data": {
      "text/plain": [
       "order_id                        0\n",
       "user_id                         0\n",
       "order_number                    0\n",
       "orders_day_of_week              0\n",
       "order_hour_of_day               0\n",
       "days_since_prior_order    2078084\n",
       "product_id                      0\n",
       "add_to_cart_order               0\n",
       "reordered                       0\n",
       "product_name                28171\n",
       "aisle_id                        0\n",
       "department_id                   0\n",
       "prices                          0\n",
       "busiest_day                     0\n",
       "Busiest days                    0\n",
       "busiest_period_of_day           0\n",
       "max_order                       0\n",
       "loyalty_flag                    0\n",
       "mean_prices_customers           0\n",
       "spending_flag                   0\n",
       "days_frequency                  0\n",
       "frequency_flag                  0\n",
       "First_name                      0\n",
       "Surname                         0\n",
       "Gender                          0\n",
       "State                           0\n",
       "Age                             0\n",
       "Date_joined                     0\n",
       "n_dependants                    0\n",
       "Family_status                   0\n",
       "Income                          0\n",
       "dtype: int64"
      ]
     },
     "execution_count": 8,
     "metadata": {},
     "output_type": "execute_result"
    }
   ],
   "source": [
    "df.isna().sum()"
   ]
  },
  {
   "cell_type": "code",
   "execution_count": 11,
   "id": "99aa8daf",
   "metadata": {},
   "outputs": [],
   "source": [
    "df.dropna(subset = ['product_name'], inplace = True)"
   ]
  },
  {
   "cell_type": "markdown",
   "id": "07e285fb",
   "metadata": {},
   "source": [
    "Nhe NaN values in 'days_since_prior_order' most probably represent the fact that this is the very first order of a new client. I will leave as it is"
   ]
  },
  {
   "cell_type": "markdown",
   "id": "48a29962",
   "metadata": {},
   "source": [
    "### 2. Consider any security implications that might exist for this new data. You’ll need to address any PII data in the data before continuing your analysis."
   ]
  },
  {
   "cell_type": "markdown",
   "id": "9792e480",
   "metadata": {},
   "source": [
    "First and last names are personal identificable information. It would violate data privacy regulamentations to release this kind of information in a report"
   ]
  },
  {
   "cell_type": "code",
   "execution_count": 12,
   "id": "dbae83db",
   "metadata": {
    "scrolled": true
   },
   "outputs": [],
   "source": [
    "#drop the First_name and Surname columns\n",
    "df.drop(columns = ['First_name','Surname'], inplace = True)"
   ]
  },
  {
   "cell_type": "code",
   "execution_count": null,
   "id": "5315271b",
   "metadata": {},
   "outputs": [],
   "source": []
  },
  {
   "cell_type": "markdown",
   "id": "d1ae1728",
   "metadata": {},
   "source": [
    "### 3. The Instacart officers are interested in comparing customer behavior in different geographic areas. Create a regional segmentation of the data. You’ll need to create a “Region” column based on the “State” column from your customers data set."
   ]
  },
  {
   "cell_type": "markdown",
   "id": "47494be5",
   "metadata": {},
   "source": [
    "#### Use the region information in this Wikipedia article to create your column (you only need to create regions, not divisions)"
   ]
  },
  {
   "cell_type": "code",
   "execution_count": 36,
   "id": "6349486d",
   "metadata": {},
   "outputs": [],
   "source": [
    "region =[]\n",
    "\n",
    "for state in df['State']:\n",
    "    if (state == 'Wisconsin') or (state == 'Michigan') or (state == 'Illinois') or (state == 'Indiana') or (state == 'Ohio') or (state == 'North Dakota') or (state == 'South Dakota') or (state == 'Nebraska') or (state == 'Minnesota') or (state == 'Iowa') or (state == 'Missouri') or (state == 'Kansas'):\n",
    "        region.append('Midwest')\n",
    "    elif (state == 'Maine') or (state == 'New Hampshire') or (state == 'Vermont') or (state == 'Massachusetts') or (state == 'Rhode Island') or (state == 'Connecticut') or (state == 'New York') or (state == 'Pennsylvania') or (state =='New Jersey'):\n",
    "        region.append('Northeast')\n",
    "    elif (state == 'Deleware') or (state == 'Maryland') or (state == 'District of Columbia') or (state == 'Virginia') or (state == 'West Virginia') or (state == 'North Carolina') or (state == 'South Carolina') or (state == 'Georgia') or (state == 'Florida') or (state == 'Kentucky') or (state == 'Tennessee') or (state == 'Mississippi') or (state == 'Alabama') or (state == 'Oklahoma') or (state == 'Texas') or (state == 'Arkansas') or (state == 'Louisiana'):\n",
    "        region.append('South')\n",
    "    else:\n",
    "        region.append('West')\n",
    "\n"
   ]
  },
  {
   "cell_type": "code",
   "execution_count": 37,
   "id": "a3ccf1bc",
   "metadata": {},
   "outputs": [],
   "source": [
    "df['Region'] = region"
   ]
  },
  {
   "cell_type": "code",
   "execution_count": 16,
   "id": "42d91c70",
   "metadata": {},
   "outputs": [
    {
     "data": {
      "text/html": [
       "<div>\n",
       "<style scoped>\n",
       "    .dataframe tbody tr th:only-of-type {\n",
       "        vertical-align: middle;\n",
       "    }\n",
       "\n",
       "    .dataframe tbody tr th {\n",
       "        vertical-align: top;\n",
       "    }\n",
       "\n",
       "    .dataframe thead th {\n",
       "        text-align: right;\n",
       "    }\n",
       "</style>\n",
       "<table border=\"1\" class=\"dataframe\">\n",
       "  <thead>\n",
       "    <tr style=\"text-align: right;\">\n",
       "      <th></th>\n",
       "      <th>order_id</th>\n",
       "      <th>user_id</th>\n",
       "      <th>order_number</th>\n",
       "      <th>orders_day_of_week</th>\n",
       "      <th>order_hour_of_day</th>\n",
       "      <th>days_since_prior_order</th>\n",
       "      <th>product_id</th>\n",
       "      <th>add_to_cart_order</th>\n",
       "      <th>reordered</th>\n",
       "      <th>product_name</th>\n",
       "      <th>...</th>\n",
       "      <th>days_frequency</th>\n",
       "      <th>frequency_flag</th>\n",
       "      <th>Gender</th>\n",
       "      <th>State</th>\n",
       "      <th>Age</th>\n",
       "      <th>Date_joined</th>\n",
       "      <th>n_dependants</th>\n",
       "      <th>Family_status</th>\n",
       "      <th>Income</th>\n",
       "      <th>Region</th>\n",
       "    </tr>\n",
       "  </thead>\n",
       "  <tbody>\n",
       "    <tr>\n",
       "      <th>0</th>\n",
       "      <td>2539329</td>\n",
       "      <td>1</td>\n",
       "      <td>1</td>\n",
       "      <td>2</td>\n",
       "      <td>8</td>\n",
       "      <td>NaN</td>\n",
       "      <td>196</td>\n",
       "      <td>1</td>\n",
       "      <td>0</td>\n",
       "      <td>Soda</td>\n",
       "      <td>...</td>\n",
       "      <td>20</td>\n",
       "      <td>Frequent_customer</td>\n",
       "      <td>Female</td>\n",
       "      <td>Alabama</td>\n",
       "      <td>31</td>\n",
       "      <td>2/17/2019</td>\n",
       "      <td>3</td>\n",
       "      <td>married</td>\n",
       "      <td>40423</td>\n",
       "      <td>South</td>\n",
       "    </tr>\n",
       "    <tr>\n",
       "      <th>1</th>\n",
       "      <td>2539329</td>\n",
       "      <td>1</td>\n",
       "      <td>1</td>\n",
       "      <td>2</td>\n",
       "      <td>8</td>\n",
       "      <td>NaN</td>\n",
       "      <td>14084</td>\n",
       "      <td>2</td>\n",
       "      <td>0</td>\n",
       "      <td>Organic Unsweetened Vanilla Almond Milk</td>\n",
       "      <td>...</td>\n",
       "      <td>20</td>\n",
       "      <td>Frequent_customer</td>\n",
       "      <td>Female</td>\n",
       "      <td>Alabama</td>\n",
       "      <td>31</td>\n",
       "      <td>2/17/2019</td>\n",
       "      <td>3</td>\n",
       "      <td>married</td>\n",
       "      <td>40423</td>\n",
       "      <td>South</td>\n",
       "    </tr>\n",
       "    <tr>\n",
       "      <th>2</th>\n",
       "      <td>2539329</td>\n",
       "      <td>1</td>\n",
       "      <td>1</td>\n",
       "      <td>2</td>\n",
       "      <td>8</td>\n",
       "      <td>NaN</td>\n",
       "      <td>12427</td>\n",
       "      <td>3</td>\n",
       "      <td>0</td>\n",
       "      <td>Original Beef Jerky</td>\n",
       "      <td>...</td>\n",
       "      <td>20</td>\n",
       "      <td>Frequent_customer</td>\n",
       "      <td>Female</td>\n",
       "      <td>Alabama</td>\n",
       "      <td>31</td>\n",
       "      <td>2/17/2019</td>\n",
       "      <td>3</td>\n",
       "      <td>married</td>\n",
       "      <td>40423</td>\n",
       "      <td>South</td>\n",
       "    </tr>\n",
       "    <tr>\n",
       "      <th>3</th>\n",
       "      <td>2539329</td>\n",
       "      <td>1</td>\n",
       "      <td>1</td>\n",
       "      <td>2</td>\n",
       "      <td>8</td>\n",
       "      <td>NaN</td>\n",
       "      <td>26088</td>\n",
       "      <td>4</td>\n",
       "      <td>0</td>\n",
       "      <td>Aged White Cheddar Popcorn</td>\n",
       "      <td>...</td>\n",
       "      <td>20</td>\n",
       "      <td>Frequent_customer</td>\n",
       "      <td>Female</td>\n",
       "      <td>Alabama</td>\n",
       "      <td>31</td>\n",
       "      <td>2/17/2019</td>\n",
       "      <td>3</td>\n",
       "      <td>married</td>\n",
       "      <td>40423</td>\n",
       "      <td>South</td>\n",
       "    </tr>\n",
       "    <tr>\n",
       "      <th>4</th>\n",
       "      <td>2539329</td>\n",
       "      <td>1</td>\n",
       "      <td>1</td>\n",
       "      <td>2</td>\n",
       "      <td>8</td>\n",
       "      <td>NaN</td>\n",
       "      <td>26405</td>\n",
       "      <td>5</td>\n",
       "      <td>0</td>\n",
       "      <td>XL Pick-A-Size Paper Towel Rolls</td>\n",
       "      <td>...</td>\n",
       "      <td>20</td>\n",
       "      <td>Frequent_customer</td>\n",
       "      <td>Female</td>\n",
       "      <td>Alabama</td>\n",
       "      <td>31</td>\n",
       "      <td>2/17/2019</td>\n",
       "      <td>3</td>\n",
       "      <td>married</td>\n",
       "      <td>40423</td>\n",
       "      <td>South</td>\n",
       "    </tr>\n",
       "  </tbody>\n",
       "</table>\n",
       "<p>5 rows × 30 columns</p>\n",
       "</div>"
      ],
      "text/plain": [
       "   order_id  user_id  order_number  orders_day_of_week  order_hour_of_day  \\\n",
       "0   2539329        1             1                   2                  8   \n",
       "1   2539329        1             1                   2                  8   \n",
       "2   2539329        1             1                   2                  8   \n",
       "3   2539329        1             1                   2                  8   \n",
       "4   2539329        1             1                   2                  8   \n",
       "\n",
       "   days_since_prior_order  product_id  add_to_cart_order reordered  \\\n",
       "0                     NaN         196                  1         0   \n",
       "1                     NaN       14084                  2         0   \n",
       "2                     NaN       12427                  3         0   \n",
       "3                     NaN       26088                  4         0   \n",
       "4                     NaN       26405                  5         0   \n",
       "\n",
       "                              product_name  ...  days_frequency  \\\n",
       "0                                     Soda  ...              20   \n",
       "1  Organic Unsweetened Vanilla Almond Milk  ...              20   \n",
       "2                      Original Beef Jerky  ...              20   \n",
       "3               Aged White Cheddar Popcorn  ...              20   \n",
       "4         XL Pick-A-Size Paper Towel Rolls  ...              20   \n",
       "\n",
       "      frequency_flag  Gender    State Age Date_joined  n_dependants  \\\n",
       "0  Frequent_customer  Female  Alabama  31   2/17/2019             3   \n",
       "1  Frequent_customer  Female  Alabama  31   2/17/2019             3   \n",
       "2  Frequent_customer  Female  Alabama  31   2/17/2019             3   \n",
       "3  Frequent_customer  Female  Alabama  31   2/17/2019             3   \n",
       "4  Frequent_customer  Female  Alabama  31   2/17/2019             3   \n",
       "\n",
       "  Family_status  Income Region  \n",
       "0       married   40423  South  \n",
       "1       married   40423  South  \n",
       "2       married   40423  South  \n",
       "3       married   40423  South  \n",
       "4       married   40423  South  \n",
       "\n",
       "[5 rows x 30 columns]"
      ]
     },
     "execution_count": 16,
     "metadata": {},
     "output_type": "execute_result"
    }
   ],
   "source": [
    "#check that the new colum has been correctly added\n",
    "df.head(5)"
   ]
  },
  {
   "cell_type": "code",
   "execution_count": 17,
   "id": "16146d70",
   "metadata": {
    "scrolled": true
   },
   "outputs": [
    {
     "data": {
      "text/plain": [
       "South        10155251\n",
       "West          8930266\n",
       "Midwest       7597585\n",
       "Northeast     5722939\n",
       "Name: Region, dtype: int64"
      ]
     },
     "execution_count": 17,
     "metadata": {},
     "output_type": "execute_result"
    }
   ],
   "source": [
    "df['Region'].value_counts()"
   ]
  },
  {
   "cell_type": "code",
   "execution_count": 38,
   "id": "cf8cfb6b",
   "metadata": {},
   "outputs": [],
   "source": [
    "#cast as category\n",
    "df['Region'] = df['Region'].astype('category')"
   ]
  },
  {
   "cell_type": "markdown",
   "id": "3168626d",
   "metadata": {},
   "source": [
    "#### Determine whether there’s a difference in spending habits between the different U.S. regions. (Hint: You can do this by crossing the variable you just created with the spending flag.)"
   ]
  },
  {
   "cell_type": "code",
   "execution_count": 19,
   "id": "555fca36",
   "metadata": {},
   "outputs": [
    {
     "data": {
      "text/html": [
       "<div>\n",
       "<style scoped>\n",
       "    .dataframe tbody tr th:only-of-type {\n",
       "        vertical-align: middle;\n",
       "    }\n",
       "\n",
       "    .dataframe tbody tr th {\n",
       "        vertical-align: top;\n",
       "    }\n",
       "\n",
       "    .dataframe thead th {\n",
       "        text-align: right;\n",
       "    }\n",
       "</style>\n",
       "<table border=\"1\" class=\"dataframe\">\n",
       "  <thead>\n",
       "    <tr style=\"text-align: right;\">\n",
       "      <th>spending_flag</th>\n",
       "      <th>High spender</th>\n",
       "      <th>Low spender</th>\n",
       "    </tr>\n",
       "    <tr>\n",
       "      <th>Region</th>\n",
       "      <th></th>\n",
       "      <th></th>\n",
       "    </tr>\n",
       "  </thead>\n",
       "  <tbody>\n",
       "    <tr>\n",
       "      <th>Midwest</th>\n",
       "      <td>140254</td>\n",
       "      <td>7457331</td>\n",
       "    </tr>\n",
       "    <tr>\n",
       "      <th>Northeast</th>\n",
       "      <td>98843</td>\n",
       "      <td>5624096</td>\n",
       "    </tr>\n",
       "    <tr>\n",
       "      <th>South</th>\n",
       "      <td>174471</td>\n",
       "      <td>9980780</td>\n",
       "    </tr>\n",
       "    <tr>\n",
       "      <th>West</th>\n",
       "      <td>163953</td>\n",
       "      <td>8766313</td>\n",
       "    </tr>\n",
       "  </tbody>\n",
       "</table>\n",
       "</div>"
      ],
      "text/plain": [
       "spending_flag  High spender  Low spender\n",
       "Region                                  \n",
       "Midwest              140254      7457331\n",
       "Northeast             98843      5624096\n",
       "South                174471      9980780\n",
       "West                 163953      8766313"
      ]
     },
     "execution_count": 19,
     "metadata": {},
     "output_type": "execute_result"
    }
   ],
   "source": [
    "#Crossing 'Region' with 'spending_flag' to check for spending habit differences\n",
    "crosstab_region_spend = pd.crosstab(df['Region'], df['spending_flag'], dropna = False)\n",
    "crosstab_region_spend"
   ]
  },
  {
   "cell_type": "code",
   "execution_count": 16,
   "id": "b7e64165",
   "metadata": {},
   "outputs": [],
   "source": [
    "crosstab_region_spend.to_clipboard()"
   ]
  },
  {
   "cell_type": "markdown",
   "id": "1cebe218",
   "metadata": {},
   "source": [
    "### 4. The Instacart CFO isn’t interested in customers who don’t generate much revenue for the app. Create an exclusion flag for low-activity customers (customers with less than 5 orders) and exclude them from the data. Make sure you export this sample."
   ]
  },
  {
   "cell_type": "code",
   "execution_count": 44,
   "id": "c30b8bda",
   "metadata": {},
   "outputs": [],
   "source": [
    "#create a new dataframe excluding customers with less than 5 orders\n",
    "\n",
    "df_clean = df[df['max_order'] >=5]"
   ]
  },
  {
   "cell_type": "code",
   "execution_count": 21,
   "id": "035031b4",
   "metadata": {
    "scrolled": false
   },
   "outputs": [
    {
     "data": {
      "text/html": [
       "<div>\n",
       "<style scoped>\n",
       "    .dataframe tbody tr th:only-of-type {\n",
       "        vertical-align: middle;\n",
       "    }\n",
       "\n",
       "    .dataframe tbody tr th {\n",
       "        vertical-align: top;\n",
       "    }\n",
       "\n",
       "    .dataframe thead th {\n",
       "        text-align: right;\n",
       "    }\n",
       "</style>\n",
       "<table border=\"1\" class=\"dataframe\">\n",
       "  <thead>\n",
       "    <tr style=\"text-align: right;\">\n",
       "      <th></th>\n",
       "      <th>order_id</th>\n",
       "      <th>user_id</th>\n",
       "      <th>order_number</th>\n",
       "      <th>orders_day_of_week</th>\n",
       "      <th>order_hour_of_day</th>\n",
       "      <th>days_since_prior_order</th>\n",
       "      <th>product_id</th>\n",
       "      <th>add_to_cart_order</th>\n",
       "      <th>reordered</th>\n",
       "      <th>product_name</th>\n",
       "      <th>...</th>\n",
       "      <th>days_frequency</th>\n",
       "      <th>frequency_flag</th>\n",
       "      <th>Gender</th>\n",
       "      <th>State</th>\n",
       "      <th>Age</th>\n",
       "      <th>Date_joined</th>\n",
       "      <th>n_dependants</th>\n",
       "      <th>Family_status</th>\n",
       "      <th>Income</th>\n",
       "      <th>Region</th>\n",
       "    </tr>\n",
       "  </thead>\n",
       "  <tbody>\n",
       "    <tr>\n",
       "      <th>0</th>\n",
       "      <td>2539329</td>\n",
       "      <td>1</td>\n",
       "      <td>1</td>\n",
       "      <td>2</td>\n",
       "      <td>8</td>\n",
       "      <td>NaN</td>\n",
       "      <td>196</td>\n",
       "      <td>1</td>\n",
       "      <td>0</td>\n",
       "      <td>Soda</td>\n",
       "      <td>...</td>\n",
       "      <td>20</td>\n",
       "      <td>Frequent_customer</td>\n",
       "      <td>Female</td>\n",
       "      <td>Alabama</td>\n",
       "      <td>31</td>\n",
       "      <td>2/17/2019</td>\n",
       "      <td>3</td>\n",
       "      <td>married</td>\n",
       "      <td>40423</td>\n",
       "      <td>South</td>\n",
       "    </tr>\n",
       "    <tr>\n",
       "      <th>1</th>\n",
       "      <td>2539329</td>\n",
       "      <td>1</td>\n",
       "      <td>1</td>\n",
       "      <td>2</td>\n",
       "      <td>8</td>\n",
       "      <td>NaN</td>\n",
       "      <td>14084</td>\n",
       "      <td>2</td>\n",
       "      <td>0</td>\n",
       "      <td>Organic Unsweetened Vanilla Almond Milk</td>\n",
       "      <td>...</td>\n",
       "      <td>20</td>\n",
       "      <td>Frequent_customer</td>\n",
       "      <td>Female</td>\n",
       "      <td>Alabama</td>\n",
       "      <td>31</td>\n",
       "      <td>2/17/2019</td>\n",
       "      <td>3</td>\n",
       "      <td>married</td>\n",
       "      <td>40423</td>\n",
       "      <td>South</td>\n",
       "    </tr>\n",
       "    <tr>\n",
       "      <th>2</th>\n",
       "      <td>2539329</td>\n",
       "      <td>1</td>\n",
       "      <td>1</td>\n",
       "      <td>2</td>\n",
       "      <td>8</td>\n",
       "      <td>NaN</td>\n",
       "      <td>12427</td>\n",
       "      <td>3</td>\n",
       "      <td>0</td>\n",
       "      <td>Original Beef Jerky</td>\n",
       "      <td>...</td>\n",
       "      <td>20</td>\n",
       "      <td>Frequent_customer</td>\n",
       "      <td>Female</td>\n",
       "      <td>Alabama</td>\n",
       "      <td>31</td>\n",
       "      <td>2/17/2019</td>\n",
       "      <td>3</td>\n",
       "      <td>married</td>\n",
       "      <td>40423</td>\n",
       "      <td>South</td>\n",
       "    </tr>\n",
       "    <tr>\n",
       "      <th>3</th>\n",
       "      <td>2539329</td>\n",
       "      <td>1</td>\n",
       "      <td>1</td>\n",
       "      <td>2</td>\n",
       "      <td>8</td>\n",
       "      <td>NaN</td>\n",
       "      <td>26088</td>\n",
       "      <td>4</td>\n",
       "      <td>0</td>\n",
       "      <td>Aged White Cheddar Popcorn</td>\n",
       "      <td>...</td>\n",
       "      <td>20</td>\n",
       "      <td>Frequent_customer</td>\n",
       "      <td>Female</td>\n",
       "      <td>Alabama</td>\n",
       "      <td>31</td>\n",
       "      <td>2/17/2019</td>\n",
       "      <td>3</td>\n",
       "      <td>married</td>\n",
       "      <td>40423</td>\n",
       "      <td>South</td>\n",
       "    </tr>\n",
       "    <tr>\n",
       "      <th>4</th>\n",
       "      <td>2539329</td>\n",
       "      <td>1</td>\n",
       "      <td>1</td>\n",
       "      <td>2</td>\n",
       "      <td>8</td>\n",
       "      <td>NaN</td>\n",
       "      <td>26405</td>\n",
       "      <td>5</td>\n",
       "      <td>0</td>\n",
       "      <td>XL Pick-A-Size Paper Towel Rolls</td>\n",
       "      <td>...</td>\n",
       "      <td>20</td>\n",
       "      <td>Frequent_customer</td>\n",
       "      <td>Female</td>\n",
       "      <td>Alabama</td>\n",
       "      <td>31</td>\n",
       "      <td>2/17/2019</td>\n",
       "      <td>3</td>\n",
       "      <td>married</td>\n",
       "      <td>40423</td>\n",
       "      <td>South</td>\n",
       "    </tr>\n",
       "  </tbody>\n",
       "</table>\n",
       "<p>5 rows × 30 columns</p>\n",
       "</div>"
      ],
      "text/plain": [
       "   order_id  user_id  order_number  orders_day_of_week  order_hour_of_day  \\\n",
       "0   2539329        1             1                   2                  8   \n",
       "1   2539329        1             1                   2                  8   \n",
       "2   2539329        1             1                   2                  8   \n",
       "3   2539329        1             1                   2                  8   \n",
       "4   2539329        1             1                   2                  8   \n",
       "\n",
       "   days_since_prior_order  product_id  add_to_cart_order reordered  \\\n",
       "0                     NaN         196                  1         0   \n",
       "1                     NaN       14084                  2         0   \n",
       "2                     NaN       12427                  3         0   \n",
       "3                     NaN       26088                  4         0   \n",
       "4                     NaN       26405                  5         0   \n",
       "\n",
       "                              product_name  ...  days_frequency  \\\n",
       "0                                     Soda  ...              20   \n",
       "1  Organic Unsweetened Vanilla Almond Milk  ...              20   \n",
       "2                      Original Beef Jerky  ...              20   \n",
       "3               Aged White Cheddar Popcorn  ...              20   \n",
       "4         XL Pick-A-Size Paper Towel Rolls  ...              20   \n",
       "\n",
       "      frequency_flag  Gender    State Age Date_joined  n_dependants  \\\n",
       "0  Frequent_customer  Female  Alabama  31   2/17/2019             3   \n",
       "1  Frequent_customer  Female  Alabama  31   2/17/2019             3   \n",
       "2  Frequent_customer  Female  Alabama  31   2/17/2019             3   \n",
       "3  Frequent_customer  Female  Alabama  31   2/17/2019             3   \n",
       "4  Frequent_customer  Female  Alabama  31   2/17/2019             3   \n",
       "\n",
       "  Family_status  Income Region  \n",
       "0       married   40423  South  \n",
       "1       married   40423  South  \n",
       "2       married   40423  South  \n",
       "3       married   40423  South  \n",
       "4       married   40423  South  \n",
       "\n",
       "[5 rows x 30 columns]"
      ]
     },
     "execution_count": 21,
     "metadata": {},
     "output_type": "execute_result"
    }
   ],
   "source": [
    "df_clean.head(5)"
   ]
  },
  {
   "cell_type": "code",
   "execution_count": 22,
   "id": "b755bedd",
   "metadata": {},
   "outputs": [
    {
     "data": {
      "text/plain": [
       "5      793176\n",
       "6      811426\n",
       "7      803996\n",
       "8      811895\n",
       "9      810201\n",
       "       ...   \n",
       "95      59877\n",
       "96      40453\n",
       "97      44949\n",
       "98      44587\n",
       "99    1171363\n",
       "Name: max_order, Length: 95, dtype: int64"
      ]
     },
     "execution_count": 22,
     "metadata": {},
     "output_type": "execute_result"
    }
   ],
   "source": [
    "#check that no customers with less than 5 orders are present in the clean dataframe\n",
    "df_clean['max_order'].value_counts().sort_index()"
   ]
  },
  {
   "cell_type": "markdown",
   "id": "99f04ab8",
   "metadata": {},
   "source": [
    "### 5. The marketing and business strategy units at Instacart want to create more-relevant marketing strategies for different products and are, thus, curious about customer profiling in their database."
   ]
  },
  {
   "cell_type": "markdown",
   "id": "8f4c6392",
   "metadata": {},
   "source": [
    "##### 5.1 Age"
   ]
  },
  {
   "cell_type": "code",
   "execution_count": 23,
   "id": "fd94da4b",
   "metadata": {
    "scrolled": false
   },
   "outputs": [
    {
     "data": {
      "text/plain": [
       "18    478471\n",
       "19    496096\n",
       "20    480206\n",
       "21    489131\n",
       "22    490852\n",
       "       ...  \n",
       "77    478001\n",
       "78    471133\n",
       "79    508353\n",
       "80    492765\n",
       "81    485872\n",
       "Name: Age, Length: 64, dtype: int64"
      ]
     },
     "execution_count": 23,
     "metadata": {},
     "output_type": "execute_result"
    }
   ],
   "source": [
    "df_clean['Age'].value_counts().sort_index()"
   ]
  },
  {
   "cell_type": "markdown",
   "id": "70a671f7",
   "metadata": {},
   "source": [
    "Creating 10 year interval groups for the age will lead to easier to read charts"
   ]
  },
  {
   "cell_type": "code",
   "execution_count": 63,
   "id": "f21f8035",
   "metadata": {},
   "outputs": [
    {
     "name": "stderr",
     "output_type": "stream",
     "text": [
      "<ipython-input-63-73905c13c832>:21: SettingWithCopyWarning: \n",
      "A value is trying to be set on a copy of a slice from a DataFrame.\n",
      "Try using .loc[row_indexer,col_indexer] = value instead\n",
      "\n",
      "See the caveats in the documentation: https://pandas.pydata.org/pandas-docs/stable/user_guide/indexing.html#returning-a-view-versus-a-copy\n",
      "  df_clean['age_group'] = age_group\n"
     ]
    }
   ],
   "source": [
    "#create 10 years inteval age groups:\n",
    "age_group = []\n",
    "\n",
    "for i in df_clean['Age']:\n",
    "    if i < 20:\n",
    "        age_group.append('20 or less')     \n",
    "    elif (i >=20) and (i < 30):\n",
    "        age_group.append('20-30')     \n",
    "    elif (i >= 30) and (i < 40):\n",
    "        age_group.append('30-40')\n",
    "    elif (i >= 40) and (i < 50):\n",
    "        age_group.append('40-50')\n",
    "    elif (i >= 50) and (i < 60):\n",
    "        age_group.append('50-60')    \n",
    "    elif (i >= 60) and (i < 70):\n",
    "        age_group.append('60-70')\n",
    "    else:\n",
    "        age_group.append('over 70')\n",
    "\n",
    "#append the new column to the dataframe\n",
    "df_clean['age_group'] = age_group\n",
    "        \n",
    "        "
   ]
  },
  {
   "cell_type": "code",
   "execution_count": 25,
   "id": "009b8047",
   "metadata": {
    "scrolled": false
   },
   "outputs": [
    {
     "name": "stderr",
     "output_type": "stream",
     "text": [
      "<ipython-input-25-57e362922512>:1: SettingWithCopyWarning: \n",
      "A value is trying to be set on a copy of a slice from a DataFrame.\n",
      "Try using .loc[row_indexer,col_indexer] = value instead\n",
      "\n",
      "See the caveats in the documentation: https://pandas.pydata.org/pandas-docs/stable/user_guide/indexing.html#returning-a-view-versus-a-copy\n",
      "  df_clean['age_group'] = df_clean['age_group'].astype('category')\n"
     ]
    }
   ],
   "source": [
    "#cast as category\n",
    "df_clean['age_group'] = df_clean['age_group'].astype('category')"
   ]
  },
  {
   "cell_type": "markdown",
   "id": "4c224701",
   "metadata": {},
   "source": [
    "Crosscorrelations"
   ]
  },
  {
   "cell_type": "code",
   "execution_count": 26,
   "id": "b11acdf9",
   "metadata": {},
   "outputs": [],
   "source": [
    "#Age/hour\n",
    "crosstab_age_time = pd.crosstab(df_clean['age_group'], df_clean['order_hour_of_day'], dropna = False)\n",
    "crosstab_age_time.to_clipboard()"
   ]
  },
  {
   "cell_type": "code",
   "execution_count": 27,
   "id": "d2d3e46f",
   "metadata": {},
   "outputs": [],
   "source": [
    "#Age/day\n",
    "crosstab_age_time = pd.crosstab(df_clean['age_group'], df_clean['orders_day_of_week'], dropna = False)\n",
    "crosstab_age_time.to_clipboard()"
   ]
  },
  {
   "cell_type": "code",
   "execution_count": 75,
   "id": "766bf6be",
   "metadata": {},
   "outputs": [],
   "source": [
    "#age/department\n",
    "crosstab_age_department = pd.crosstab(df_clean['age_group'], df_clean['department_id'], dropna = False)\n",
    "crosstab_age_department.to_clipboard()"
   ]
  },
  {
   "cell_type": "code",
   "execution_count": 95,
   "id": "4b2be509",
   "metadata": {},
   "outputs": [],
   "source": [
    "#age/loyalty\n",
    "crosstab_age_income = pd.crosstab(df_clean['age_group'], df_clean['loyalty_flag'], dropna = False)\n",
    "crosstab_age_income.to_clipboard()"
   ]
  },
  {
   "cell_type": "markdown",
   "id": "27111c4f",
   "metadata": {},
   "source": [
    "##### 5.2 Income"
   ]
  },
  {
   "cell_type": "code",
   "execution_count": 33,
   "id": "31c25eda",
   "metadata": {},
   "outputs": [
    {
     "data": {
      "text/plain": [
       "25903      20\n",
       "25911      28\n",
       "25937      39\n",
       "25941      31\n",
       "25955     392\n",
       "         ... \n",
       "584097    826\n",
       "590790     54\n",
       "591089    176\n",
       "592409    318\n",
       "593901    640\n",
       "Name: Income, Length: 96070, dtype: int64"
      ]
     },
     "execution_count": 33,
     "metadata": {},
     "output_type": "execute_result"
    }
   ],
   "source": [
    "df_clean['Income'].value_counts().sort_index()"
   ]
  },
  {
   "cell_type": "code",
   "execution_count": 30,
   "id": "e636b7a3",
   "metadata": {},
   "outputs": [
    {
     "name": "stderr",
     "output_type": "stream",
     "text": [
      "C:\\ProgramData\\Anaconda3\\lib\\site-packages\\pandas\\core\\indexing.py:1599: SettingWithCopyWarning: \n",
      "A value is trying to be set on a copy of a slice from a DataFrame.\n",
      "Try using .loc[row_indexer,col_indexer] = value instead\n",
      "\n",
      "See the caveats in the documentation: https://pandas.pydata.org/pandas-docs/stable/user_guide/indexing.html#returning-a-view-versus-a-copy\n",
      "  self.obj[key] = infer_fill_value(value)\n",
      "C:\\ProgramData\\Anaconda3\\lib\\site-packages\\pandas\\core\\indexing.py:1720: SettingWithCopyWarning: \n",
      "A value is trying to be set on a copy of a slice from a DataFrame.\n",
      "Try using .loc[row_indexer,col_indexer] = value instead\n",
      "\n",
      "See the caveats in the documentation: https://pandas.pydata.org/pandas-docs/stable/user_guide/indexing.html#returning-a-view-versus-a-copy\n",
      "  self._setitem_single_column(loc, value, pi)\n",
      "C:\\ProgramData\\Anaconda3\\lib\\site-packages\\pandas\\core\\indexing.py:1720: SettingWithCopyWarning: \n",
      "A value is trying to be set on a copy of a slice from a DataFrame.\n",
      "Try using .loc[row_indexer,col_indexer] = value instead\n",
      "\n",
      "See the caveats in the documentation: https://pandas.pydata.org/pandas-docs/stable/user_guide/indexing.html#returning-a-view-versus-a-copy\n",
      "  self._setitem_single_column(loc, value, pi)\n",
      "C:\\ProgramData\\Anaconda3\\lib\\site-packages\\pandas\\core\\indexing.py:1720: SettingWithCopyWarning: \n",
      "A value is trying to be set on a copy of a slice from a DataFrame.\n",
      "Try using .loc[row_indexer,col_indexer] = value instead\n",
      "\n",
      "See the caveats in the documentation: https://pandas.pydata.org/pandas-docs/stable/user_guide/indexing.html#returning-a-view-versus-a-copy\n",
      "  self._setitem_single_column(loc, value, pi)\n"
     ]
    }
   ],
   "source": [
    "#creating a flag based on income\n",
    "df_clean.loc[df_clean['Income'] < 50000, 'Income_flag'] = 'Low_income'\n",
    "df_clean.loc[(df_clean['Income'] >= 50000) & (df_clean['Income'] < 100000), 'Income_flag'] = 'Average_income'\n",
    "df_clean.loc[df_clean['Income'] >= 100000, 'Income_flag'] = 'High_income'"
   ]
  },
  {
   "cell_type": "code",
   "execution_count": 34,
   "id": "c120830d",
   "metadata": {},
   "outputs": [
    {
     "data": {
      "text/plain": [
       "High_income       14207896\n",
       "Average_income    13395113\n",
       "Low_income         3362683\n",
       "Name: Income_flag, dtype: int64"
      ]
     },
     "execution_count": 34,
     "metadata": {},
     "output_type": "execute_result"
    }
   ],
   "source": [
    "df_clean['Income_flag'].value_counts()"
   ]
  },
  {
   "cell_type": "code",
   "execution_count": 35,
   "id": "0afffa3c",
   "metadata": {
    "scrolled": false
   },
   "outputs": [
    {
     "name": "stderr",
     "output_type": "stream",
     "text": [
      "<ipython-input-35-306fc0915127>:2: SettingWithCopyWarning: \n",
      "A value is trying to be set on a copy of a slice from a DataFrame.\n",
      "Try using .loc[row_indexer,col_indexer] = value instead\n",
      "\n",
      "See the caveats in the documentation: https://pandas.pydata.org/pandas-docs/stable/user_guide/indexing.html#returning-a-view-versus-a-copy\n",
      "  df_clean['Income_flag'] = df_clean['Income_flag'].astype('category')\n"
     ]
    }
   ],
   "source": [
    "#cast the 'Income_flag' as category\n",
    "df_clean['Income_flag'] = df_clean['Income_flag'].astype('category')"
   ]
  },
  {
   "cell_type": "markdown",
   "id": "d836f376",
   "metadata": {},
   "source": [
    "Crosscorrelations\n"
   ]
  },
  {
   "cell_type": "code",
   "execution_count": 46,
   "id": "fc1eba5e",
   "metadata": {},
   "outputs": [],
   "source": [
    "#income/hour of the day\n",
    "crosstab_income = pd.crosstab(df_clean['Income_flag'], df_clean['order_hour_of_day'], dropna = False)\n",
    "crosstab_income.to_clipboard()"
   ]
  },
  {
   "cell_type": "code",
   "execution_count": 47,
   "id": "b869cf8e",
   "metadata": {},
   "outputs": [],
   "source": [
    "#income/day of the week\n",
    "crosstab_income = pd.crosstab(df_clean['Income_flag'], df_clean['orders_day_of_week'], dropna = False)\n",
    "crosstab_income.to_clipboard()"
   ]
  },
  {
   "cell_type": "code",
   "execution_count": 49,
   "id": "4ae9996b",
   "metadata": {},
   "outputs": [],
   "source": [
    "#income/department\n",
    "crosstab_income = pd.crosstab(df_clean['Income_flag'], df_clean['department_id'], dropna = False)\n",
    "crosstab_income.to_clipboard()"
   ]
  },
  {
   "cell_type": "code",
   "execution_count": 83,
   "id": "601a8e3b",
   "metadata": {},
   "outputs": [],
   "source": [
    "#age/income\n",
    "crosstab_age_income = pd.crosstab(df_clean['age_group'], df_clean['Income_flag'], dropna = False)\n",
    "crosstab_age_income.to_clipboard()"
   ]
  },
  {
   "cell_type": "markdown",
   "id": "825c5809",
   "metadata": {},
   "source": [
    "#### 5.3 Family Status"
   ]
  },
  {
   "cell_type": "code",
   "execution_count": 51,
   "id": "bbe67877",
   "metadata": {
    "scrolled": true
   },
   "outputs": [
    {
     "data": {
      "text/plain": [
       "married                             21764336\n",
       "single                               5099619\n",
       "divorced/widowed                     2647899\n",
       "living with parents and siblings     1482757\n",
       "Name: Family_status, dtype: int64"
      ]
     },
     "execution_count": 51,
     "metadata": {},
     "output_type": "execute_result"
    }
   ],
   "source": [
    "df_clean['Family_status'].value_counts()"
   ]
  },
  {
   "cell_type": "markdown",
   "id": "ed8a61af",
   "metadata": {},
   "source": [
    "Crosscorrelations"
   ]
  },
  {
   "cell_type": "code",
   "execution_count": 56,
   "id": "b22d6c76",
   "metadata": {},
   "outputs": [],
   "source": [
    "#family status/hour\n",
    "crosstab_fam_hour = pd.crosstab(df_clean['Family_status'], df_clean['order_hour_of_day'], dropna = False)\n",
    "crosstab_fam_hour.T.to_clipboard()"
   ]
  },
  {
   "cell_type": "code",
   "execution_count": 57,
   "id": "57afebd1",
   "metadata": {},
   "outputs": [],
   "source": [
    "#family status/day\n",
    "crosstab_fam_day = pd.crosstab(df_clean['Family_status'], df_clean['orders_day_of_week'], dropna = False)\n",
    "crosstab_fam_day.T.to_clipboard()"
   ]
  },
  {
   "cell_type": "code",
   "execution_count": 54,
   "id": "8788e3f0",
   "metadata": {},
   "outputs": [],
   "source": [
    "#family status/department\n",
    "crosstab_fam = pd.crosstab(df_clean['Family_status'], df_clean['department_id'], dropna = False)\n",
    "crosstab_fam_dep.to_clipboard()"
   ]
  },
  {
   "cell_type": "code",
   "execution_count": null,
   "id": "30940734",
   "metadata": {},
   "outputs": [],
   "source": [
    "#family status/income\n",
    "crosstab_fam = pd.crosstab(df_clean['Family_status'], df_clean['Income_flag'], dropna = False)\n",
    "crosstab_fam_income.to_clipboard()"
   ]
  },
  {
   "cell_type": "code",
   "execution_count": 52,
   "id": "e4302575",
   "metadata": {},
   "outputs": [],
   "source": [
    "crosstab_fam_age_t = crosstab_fam_age.T\n",
    "crosstab_fam_age_t.to_clipboard()"
   ]
  },
  {
   "cell_type": "markdown",
   "id": "0a9c9b01",
   "metadata": {},
   "source": [
    "#### 5.4 Prices"
   ]
  },
  {
   "cell_type": "code",
   "execution_count": 6,
   "id": "667c9d95",
   "metadata": {},
   "outputs": [
    {
     "name": "stderr",
     "output_type": "stream",
     "text": [
      "<ipython-input-6-b8695537ea0e>:14: SettingWithCopyWarning: \n",
      "A value is trying to be set on a copy of a slice from a DataFrame.\n",
      "Try using .loc[row_indexer,col_indexer] = value instead\n",
      "\n",
      "See the caveats in the documentation: https://pandas.pydata.org/pandas-docs/stable/user_guide/indexing.html#returning-a-view-versus-a-copy\n",
      "  df_clean['price_flag'] = price_flag\n"
     ]
    }
   ],
   "source": [
    "#create a flag for product price range\n",
    "price_flag = []\n",
    "for i in df_clean['prices']:\n",
    "    if i < 5:\n",
    "        price_flag.append('low_range_price')\n",
    "    elif (i >= 5) and (i <10):\n",
    "        price_flag.append('mid_range_price')\n",
    "    elif (i >=10) and (i < 15):\n",
    "        price_flag.append('upper_range_price')\n",
    "    else:\n",
    "        price_flag.append('high_range_price')\n",
    "        \n",
    " #append the new flag column to the dataframe       \n",
    "df_clean['price_flag'] = price_flag"
   ]
  },
  {
   "cell_type": "code",
   "execution_count": 39,
   "id": "5e1755c4",
   "metadata": {},
   "outputs": [
    {
     "data": {
      "text/plain": [
       "mid_range_price      11343264\n",
       "upper_range_price     9677250\n",
       "low_range_price       9459110\n",
       "high_range_price       486068\n",
       "Name: price_flag, dtype: int64"
      ]
     },
     "execution_count": 39,
     "metadata": {},
     "output_type": "execute_result"
    }
   ],
   "source": [
    "df_clean['price_flag'].value_counts()"
   ]
  },
  {
   "cell_type": "code",
   "execution_count": 7,
   "id": "976cb1fe",
   "metadata": {
    "scrolled": false
   },
   "outputs": [
    {
     "name": "stderr",
     "output_type": "stream",
     "text": [
      "<ipython-input-7-ac11f02213a3>:2: SettingWithCopyWarning: \n",
      "A value is trying to be set on a copy of a slice from a DataFrame.\n",
      "Try using .loc[row_indexer,col_indexer] = value instead\n",
      "\n",
      "See the caveats in the documentation: https://pandas.pydata.org/pandas-docs/stable/user_guide/indexing.html#returning-a-view-versus-a-copy\n",
      "  df_clean['price_flag'] = df_clean['price_flag'].astype('category')\n"
     ]
    }
   ],
   "source": [
    "#cast the price flag as category \n",
    "df_clean['price_flag'] = df_clean['price_flag'].astype('category')"
   ]
  },
  {
   "cell_type": "markdown",
   "id": "c15ff587",
   "metadata": {},
   "source": [
    "Correlations"
   ]
  },
  {
   "cell_type": "code",
   "execution_count": 321,
   "id": "2572e47e",
   "metadata": {
    "scrolled": true
   },
   "outputs": [
    {
     "ename": "KeyError",
     "evalue": "'price_flag'",
     "output_type": "error",
     "traceback": [
      "\u001b[1;31m---------------------------------------------------------------------------\u001b[0m",
      "\u001b[1;31mKeyError\u001b[0m                                  Traceback (most recent call last)",
      "\u001b[1;32mC:\\ProgramData\\Anaconda3\\lib\\site-packages\\pandas\\core\\indexes\\base.py\u001b[0m in \u001b[0;36mget_loc\u001b[1;34m(self, key, method, tolerance)\u001b[0m\n\u001b[0;32m   3079\u001b[0m             \u001b[1;32mtry\u001b[0m\u001b[1;33m:\u001b[0m\u001b[1;33m\u001b[0m\u001b[1;33m\u001b[0m\u001b[0m\n\u001b[1;32m-> 3080\u001b[1;33m                 \u001b[1;32mreturn\u001b[0m \u001b[0mself\u001b[0m\u001b[1;33m.\u001b[0m\u001b[0m_engine\u001b[0m\u001b[1;33m.\u001b[0m\u001b[0mget_loc\u001b[0m\u001b[1;33m(\u001b[0m\u001b[0mcasted_key\u001b[0m\u001b[1;33m)\u001b[0m\u001b[1;33m\u001b[0m\u001b[1;33m\u001b[0m\u001b[0m\n\u001b[0m\u001b[0;32m   3081\u001b[0m             \u001b[1;32mexcept\u001b[0m \u001b[0mKeyError\u001b[0m \u001b[1;32mas\u001b[0m \u001b[0merr\u001b[0m\u001b[1;33m:\u001b[0m\u001b[1;33m\u001b[0m\u001b[1;33m\u001b[0m\u001b[0m\n",
      "\u001b[1;32mpandas\\_libs\\index.pyx\u001b[0m in \u001b[0;36mpandas._libs.index.IndexEngine.get_loc\u001b[1;34m()\u001b[0m\n",
      "\u001b[1;32mpandas\\_libs\\index.pyx\u001b[0m in \u001b[0;36mpandas._libs.index.IndexEngine.get_loc\u001b[1;34m()\u001b[0m\n",
      "\u001b[1;32mpandas\\_libs\\hashtable_class_helper.pxi\u001b[0m in \u001b[0;36mpandas._libs.hashtable.PyObjectHashTable.get_item\u001b[1;34m()\u001b[0m\n",
      "\u001b[1;32mpandas\\_libs\\hashtable_class_helper.pxi\u001b[0m in \u001b[0;36mpandas._libs.hashtable.PyObjectHashTable.get_item\u001b[1;34m()\u001b[0m\n",
      "\u001b[1;31mKeyError\u001b[0m: 'price_flag'",
      "\nThe above exception was the direct cause of the following exception:\n",
      "\u001b[1;31mKeyError\u001b[0m                                  Traceback (most recent call last)",
      "\u001b[1;32m<ipython-input-321-f79625a8bd60>\u001b[0m in \u001b[0;36m<module>\u001b[1;34m\u001b[0m\n\u001b[1;32m----> 1\u001b[1;33m \u001b[0mcrosstab_price_age\u001b[0m \u001b[1;33m=\u001b[0m \u001b[0mpd\u001b[0m\u001b[1;33m.\u001b[0m\u001b[0mcrosstab\u001b[0m\u001b[1;33m(\u001b[0m\u001b[0mdf_clean\u001b[0m\u001b[1;33m[\u001b[0m\u001b[1;34m'price_flag'\u001b[0m\u001b[1;33m]\u001b[0m\u001b[1;33m,\u001b[0m \u001b[0mdf_clean\u001b[0m\u001b[1;33m[\u001b[0m\u001b[1;34m'age_group'\u001b[0m\u001b[1;33m]\u001b[0m\u001b[1;33m,\u001b[0m \u001b[0mdropna\u001b[0m \u001b[1;33m=\u001b[0m \u001b[1;32mFalse\u001b[0m\u001b[1;33m)\u001b[0m\u001b[1;33m\u001b[0m\u001b[1;33m\u001b[0m\u001b[0m\n\u001b[0m\u001b[0;32m      2\u001b[0m \u001b[0mcrosstab_price_age\u001b[0m\u001b[1;33m\u001b[0m\u001b[1;33m\u001b[0m\u001b[0m\n",
      "\u001b[1;32mC:\\ProgramData\\Anaconda3\\lib\\site-packages\\pandas\\core\\frame.py\u001b[0m in \u001b[0;36m__getitem__\u001b[1;34m(self, key)\u001b[0m\n\u001b[0;32m   3022\u001b[0m             \u001b[1;32mif\u001b[0m \u001b[0mself\u001b[0m\u001b[1;33m.\u001b[0m\u001b[0mcolumns\u001b[0m\u001b[1;33m.\u001b[0m\u001b[0mnlevels\u001b[0m \u001b[1;33m>\u001b[0m \u001b[1;36m1\u001b[0m\u001b[1;33m:\u001b[0m\u001b[1;33m\u001b[0m\u001b[1;33m\u001b[0m\u001b[0m\n\u001b[0;32m   3023\u001b[0m                 \u001b[1;32mreturn\u001b[0m \u001b[0mself\u001b[0m\u001b[1;33m.\u001b[0m\u001b[0m_getitem_multilevel\u001b[0m\u001b[1;33m(\u001b[0m\u001b[0mkey\u001b[0m\u001b[1;33m)\u001b[0m\u001b[1;33m\u001b[0m\u001b[1;33m\u001b[0m\u001b[0m\n\u001b[1;32m-> 3024\u001b[1;33m             \u001b[0mindexer\u001b[0m \u001b[1;33m=\u001b[0m \u001b[0mself\u001b[0m\u001b[1;33m.\u001b[0m\u001b[0mcolumns\u001b[0m\u001b[1;33m.\u001b[0m\u001b[0mget_loc\u001b[0m\u001b[1;33m(\u001b[0m\u001b[0mkey\u001b[0m\u001b[1;33m)\u001b[0m\u001b[1;33m\u001b[0m\u001b[1;33m\u001b[0m\u001b[0m\n\u001b[0m\u001b[0;32m   3025\u001b[0m             \u001b[1;32mif\u001b[0m \u001b[0mis_integer\u001b[0m\u001b[1;33m(\u001b[0m\u001b[0mindexer\u001b[0m\u001b[1;33m)\u001b[0m\u001b[1;33m:\u001b[0m\u001b[1;33m\u001b[0m\u001b[1;33m\u001b[0m\u001b[0m\n\u001b[0;32m   3026\u001b[0m                 \u001b[0mindexer\u001b[0m \u001b[1;33m=\u001b[0m \u001b[1;33m[\u001b[0m\u001b[0mindexer\u001b[0m\u001b[1;33m]\u001b[0m\u001b[1;33m\u001b[0m\u001b[1;33m\u001b[0m\u001b[0m\n",
      "\u001b[1;32mC:\\ProgramData\\Anaconda3\\lib\\site-packages\\pandas\\core\\indexes\\base.py\u001b[0m in \u001b[0;36mget_loc\u001b[1;34m(self, key, method, tolerance)\u001b[0m\n\u001b[0;32m   3080\u001b[0m                 \u001b[1;32mreturn\u001b[0m \u001b[0mself\u001b[0m\u001b[1;33m.\u001b[0m\u001b[0m_engine\u001b[0m\u001b[1;33m.\u001b[0m\u001b[0mget_loc\u001b[0m\u001b[1;33m(\u001b[0m\u001b[0mcasted_key\u001b[0m\u001b[1;33m)\u001b[0m\u001b[1;33m\u001b[0m\u001b[1;33m\u001b[0m\u001b[0m\n\u001b[0;32m   3081\u001b[0m             \u001b[1;32mexcept\u001b[0m \u001b[0mKeyError\u001b[0m \u001b[1;32mas\u001b[0m \u001b[0merr\u001b[0m\u001b[1;33m:\u001b[0m\u001b[1;33m\u001b[0m\u001b[1;33m\u001b[0m\u001b[0m\n\u001b[1;32m-> 3082\u001b[1;33m                 \u001b[1;32mraise\u001b[0m \u001b[0mKeyError\u001b[0m\u001b[1;33m(\u001b[0m\u001b[0mkey\u001b[0m\u001b[1;33m)\u001b[0m \u001b[1;32mfrom\u001b[0m \u001b[0merr\u001b[0m\u001b[1;33m\u001b[0m\u001b[1;33m\u001b[0m\u001b[0m\n\u001b[0m\u001b[0;32m   3083\u001b[0m \u001b[1;33m\u001b[0m\u001b[0m\n\u001b[0;32m   3084\u001b[0m         \u001b[1;32mif\u001b[0m \u001b[0mtolerance\u001b[0m \u001b[1;32mis\u001b[0m \u001b[1;32mnot\u001b[0m \u001b[1;32mNone\u001b[0m\u001b[1;33m:\u001b[0m\u001b[1;33m\u001b[0m\u001b[1;33m\u001b[0m\u001b[0m\n",
      "\u001b[1;31mKeyError\u001b[0m: 'price_flag'"
     ]
    }
   ],
   "source": [
    "crosstab_price_age = pd.crosstab(df_clean['price_flag'], df_clean['age_group'], dropna = False)\n",
    "crosstab_price_age"
   ]
  },
  {
   "cell_type": "code",
   "execution_count": 42,
   "id": "5bc8ba86",
   "metadata": {},
   "outputs": [],
   "source": [
    "crosstab_price_age.to_clipboard()"
   ]
  },
  {
   "cell_type": "code",
   "execution_count": 8,
   "id": "02de2929",
   "metadata": {},
   "outputs": [],
   "source": [
    "#price/hour\n",
    "crosstab_price_hour = pd.crosstab(df_clean['price_flag'], df_clean['order_hour_of_day'], dropna = False)\n",
    "crosstab_price_hour.to_clipboard()"
   ]
  },
  {
   "cell_type": "code",
   "execution_count": 9,
   "id": "359fdbfa",
   "metadata": {},
   "outputs": [],
   "source": [
    "#price/dat\n",
    "crosstab_price_day = pd.crosstab(df_clean['price_flag'], df_clean['orders_day_of_week'], dropna = False)\n",
    "crosstab_price_day.to_clipboard()"
   ]
  },
  {
   "cell_type": "code",
   "execution_count": 44,
   "id": "a4de3f9c",
   "metadata": {},
   "outputs": [],
   "source": [
    "#price/income\n",
    "crosstab_price_income = pd.crosstab(df_clean['price_flag'], df_clean['Income_flag'], dropna = False)\n",
    "crosstab_price_income.to_clipboard()"
   ]
  },
  {
   "cell_type": "code",
   "execution_count": 46,
   "id": "744b12c8",
   "metadata": {},
   "outputs": [],
   "source": [
    "#price/famiily status\n",
    "crosstab_price_family = pd.crosstab(df_clean['price_flag'], df_clean['Family_status'], dropna = False)\n",
    "crosstab_price_family.to_clipboard()"
   ]
  },
  {
   "cell_type": "markdown",
   "id": "26fd7ded",
   "metadata": {},
   "source": [
    "#### 5.5 Spending flag"
   ]
  },
  {
   "cell_type": "code",
   "execution_count": 56,
   "id": "c27ff3d7",
   "metadata": {},
   "outputs": [],
   "source": [
    "#spending/hour\n",
    "crosstab_spending_hour = pd.crosstab(df_clean['spending_flag'], df_clean['order_hour_of_day'], dropna = False)\n",
    "crosstab_spending_hour.to_clipboard()"
   ]
  },
  {
   "cell_type": "code",
   "execution_count": 57,
   "id": "5b2a3451",
   "metadata": {},
   "outputs": [],
   "source": [
    "#spending/day\n",
    "crosstab_spending_day = pd.crosstab(df_clean['spending_flag'], df_clean['orders_day_of_week'], dropna = False)\n",
    "crosstab_spending_day.to_clipboard()"
   ]
  },
  {
   "cell_type": "code",
   "execution_count": 61,
   "id": "45a0d04a",
   "metadata": {},
   "outputs": [],
   "source": [
    "#spending/income\n",
    "crosstab_spending_income = pd.crosstab(df_clean['spending_flag'], df_clean['Income_flag'], dropna = False)\n",
    "crosstab_spending_income.to_clipboard()"
   ]
  },
  {
   "cell_type": "code",
   "execution_count": 62,
   "id": "8c08e227",
   "metadata": {},
   "outputs": [],
   "source": [
    "#spending/family status\n",
    "crosstab_spending_family = pd.crosstab(df_clean['spending_flag'], df_clean['Family_status'], dropna = False)\n",
    "crosstab_spending_family.to_clipboard()"
   ]
  },
  {
   "cell_type": "markdown",
   "id": "3880812c",
   "metadata": {},
   "source": [
    "#### 5.6 Gender"
   ]
  },
  {
   "cell_type": "code",
   "execution_count": 63,
   "id": "17fdffd1",
   "metadata": {},
   "outputs": [],
   "source": [
    "#gender/hour\n",
    "crosstab_gender_hour = pd.crosstab(df_clean['Gender'], df_clean['order_hour_of_day'], dropna = False)\n",
    "crosstab_gender_hour.to_clipboard()"
   ]
  },
  {
   "cell_type": "code",
   "execution_count": 64,
   "id": "da9aff03",
   "metadata": {},
   "outputs": [],
   "source": [
    "#gender/day\n",
    "crosstab_gender_day = pd.crosstab(df_clean['Gender'], df_clean['orders_day_of_week'], dropna = False)\n",
    "crosstab_gender_day.to_clipboard()"
   ]
  },
  {
   "cell_type": "markdown",
   "id": "d33ed903",
   "metadata": {},
   "source": [
    "\n",
    "### 6. Create an appropriate visualization to show the distribution of profiles. \n"
   ]
  },
  {
   "cell_type": "code",
   "execution_count": 415,
   "id": "a7d64db7",
   "metadata": {},
   "outputs": [
    {
     "data": {
      "image/png": "[encoded data removed]",
      "text/plain": [
       "<Figure size 432x288 with 1 Axes>"
      ]
     },
     "metadata": {
      "needs_background": "light"
     },
     "output_type": "display_data"
    }
   ],
   "source": [
    "#income/mean prices\n",
    "bar1 = df_clean['Income_flag'].value_counts('mean_prices_customers').plot.bar()"
   ]
  },
  {
   "cell_type": "code",
   "execution_count": 87,
   "id": "f067131d",
   "metadata": {},
   "outputs": [],
   "source": [
    "bar1.figure.savefig(os.path.join(path, '04analysis','Visualizations', 'income_flag_vs_prices.jpg'))"
   ]
  },
  {
   "cell_type": "code",
   "execution_count": 89,
   "id": "7f360122",
   "metadata": {},
   "outputs": [
    {
     "data": {
      "image/png": "[encoded data removed]",
      "text/plain": [
       "<Figure size 432x288 with 1 Axes>"
      ]
     },
     "metadata": {
      "needs_background": "light"
     },
     "output_type": "display_data"
    }
   ],
   "source": [
    "#family status/prices\n",
    "bar2 = df_clean['Family_status'].value_counts('prices').plot.bar()"
   ]
  },
  {
   "cell_type": "code",
   "execution_count": 116,
   "id": "94ea8ef6",
   "metadata": {},
   "outputs": [],
   "source": [
    "bar2.figure.savefig(os.path.join(path, '04analysis','Visualizations', 'family_status_vs_prices.png'),bbox_inches='tight')"
   ]
  },
  {
   "cell_type": "code",
   "execution_count": 27,
   "id": "17e92d8e",
   "metadata": {},
   "outputs": [],
   "source": [
    "#setting a random seed to spit the dataset for quicker line chart processing\n",
    "np.random.seed(4)\n",
    "dev = np.random.rand(len(df_clean)) <= 0.7"
   ]
  },
  {
   "cell_type": "code",
   "execution_count": 28,
   "id": "9d0e939d",
   "metadata": {},
   "outputs": [],
   "source": [
    "#smaller dataframe for line charts\n",
    "small = df_clean[~dev]"
   ]
  },
  {
   "cell_type": "code",
   "execution_count": 29,
   "id": "8e8de2bf",
   "metadata": {},
   "outputs": [],
   "source": [
    "df_2 = small[['orders_day_of_week','prices']]"
   ]
  },
  {
   "cell_type": "code",
   "execution_count": 99,
   "id": "3eeb273e",
   "metadata": {},
   "outputs": [
    {
     "data": {
      "image/png": "[encoded data removed]",
      "text/plain": [
       "<Figure size 432x288 with 1 Axes>"
      ]
     },
     "metadata": {
      "needs_background": "light"
     },
     "output_type": "display_data"
    }
   ],
   "source": [
    "orders by day/ prices\n",
    "line_plot1 = sns.lineplot(data = df_2, x = 'orders_day_of_week',y = 'prices')"
   ]
  },
  {
   "cell_type": "code",
   "execution_count": 102,
   "id": "cb2b2ee8",
   "metadata": {},
   "outputs": [],
   "source": [
    "df_3 = small[['order_hour_of_day','prices']]"
   ]
  },
  {
   "cell_type": "code",
   "execution_count": 103,
   "id": "a78126bb",
   "metadata": {
    "scrolled": true
   },
   "outputs": [
    {
     "data": {
      "image/png": "[encoded data removed]",
      "text/plain": [
       "<Figure size 432x288 with 1 Axes>"
      ]
     },
     "metadata": {
      "needs_background": "light"
     },
     "output_type": "display_data"
    }
   ],
   "source": [
    "orders by hour/prices\n",
    "line_plot2 = sns.lineplot(data = df_3, x = 'order_hour_of_day', y = 'prices')"
   ]
  },
  {
   "cell_type": "code",
   "execution_count": 109,
   "id": "97cb9338",
   "metadata": {},
   "outputs": [],
   "source": [
    "line_plot2.figure.savefig(os.path.join(path, '04analysis','Visualizations', 'prices_vs_hour.png'))"
   ]
  },
  {
   "cell_type": "code",
   "execution_count": 106,
   "id": "360b10a1",
   "metadata": {},
   "outputs": [],
   "source": [
    "df_4 = small[['order_hour_of_day', 'mean_prices_customers']]"
   ]
  },
  {
   "cell_type": "code",
   "execution_count": 107,
   "id": "a7901140",
   "metadata": {},
   "outputs": [
    {
     "data": {
      "image/png": "[encoded data removed]",
      "text/plain": [
       "<Figure size 432x288 with 1 Axes>"
      ]
     },
     "metadata": {
      "needs_background": "light"
     },
     "output_type": "display_data"
    }
   ],
   "source": [
    "#orders by hour/mean prices\n",
    "line_plot3 = sns.lineplot(data = df_4, x = 'order_hour_of_day', y = 'mean_prices_customers')"
   ]
  },
  {
   "cell_type": "code",
   "execution_count": 115,
   "id": "77c8c49f",
   "metadata": {},
   "outputs": [],
   "source": [
    "line_plot3.figure.savefig(os.path.join(path, '04analysis','Visualizations', 'mean_prices_vs_hour.png'), bbox_inches = 'tight')"
   ]
  },
  {
   "cell_type": "code",
   "execution_count": 110,
   "id": "765b1b80",
   "metadata": {},
   "outputs": [],
   "source": [
    "df_5 = small[['orders_day_of_week','mean_prices_customers']]"
   ]
  },
  {
   "cell_type": "code",
   "execution_count": 113,
   "id": "3292b038",
   "metadata": {
    "scrolled": true
   },
   "outputs": [
    {
     "data": {
      "image/png": "[encoded data removed]",
      "text/plain": [
       "<Figure size 432x288 with 1 Axes>"
      ]
     },
     "metadata": {
      "needs_background": "light"
     },
     "output_type": "display_data"
    }
   ],
   "source": [
    "#orders by day/mean prices\n",
    "line_plot4 = sns.lineplot(data = df_5, x = 'orders_day_of_week', y = 'mean_prices_customers')"
   ]
  },
  {
   "cell_type": "code",
   "execution_count": 117,
   "id": "b5779bf1",
   "metadata": {},
   "outputs": [],
   "source": [
    "line_plot4.figure.savefig(os.path.join(path, '04analysis','Visualizations', 'mean_prices_vs_day.png'), bbox_inches = 'tight')"
   ]
  },
  {
   "cell_type": "code",
   "execution_count": 58,
   "id": "b4b3590c",
   "metadata": {},
   "outputs": [],
   "source": [
    "df_6 = small[['age_group','mean_prices_customers']]"
   ]
  },
  {
   "cell_type": "code",
   "execution_count": 59,
   "id": "0cc7f885",
   "metadata": {
    "scrolled": true
   },
   "outputs": [
    {
     "data": {
      "image/png": "[encoded data removed]",
      "text/plain": [
       "<Figure size 432x288 with 1 Axes>"
      ]
     },
     "metadata": {
      "needs_background": "light"
     },
     "output_type": "display_data"
    }
   ],
   "source": [
    "#age group/mean prices\n",
    "line_plot5 = sns.lineplot(data = df_6, x = 'age_group', y = 'mean_prices_customers')\n"
   ]
  },
  {
   "cell_type": "code",
   "execution_count": 32,
   "id": "fbe4b289",
   "metadata": {},
   "outputs": [],
   "source": [
    "line_plot5.figure.savefig(os.path.join(path, '04analysis','Visualizations', 'mean_prices_vs_age.png'), bbox_inches = 'tight')"
   ]
  },
  {
   "cell_type": "code",
   "execution_count": 46,
   "id": "826d66e9",
   "metadata": {
    "scrolled": true
   },
   "outputs": [
    {
     "data": {
      "image/png": "[encoded data removed]",
      "text/plain": [
       "<Figure size 432x288 with 1 Axes>"
      ]
     },
     "metadata": {
      "needs_background": "light"
     },
     "output_type": "display_data"
    }
   ],
   "source": [
    "#orders by department\n",
    "bar_dep = df_clean['department_id'].value_counts().plot.bar()"
   ]
  },
  {
   "cell_type": "code",
   "execution_count": 119,
   "id": "71f86f94",
   "metadata": {},
   "outputs": [],
   "source": [
    "bar_dep.figure.savefig(os.path.join(path, '04analysis','Visualizations', 'most_popular_depts.png'))"
   ]
  },
  {
   "cell_type": "markdown",
   "id": "d08d673c",
   "metadata": {},
   "source": [
    "Percentage of orders by department:"
   ]
  },
  {
   "cell_type": "code",
   "execution_count": 161,
   "id": "bd123b36",
   "metadata": {},
   "outputs": [],
   "source": [
    "#import the department dataset\n",
    "\n",
    "df_dep = pd.read_csv(os.path.join(path, '02data', 'prepared_data', 'departments_wrangled.csv'))"
   ]
  },
  {
   "cell_type": "code",
   "execution_count": 162,
   "id": "d7b49937",
   "metadata": {
    "scrolled": true
   },
   "outputs": [
    {
     "data": {
      "text/html": [
       "<div>\n",
       "<style scoped>\n",
       "    .dataframe tbody tr th:only-of-type {\n",
       "        vertical-align: middle;\n",
       "    }\n",
       "\n",
       "    .dataframe tbody tr th {\n",
       "        vertical-align: top;\n",
       "    }\n",
       "\n",
       "    .dataframe thead th {\n",
       "        text-align: right;\n",
       "    }\n",
       "</style>\n",
       "<table border=\"1\" class=\"dataframe\">\n",
       "  <thead>\n",
       "    <tr style=\"text-align: right;\">\n",
       "      <th></th>\n",
       "      <th>Unnamed: 0</th>\n",
       "      <th>department</th>\n",
       "    </tr>\n",
       "  </thead>\n",
       "  <tbody>\n",
       "    <tr>\n",
       "      <th>0</th>\n",
       "      <td>1</td>\n",
       "      <td>frozen</td>\n",
       "    </tr>\n",
       "    <tr>\n",
       "      <th>1</th>\n",
       "      <td>2</td>\n",
       "      <td>other</td>\n",
       "    </tr>\n",
       "    <tr>\n",
       "      <th>2</th>\n",
       "      <td>3</td>\n",
       "      <td>bakery</td>\n",
       "    </tr>\n",
       "    <tr>\n",
       "      <th>3</th>\n",
       "      <td>4</td>\n",
       "      <td>produce</td>\n",
       "    </tr>\n",
       "    <tr>\n",
       "      <th>4</th>\n",
       "      <td>5</td>\n",
       "      <td>alcohol</td>\n",
       "    </tr>\n",
       "  </tbody>\n",
       "</table>\n",
       "</div>"
      ],
      "text/plain": [
       "   Unnamed: 0 department\n",
       "0           1     frozen\n",
       "1           2      other\n",
       "2           3     bakery\n",
       "3           4    produce\n",
       "4           5    alcohol"
      ]
     },
     "execution_count": 162,
     "metadata": {},
     "output_type": "execute_result"
    }
   ],
   "source": [
    "df_dep.head()"
   ]
  },
  {
   "cell_type": "code",
   "execution_count": 226,
   "id": "208a5bf9",
   "metadata": {},
   "outputs": [],
   "source": [
    "#fix column names\n",
    "df_dep_clean = df_dep.rename (columns = {'Unnamed: 0': 'department_id', 'department':'category'})"
   ]
  },
  {
   "cell_type": "code",
   "execution_count": 169,
   "id": "43e1d687",
   "metadata": {},
   "outputs": [],
   "source": [
    "#create a new dataframe only with department information\n",
    "department = df_clean['department_id']"
   ]
  },
  {
   "cell_type": "code",
   "execution_count": 173,
   "id": "254f6114",
   "metadata": {},
   "outputs": [],
   "source": [
    "department_values = department.value_counts()"
   ]
  },
  {
   "cell_type": "code",
   "execution_count": 193,
   "id": "c216feb1",
   "metadata": {},
   "outputs": [],
   "source": [
    "df_dep_val = department_values.to_frame().reset_index()"
   ]
  },
  {
   "cell_type": "code",
   "execution_count": 217,
   "id": "e51c595f",
   "metadata": {},
   "outputs": [
    {
     "data": {
      "text/html": [
       "<div>\n",
       "<style scoped>\n",
       "    .dataframe tbody tr th:only-of-type {\n",
       "        vertical-align: middle;\n",
       "    }\n",
       "\n",
       "    .dataframe tbody tr th {\n",
       "        vertical-align: top;\n",
       "    }\n",
       "\n",
       "    .dataframe thead th {\n",
       "        text-align: right;\n",
       "    }\n",
       "</style>\n",
       "<table border=\"1\" class=\"dataframe\">\n",
       "  <thead>\n",
       "    <tr style=\"text-align: right;\">\n",
       "      <th></th>\n",
       "      <th>index</th>\n",
       "      <th>department_id</th>\n",
       "    </tr>\n",
       "  </thead>\n",
       "  <tbody>\n",
       "    <tr>\n",
       "      <th>0</th>\n",
       "      <td>4.0</td>\n",
       "      <td>9079276</td>\n",
       "    </tr>\n",
       "    <tr>\n",
       "      <th>1</th>\n",
       "      <td>16.0</td>\n",
       "      <td>5191828</td>\n",
       "    </tr>\n",
       "    <tr>\n",
       "      <th>2</th>\n",
       "      <td>19.0</td>\n",
       "      <td>2766406</td>\n",
       "    </tr>\n",
       "  </tbody>\n",
       "</table>\n",
       "</div>"
      ],
      "text/plain": [
       "   index  department_id\n",
       "0    4.0        9079276\n",
       "1   16.0        5191828\n",
       "2   19.0        2766406"
      ]
     },
     "execution_count": 217,
     "metadata": {},
     "output_type": "execute_result"
    }
   ],
   "source": [
    "df_dep_val.head(3)"
   ]
  },
  {
   "cell_type": "code",
   "execution_count": 199,
   "id": "8548a649",
   "metadata": {
    "scrolled": true
   },
   "outputs": [],
   "source": [
    "#fix the column names\n",
    "df_dep_val_clean =df_dep_val.rename(columns = {'index': 'department_id','department_id':'counts'})"
   ]
  },
  {
   "cell_type": "code",
   "execution_count": 216,
   "id": "839ec886",
   "metadata": {},
   "outputs": [
    {
     "data": {
      "text/html": [
       "<div>\n",
       "<style scoped>\n",
       "    .dataframe tbody tr th:only-of-type {\n",
       "        vertical-align: middle;\n",
       "    }\n",
       "\n",
       "    .dataframe tbody tr th {\n",
       "        vertical-align: top;\n",
       "    }\n",
       "\n",
       "    .dataframe thead th {\n",
       "        text-align: right;\n",
       "    }\n",
       "</style>\n",
       "<table border=\"1\" class=\"dataframe\">\n",
       "  <thead>\n",
       "    <tr style=\"text-align: right;\">\n",
       "      <th></th>\n",
       "      <th>department_id</th>\n",
       "      <th>counts</th>\n",
       "      <th>percentage</th>\n",
       "    </tr>\n",
       "  </thead>\n",
       "  <tbody>\n",
       "    <tr>\n",
       "      <th>0</th>\n",
       "      <td>4.0</td>\n",
       "      <td>9079276</td>\n",
       "      <td>29.294920</td>\n",
       "    </tr>\n",
       "    <tr>\n",
       "      <th>1</th>\n",
       "      <td>16.0</td>\n",
       "      <td>5191828</td>\n",
       "      <td>16.751796</td>\n",
       "    </tr>\n",
       "    <tr>\n",
       "      <th>2</th>\n",
       "      <td>19.0</td>\n",
       "      <td>2766406</td>\n",
       "      <td>8.926003</td>\n",
       "    </tr>\n",
       "  </tbody>\n",
       "</table>\n",
       "</div>"
      ],
      "text/plain": [
       "   department_id   counts  percentage\n",
       "0            4.0  9079276   29.294920\n",
       "1           16.0  5191828   16.751796\n",
       "2           19.0  2766406    8.926003"
      ]
     },
     "execution_count": 216,
     "metadata": {},
     "output_type": "execute_result"
    }
   ],
   "source": [
    "df_dep_val_clean.head(3)"
   ]
  },
  {
   "cell_type": "code",
   "execution_count": 201,
   "id": "5dbadb4c",
   "metadata": {},
   "outputs": [],
   "source": [
    "#calculate the percentage\n",
    "percentage = (df_dep_val_clean['counts'] / df_dep_val_clean['counts'].sum())*100"
   ]
  },
  {
   "cell_type": "code",
   "execution_count": 202,
   "id": "b340ba98",
   "metadata": {},
   "outputs": [],
   "source": [
    "#add the percentage to the dataframe\n",
    "df_dep_val_clean['percentage'] = percentage"
   ]
  },
  {
   "cell_type": "code",
   "execution_count": 215,
   "id": "72ed9145",
   "metadata": {},
   "outputs": [
    {
     "data": {
      "text/html": [
       "<div>\n",
       "<style scoped>\n",
       "    .dataframe tbody tr th:only-of-type {\n",
       "        vertical-align: middle;\n",
       "    }\n",
       "\n",
       "    .dataframe tbody tr th {\n",
       "        vertical-align: top;\n",
       "    }\n",
       "\n",
       "    .dataframe thead th {\n",
       "        text-align: right;\n",
       "    }\n",
       "</style>\n",
       "<table border=\"1\" class=\"dataframe\">\n",
       "  <thead>\n",
       "    <tr style=\"text-align: right;\">\n",
       "      <th></th>\n",
       "      <th>department_id</th>\n",
       "      <th>counts</th>\n",
       "      <th>percentage</th>\n",
       "    </tr>\n",
       "  </thead>\n",
       "  <tbody>\n",
       "    <tr>\n",
       "      <th>0</th>\n",
       "      <td>4.0</td>\n",
       "      <td>9079276</td>\n",
       "      <td>29.294920</td>\n",
       "    </tr>\n",
       "    <tr>\n",
       "      <th>1</th>\n",
       "      <td>16.0</td>\n",
       "      <td>5191828</td>\n",
       "      <td>16.751796</td>\n",
       "    </tr>\n",
       "    <tr>\n",
       "      <th>2</th>\n",
       "      <td>19.0</td>\n",
       "      <td>2766406</td>\n",
       "      <td>8.926003</td>\n",
       "    </tr>\n",
       "    <tr>\n",
       "      <th>3</th>\n",
       "      <td>7.0</td>\n",
       "      <td>2571934</td>\n",
       "      <td>8.298525</td>\n",
       "    </tr>\n",
       "    <tr>\n",
       "      <th>4</th>\n",
       "      <td>1.0</td>\n",
       "      <td>2123342</td>\n",
       "      <td>6.851112</td>\n",
       "    </tr>\n",
       "    <tr>\n",
       "      <th>5</th>\n",
       "      <td>13.0</td>\n",
       "      <td>1782903</td>\n",
       "      <td>5.752661</td>\n",
       "    </tr>\n",
       "    <tr>\n",
       "      <th>6</th>\n",
       "      <td>3.0</td>\n",
       "      <td>1125026</td>\n",
       "      <td>3.629975</td>\n",
       "    </tr>\n",
       "    <tr>\n",
       "      <th>7</th>\n",
       "      <td>15.0</td>\n",
       "      <td>1012074</td>\n",
       "      <td>3.265528</td>\n",
       "    </tr>\n",
       "    <tr>\n",
       "      <th>8</th>\n",
       "      <td>20.0</td>\n",
       "      <td>1003834</td>\n",
       "      <td>3.238941</td>\n",
       "    </tr>\n",
       "    <tr>\n",
       "      <th>9</th>\n",
       "      <td>9.0</td>\n",
       "      <td>822136</td>\n",
       "      <td>2.652679</td>\n",
       "    </tr>\n",
       "    <tr>\n",
       "      <th>10</th>\n",
       "      <td>17.0</td>\n",
       "      <td>699858</td>\n",
       "      <td>2.258141</td>\n",
       "    </tr>\n",
       "    <tr>\n",
       "      <th>11</th>\n",
       "      <td>14.0</td>\n",
       "      <td>678095</td>\n",
       "      <td>2.187921</td>\n",
       "    </tr>\n",
       "    <tr>\n",
       "      <th>12</th>\n",
       "      <td>12.0</td>\n",
       "      <td>674785</td>\n",
       "      <td>2.177241</td>\n",
       "    </tr>\n",
       "    <tr>\n",
       "      <th>13</th>\n",
       "      <td>11.0</td>\n",
       "      <td>424415</td>\n",
       "      <td>1.369405</td>\n",
       "    </tr>\n",
       "    <tr>\n",
       "      <th>14</th>\n",
       "      <td>18.0</td>\n",
       "      <td>410392</td>\n",
       "      <td>1.324159</td>\n",
       "    </tr>\n",
       "    <tr>\n",
       "      <th>15</th>\n",
       "      <td>6.0</td>\n",
       "      <td>255991</td>\n",
       "      <td>0.825973</td>\n",
       "    </tr>\n",
       "    <tr>\n",
       "      <th>16</th>\n",
       "      <td>5.0</td>\n",
       "      <td>144674</td>\n",
       "      <td>0.466801</td>\n",
       "    </tr>\n",
       "    <tr>\n",
       "      <th>17</th>\n",
       "      <td>8.0</td>\n",
       "      <td>93065</td>\n",
       "      <td>0.300281</td>\n",
       "    </tr>\n",
       "    <tr>\n",
       "      <th>18</th>\n",
       "      <td>21.0</td>\n",
       "      <td>64768</td>\n",
       "      <td>0.208978</td>\n",
       "    </tr>\n",
       "    <tr>\n",
       "      <th>19</th>\n",
       "      <td>2.0</td>\n",
       "      <td>34411</td>\n",
       "      <td>0.111030</td>\n",
       "    </tr>\n",
       "    <tr>\n",
       "      <th>20</th>\n",
       "      <td>10.0</td>\n",
       "      <td>33451</td>\n",
       "      <td>0.107932</td>\n",
       "    </tr>\n",
       "  </tbody>\n",
       "</table>\n",
       "</div>"
      ],
      "text/plain": [
       "    department_id   counts  percentage\n",
       "0             4.0  9079276   29.294920\n",
       "1            16.0  5191828   16.751796\n",
       "2            19.0  2766406    8.926003\n",
       "3             7.0  2571934    8.298525\n",
       "4             1.0  2123342    6.851112\n",
       "5            13.0  1782903    5.752661\n",
       "6             3.0  1125026    3.629975\n",
       "7            15.0  1012074    3.265528\n",
       "8            20.0  1003834    3.238941\n",
       "9             9.0   822136    2.652679\n",
       "10           17.0   699858    2.258141\n",
       "11           14.0   678095    2.187921\n",
       "12           12.0   674785    2.177241\n",
       "13           11.0   424415    1.369405\n",
       "14           18.0   410392    1.324159\n",
       "15            6.0   255991    0.825973\n",
       "16            5.0   144674    0.466801\n",
       "17            8.0    93065    0.300281\n",
       "18           21.0    64768    0.208978\n",
       "19            2.0    34411    0.111030\n",
       "20           10.0    33451    0.107932"
      ]
     },
     "execution_count": 215,
     "metadata": {},
     "output_type": "execute_result"
    }
   ],
   "source": [
    "df_dep_val_clean"
   ]
  },
  {
   "cell_type": "code",
   "execution_count": 221,
   "id": "91ed579b",
   "metadata": {
    "scrolled": true
   },
   "outputs": [
    {
     "data": {
      "text/html": [
       "<div>\n",
       "<style scoped>\n",
       "    .dataframe tbody tr th:only-of-type {\n",
       "        vertical-align: middle;\n",
       "    }\n",
       "\n",
       "    .dataframe tbody tr th {\n",
       "        vertical-align: top;\n",
       "    }\n",
       "\n",
       "    .dataframe thead th {\n",
       "        text-align: right;\n",
       "    }\n",
       "</style>\n",
       "<table border=\"1\" class=\"dataframe\">\n",
       "  <thead>\n",
       "    <tr style=\"text-align: right;\">\n",
       "      <th></th>\n",
       "      <th>department_id</th>\n",
       "      <th>counts</th>\n",
       "      <th>percentage</th>\n",
       "    </tr>\n",
       "  </thead>\n",
       "  <tbody>\n",
       "    <tr>\n",
       "      <th>0</th>\n",
       "      <td>4.00%</td>\n",
       "      <td>9079276</td>\n",
       "      <td>29.29%</td>\n",
       "    </tr>\n",
       "    <tr>\n",
       "      <th>1</th>\n",
       "      <td>16.00%</td>\n",
       "      <td>5191828</td>\n",
       "      <td>16.75%</td>\n",
       "    </tr>\n",
       "    <tr>\n",
       "      <th>2</th>\n",
       "      <td>19.00%</td>\n",
       "      <td>2766406</td>\n",
       "      <td>8.93%</td>\n",
       "    </tr>\n",
       "    <tr>\n",
       "      <th>3</th>\n",
       "      <td>7.00%</td>\n",
       "      <td>2571934</td>\n",
       "      <td>8.30%</td>\n",
       "    </tr>\n",
       "    <tr>\n",
       "      <th>4</th>\n",
       "      <td>1.00%</td>\n",
       "      <td>2123342</td>\n",
       "      <td>6.85%</td>\n",
       "    </tr>\n",
       "    <tr>\n",
       "      <th>5</th>\n",
       "      <td>13.00%</td>\n",
       "      <td>1782903</td>\n",
       "      <td>5.75%</td>\n",
       "    </tr>\n",
       "    <tr>\n",
       "      <th>6</th>\n",
       "      <td>3.00%</td>\n",
       "      <td>1125026</td>\n",
       "      <td>3.63%</td>\n",
       "    </tr>\n",
       "    <tr>\n",
       "      <th>7</th>\n",
       "      <td>15.00%</td>\n",
       "      <td>1012074</td>\n",
       "      <td>3.27%</td>\n",
       "    </tr>\n",
       "    <tr>\n",
       "      <th>8</th>\n",
       "      <td>20.00%</td>\n",
       "      <td>1003834</td>\n",
       "      <td>3.24%</td>\n",
       "    </tr>\n",
       "    <tr>\n",
       "      <th>9</th>\n",
       "      <td>9.00%</td>\n",
       "      <td>822136</td>\n",
       "      <td>2.65%</td>\n",
       "    </tr>\n",
       "    <tr>\n",
       "      <th>10</th>\n",
       "      <td>17.00%</td>\n",
       "      <td>699858</td>\n",
       "      <td>2.26%</td>\n",
       "    </tr>\n",
       "    <tr>\n",
       "      <th>11</th>\n",
       "      <td>14.00%</td>\n",
       "      <td>678095</td>\n",
       "      <td>2.19%</td>\n",
       "    </tr>\n",
       "    <tr>\n",
       "      <th>12</th>\n",
       "      <td>12.00%</td>\n",
       "      <td>674785</td>\n",
       "      <td>2.18%</td>\n",
       "    </tr>\n",
       "    <tr>\n",
       "      <th>13</th>\n",
       "      <td>11.00%</td>\n",
       "      <td>424415</td>\n",
       "      <td>1.37%</td>\n",
       "    </tr>\n",
       "    <tr>\n",
       "      <th>14</th>\n",
       "      <td>18.00%</td>\n",
       "      <td>410392</td>\n",
       "      <td>1.32%</td>\n",
       "    </tr>\n",
       "    <tr>\n",
       "      <th>15</th>\n",
       "      <td>6.00%</td>\n",
       "      <td>255991</td>\n",
       "      <td>0.83%</td>\n",
       "    </tr>\n",
       "    <tr>\n",
       "      <th>16</th>\n",
       "      <td>5.00%</td>\n",
       "      <td>144674</td>\n",
       "      <td>0.47%</td>\n",
       "    </tr>\n",
       "    <tr>\n",
       "      <th>17</th>\n",
       "      <td>8.00%</td>\n",
       "      <td>93065</td>\n",
       "      <td>0.30%</td>\n",
       "    </tr>\n",
       "    <tr>\n",
       "      <th>18</th>\n",
       "      <td>21.00%</td>\n",
       "      <td>64768</td>\n",
       "      <td>0.21%</td>\n",
       "    </tr>\n",
       "    <tr>\n",
       "      <th>19</th>\n",
       "      <td>2.00%</td>\n",
       "      <td>34411</td>\n",
       "      <td>0.11%</td>\n",
       "    </tr>\n",
       "    <tr>\n",
       "      <th>20</th>\n",
       "      <td>10.00%</td>\n",
       "      <td>33451</td>\n",
       "      <td>0.11%</td>\n",
       "    </tr>\n",
       "  </tbody>\n",
       "</table>\n",
       "</div>"
      ],
      "text/plain": [
       "    department_id   counts  percentage\n",
       "0           4.00%  9079276      29.29%\n",
       "1          16.00%  5191828      16.75%\n",
       "2          19.00%  2766406       8.93%\n",
       "3           7.00%  2571934       8.30%\n",
       "4           1.00%  2123342       6.85%\n",
       "5          13.00%  1782903       5.75%\n",
       "6           3.00%  1125026       3.63%\n",
       "7          15.00%  1012074       3.27%\n",
       "8          20.00%  1003834       3.24%\n",
       "9           9.00%   822136       2.65%\n",
       "10         17.00%   699858       2.26%\n",
       "11         14.00%   678095       2.19%\n",
       "12         12.00%   674785       2.18%\n",
       "13         11.00%   424415       1.37%\n",
       "14         18.00%   410392       1.32%\n",
       "15          6.00%   255991       0.83%\n",
       "16          5.00%   144674       0.47%\n",
       "17          8.00%    93065       0.30%\n",
       "18         21.00%    64768       0.21%\n",
       "19          2.00%    34411       0.11%\n",
       "20         10.00%    33451       0.11%"
      ]
     },
     "execution_count": 221,
     "metadata": {},
     "output_type": "execute_result"
    }
   ],
   "source": [
    "#show 'percentage' as %\n",
    "pd.options.display.float_format = '{:.2f}%'.format\n",
    "df_dep_val_clean"
   ]
  },
  {
   "cell_type": "code",
   "execution_count": 223,
   "id": "227a7aab",
   "metadata": {},
   "outputs": [
    {
     "data": {
      "text/html": [
       "<div>\n",
       "<style scoped>\n",
       "    .dataframe tbody tr th:only-of-type {\n",
       "        vertical-align: middle;\n",
       "    }\n",
       "\n",
       "    .dataframe tbody tr th {\n",
       "        vertical-align: top;\n",
       "    }\n",
       "\n",
       "    .dataframe thead th {\n",
       "        text-align: right;\n",
       "    }\n",
       "</style>\n",
       "<table border=\"1\" class=\"dataframe\">\n",
       "  <thead>\n",
       "    <tr style=\"text-align: right;\">\n",
       "      <th></th>\n",
       "      <th>department_id</th>\n",
       "      <th>counts</th>\n",
       "      <th>percentage</th>\n",
       "    </tr>\n",
       "  </thead>\n",
       "  <tbody>\n",
       "    <tr>\n",
       "      <th>0</th>\n",
       "      <td>4.00%</td>\n",
       "      <td>9079276</td>\n",
       "      <td>29.29%</td>\n",
       "    </tr>\n",
       "    <tr>\n",
       "      <th>1</th>\n",
       "      <td>16.00%</td>\n",
       "      <td>5191828</td>\n",
       "      <td>16.75%</td>\n",
       "    </tr>\n",
       "    <tr>\n",
       "      <th>2</th>\n",
       "      <td>19.00%</td>\n",
       "      <td>2766406</td>\n",
       "      <td>8.93%</td>\n",
       "    </tr>\n",
       "    <tr>\n",
       "      <th>3</th>\n",
       "      <td>7.00%</td>\n",
       "      <td>2571934</td>\n",
       "      <td>8.30%</td>\n",
       "    </tr>\n",
       "    <tr>\n",
       "      <th>4</th>\n",
       "      <td>1.00%</td>\n",
       "      <td>2123342</td>\n",
       "      <td>6.85%</td>\n",
       "    </tr>\n",
       "  </tbody>\n",
       "</table>\n",
       "</div>"
      ],
      "text/plain": [
       "   department_id   counts  percentage\n",
       "0          4.00%  9079276      29.29%\n",
       "1         16.00%  5191828      16.75%\n",
       "2         19.00%  2766406       8.93%\n",
       "3          7.00%  2571934       8.30%\n",
       "4          1.00%  2123342       6.85%"
      ]
     },
     "execution_count": 223,
     "metadata": {},
     "output_type": "execute_result"
    }
   ],
   "source": [
    "df_dep_val_clean.head()"
   ]
  },
  {
   "cell_type": "code",
   "execution_count": 227,
   "id": "bf7733a9",
   "metadata": {},
   "outputs": [],
   "source": [
    "#merge with department dataframe\n",
    "dep_merged = df_dep_val_clean.merge(df_dep_clean, on = 'department_id', indicator = True)"
   ]
  },
  {
   "cell_type": "code",
   "execution_count": 234,
   "id": "07e11afe",
   "metadata": {},
   "outputs": [],
   "source": [
    "dep_merged.drop(columns = '_merge', inplace = True)"
   ]
  },
  {
   "cell_type": "code",
   "execution_count": 235,
   "id": "58530013",
   "metadata": {
    "scrolled": true
   },
   "outputs": [
    {
     "data": {
      "text/html": [
       "<div>\n",
       "<style scoped>\n",
       "    .dataframe tbody tr th:only-of-type {\n",
       "        vertical-align: middle;\n",
       "    }\n",
       "\n",
       "    .dataframe tbody tr th {\n",
       "        vertical-align: top;\n",
       "    }\n",
       "\n",
       "    .dataframe thead th {\n",
       "        text-align: right;\n",
       "    }\n",
       "</style>\n",
       "<table border=\"1\" class=\"dataframe\">\n",
       "  <thead>\n",
       "    <tr style=\"text-align: right;\">\n",
       "      <th></th>\n",
       "      <th>department_id</th>\n",
       "      <th>counts</th>\n",
       "      <th>percentage</th>\n",
       "      <th>category</th>\n",
       "    </tr>\n",
       "  </thead>\n",
       "  <tbody>\n",
       "    <tr>\n",
       "      <th>0</th>\n",
       "      <td>4.00%</td>\n",
       "      <td>9079276</td>\n",
       "      <td>29.29%</td>\n",
       "      <td>produce</td>\n",
       "    </tr>\n",
       "    <tr>\n",
       "      <th>1</th>\n",
       "      <td>16.00%</td>\n",
       "      <td>5191828</td>\n",
       "      <td>16.75%</td>\n",
       "      <td>dairy eggs</td>\n",
       "    </tr>\n",
       "    <tr>\n",
       "      <th>2</th>\n",
       "      <td>19.00%</td>\n",
       "      <td>2766406</td>\n",
       "      <td>8.93%</td>\n",
       "      <td>snacks</td>\n",
       "    </tr>\n",
       "    <tr>\n",
       "      <th>3</th>\n",
       "      <td>7.00%</td>\n",
       "      <td>2571934</td>\n",
       "      <td>8.30%</td>\n",
       "      <td>beverages</td>\n",
       "    </tr>\n",
       "    <tr>\n",
       "      <th>4</th>\n",
       "      <td>1.00%</td>\n",
       "      <td>2123342</td>\n",
       "      <td>6.85%</td>\n",
       "      <td>frozen</td>\n",
       "    </tr>\n",
       "  </tbody>\n",
       "</table>\n",
       "</div>"
      ],
      "text/plain": [
       "   department_id   counts  percentage    category\n",
       "0          4.00%  9079276      29.29%     produce\n",
       "1         16.00%  5191828      16.75%  dairy eggs\n",
       "2         19.00%  2766406       8.93%      snacks\n",
       "3          7.00%  2571934       8.30%   beverages\n",
       "4          1.00%  2123342       6.85%      frozen"
      ]
     },
     "execution_count": 235,
     "metadata": {},
     "output_type": "execute_result"
    }
   ],
   "source": [
    "dep_merged.head()"
   ]
  },
  {
   "cell_type": "code",
   "execution_count": 251,
   "id": "f104cfed",
   "metadata": {},
   "outputs": [],
   "source": [
    "#export the merged department dataset\n",
    "dep_merged.to_csv(os.path.join(path, '02data','prepared_data', 'departments_merged.csv'))"
   ]
  },
  {
   "cell_type": "code",
   "execution_count": 249,
   "id": "c33f16b1",
   "metadata": {
    "scrolled": true
   },
   "outputs": [
    {
     "data": {
      "text/plain": [
       "(array([ 0,  1,  2,  3,  4,  5,  6,  7,  8,  9, 10, 11, 12, 13, 14, 15, 16,\n",
       "        17, 18, 19, 20]),\n",
       " [Text(0, 0, 'produce'),\n",
       "  Text(1, 0, 'dairy eggs'),\n",
       "  Text(2, 0, 'snacks'),\n",
       "  Text(3, 0, 'beverages'),\n",
       "  Text(4, 0, 'frozen'),\n",
       "  Text(5, 0, 'pantry'),\n",
       "  Text(6, 0, 'bakery'),\n",
       "  Text(7, 0, 'canned goods'),\n",
       "  Text(8, 0, 'deli'),\n",
       "  Text(9, 0, 'dry goods pasta'),\n",
       "  Text(10, 0, 'household'),\n",
       "  Text(11, 0, 'breakfast'),\n",
       "  Text(12, 0, 'meat seafood'),\n",
       "  Text(13, 0, 'personal care'),\n",
       "  Text(14, 0, 'babies'),\n",
       "  Text(15, 0, 'international'),\n",
       "  Text(16, 0, 'alcohol'),\n",
       "  Text(17, 0, 'pets'),\n",
       "  Text(18, 0, 'missing'),\n",
       "  Text(19, 0, 'other'),\n",
       "  Text(20, 0, 'bulk')])"
      ]
     },
     "execution_count": 249,
     "metadata": {},
     "output_type": "execute_result"
    },
    {
     "data": {
      "image/png": "[encoded data removed]",
      "text/plain": [
       "<Figure size 432x288 with 1 Axes>"
      ]
     },
     "metadata": {
      "needs_background": "light"
     },
     "output_type": "display_data"
    }
   ],
   "source": [
    "#plot the department percentage\n",
    "dep_bar = sns.barplot(data = dep_merged, x = 'category', y = 'percentage', color = 'dodgerblue')\n",
    "plt.xticks(rotation=90)"
   ]
  },
  {
   "cell_type": "code",
   "execution_count": 250,
   "id": "c57f9a7a",
   "metadata": {},
   "outputs": [],
   "source": [
    "dep_bar.figure.savefig(os.path.join(path, '04analysis','Visualizations', 'bar_departments_perc.png'),bbox_inches = 'tight')"
   ]
  },
  {
   "cell_type": "code",
   "execution_count": 121,
   "id": "0c3dcc96",
   "metadata": {
    "scrolled": true
   },
   "outputs": [
    {
     "data": {
      "image/png": "[encoded data removed]",
      "text/plain": [
       "<Figure size 432x288 with 1 Axes>"
      ]
     },
     "metadata": {
      "needs_background": "light"
     },
     "output_type": "display_data"
    }
   ],
   "source": [
    "#orders by hour\n",
    "bar_ords_hour = df_clean['order_hour_of_day'].value_counts().sort_index().plot.bar()"
   ]
  },
  {
   "cell_type": "code",
   "execution_count": 122,
   "id": "50666fab",
   "metadata": {},
   "outputs": [],
   "source": [
    "bar_ords_hour.figure.savefig(os.path.join(path, '04analysis','Visualizations', 'bar_orders_hour.png'),bbox_inches = 'tight')"
   ]
  },
  {
   "cell_type": "code",
   "execution_count": 47,
   "id": "d33c8748",
   "metadata": {},
   "outputs": [
    {
     "data": {
      "image/png": "[encoded data removed]",
      "text/plain": [
       "<Figure size 432x288 with 1 Axes>"
      ]
     },
     "metadata": {
      "needs_background": "light"
     },
     "output_type": "display_data"
    }
   ],
   "source": [
    "#orders by day\n",
    "bar_ords_day = df_clean['orders_day_of_week'].value_counts().sort_index().plot.bar()"
   ]
  },
  {
   "cell_type": "code",
   "execution_count": 101,
   "id": "e93e6378",
   "metadata": {},
   "outputs": [],
   "source": [
    "bar_ords_day.figure.savefig(os.path.join(path, '04analysis','Visualizations', 'bar_orders_day.png'),bbox_inches = 'tight')"
   ]
  },
  {
   "cell_type": "code",
   "execution_count": 48,
   "id": "313b1d5f",
   "metadata": {},
   "outputs": [],
   "source": [
    "#set color palettes\n",
    "price_flag_c = 'tab20b'\n",
    "loyalty_flag_c = 'Set1'\n",
    "region_c = 'viridis'\n",
    "family_c = 'Dark2'\n",
    "age_c = 'jet'"
   ]
  },
  {
   "cell_type": "code",
   "execution_count": 17,
   "id": "c8a0ccd9",
   "metadata": {
    "scrolled": true
   },
   "outputs": [
    {
     "data": {
      "image/png": "[encoded data removed]",
      "text/plain": [
       "<Figure size 432x288 with 1 Axes>"
      ]
     },
     "metadata": {
      "needs_background": "light"
     },
     "output_type": "display_data"
    }
   ],
   "source": [
    "#orders by hour/price range\n",
    "bar_price_hour = crosstab_price_hour.T.plot(kind = 'bar', stacked = True, colormap = price_flag_c)"
   ]
  },
  {
   "cell_type": "code",
   "execution_count": 18,
   "id": "6c15038c",
   "metadata": {},
   "outputs": [],
   "source": [
    "bar_price_hour.figure.savefig(os.path.join(path, '04analysis','Visualizations', 'bar_price_hour.png'),bbox_inches = 'tight')"
   ]
  },
  {
   "cell_type": "code",
   "execution_count": 295,
   "id": "29aa9cb6",
   "metadata": {},
   "outputs": [
    {
     "data": {
      "image/png": "[encoded data removed]",
      "text/plain": [
       "<Figure size 432x288 with 1 Axes>"
      ]
     },
     "metadata": {
      "needs_background": "light"
     },
     "output_type": "display_data"
    }
   ],
   "source": [
    "#100% stacked orders by hour/price range\n",
    "stacked_price_hour = crosstab_price_hour.T.apply(lambda x: x*100/sum(x), axis = 1)\n",
    "bar_stacked_price_hour = stacked_price_hour.plot (kind = 'bar', stacked = True, colormap = price_flag_c )"
   ]
  },
  {
   "cell_type": "code",
   "execution_count": 298,
   "id": "6fb296cc",
   "metadata": {},
   "outputs": [],
   "source": [
    "bar_stacked_price_hour.figure.savefig(os.path.join(path, '04analysis','Visualizations', 'stacked_price_hour.png'),bbox_inches = 'tight')"
   ]
  },
  {
   "cell_type": "code",
   "execution_count": 102,
   "id": "2bc7d070",
   "metadata": {},
   "outputs": [],
   "source": [
    "bar_price_hour.figure.savefig(os.path.join(path, '04analysis','Visualizations', 'bar_price_hour.png'),bbox_inches = 'tight')"
   ]
  },
  {
   "cell_type": "code",
   "execution_count": 19,
   "id": "5bc81bdc",
   "metadata": {
    "scrolled": true
   },
   "outputs": [
    {
     "data": {
      "image/png": "[encoded data removed]",
      "text/plain": [
       "<Figure size 432x288 with 1 Axes>"
      ]
     },
     "metadata": {
      "needs_background": "light"
     },
     "output_type": "display_data"
    }
   ],
   "source": [
    "#orders by day/price range\n",
    "bar_price_day = crosstab_price_day.T.plot(kind = 'bar', stacked = True, colormap = price_flag_c)"
   ]
  },
  {
   "cell_type": "code",
   "execution_count": 20,
   "id": "5e2147d3",
   "metadata": {},
   "outputs": [],
   "source": [
    "bar_price_day.figure.savefig(os.path.join(path, '04analysis','Visualizations', 'bar_price_day.png'),bbox_inches = 'tight')"
   ]
  },
  {
   "cell_type": "code",
   "execution_count": 323,
   "id": "16078100",
   "metadata": {
    "scrolled": true
   },
   "outputs": [
    {
     "data": {
      "image/png": "[encoded data removed]",
      "text/plain": [
       "<Figure size 432x288 with 1 Axes>"
      ]
     },
     "metadata": {
      "needs_background": "light"
     },
     "output_type": "display_data"
    }
   ],
   "source": [
    "#price range/income\n",
    "bar_price_income = crosstab_price_income.plot(kind = 'bar', stacked = False, colormap = loyalty_flag_c)"
   ]
  },
  {
   "cell_type": "code",
   "execution_count": 406,
   "id": "2378f9b7",
   "metadata": {},
   "outputs": [],
   "source": [
    "stacked_price_income = crosstab_price_income.apply(lambda x: x*100/sum(x), axis = 1)"
   ]
  },
  {
   "cell_type": "code",
   "execution_count": 407,
   "id": "38922e6c",
   "metadata": {},
   "outputs": [
    {
     "data": {
      "text/html": [
       "<div>\n",
       "<style scoped>\n",
       "    .dataframe tbody tr th:only-of-type {\n",
       "        vertical-align: middle;\n",
       "    }\n",
       "\n",
       "    .dataframe tbody tr th {\n",
       "        vertical-align: top;\n",
       "    }\n",
       "\n",
       "    .dataframe thead th {\n",
       "        text-align: right;\n",
       "    }\n",
       "</style>\n",
       "<table border=\"1\" class=\"dataframe\">\n",
       "  <thead>\n",
       "    <tr style=\"text-align: right;\">\n",
       "      <th>Income_flag</th>\n",
       "      <th>Average_income</th>\n",
       "      <th>High_income</th>\n",
       "      <th>Low_income</th>\n",
       "    </tr>\n",
       "    <tr>\n",
       "      <th>price_flag</th>\n",
       "      <th></th>\n",
       "      <th></th>\n",
       "      <th></th>\n",
       "    </tr>\n",
       "  </thead>\n",
       "  <tbody>\n",
       "    <tr>\n",
       "      <th>high_range_price</th>\n",
       "      <td>44.37%</td>\n",
       "      <td>47.85%</td>\n",
       "      <td>7.78%</td>\n",
       "    </tr>\n",
       "    <tr>\n",
       "      <th>low_range_price</th>\n",
       "      <td>41.93%</td>\n",
       "      <td>43.69%</td>\n",
       "      <td>14.38%</td>\n",
       "    </tr>\n",
       "    <tr>\n",
       "      <th>mid_range_price</th>\n",
       "      <td>43.38%</td>\n",
       "      <td>45.97%</td>\n",
       "      <td>10.65%</td>\n",
       "    </tr>\n",
       "    <tr>\n",
       "      <th>upper_range_price</th>\n",
       "      <td>42.85%</td>\n",
       "      <td>46.36%</td>\n",
       "      <td>10.79%</td>\n",
       "    </tr>\n",
       "  </tbody>\n",
       "</table>\n",
       "</div>"
      ],
      "text/plain": [
       "Income_flag        Average_income  High_income  Low_income\n",
       "price_flag                                                \n",
       "high_range_price           44.37%       47.85%       7.78%\n",
       "low_range_price            41.93%       43.69%      14.38%\n",
       "mid_range_price            43.38%       45.97%      10.65%\n",
       "upper_range_price          42.85%       46.36%      10.79%"
      ]
     },
     "execution_count": 407,
     "metadata": {},
     "output_type": "execute_result"
    }
   ],
   "source": [
    "stacked_price_income"
   ]
  },
  {
   "cell_type": "code",
   "execution_count": 324,
   "id": "18970a6a",
   "metadata": {},
   "outputs": [],
   "source": [
    "bar_price_income.figure.savefig(os.path.join(path, '04analysis','Visualizations', 'bar_price_income.png'),bbox_inches = 'tight')"
   ]
  },
  {
   "cell_type": "code",
   "execution_count": 401,
   "id": "cb01a934",
   "metadata": {
    "scrolled": true
   },
   "outputs": [
    {
     "data": {
      "image/png": "[encoded data removed]",
      "text/plain": [
       "<Figure size 432x288 with 1 Axes>"
      ]
     },
     "metadata": {
      "needs_background": "light"
     },
     "output_type": "display_data"
    }
   ],
   "source": [
    "#price/family status\n",
    "bar_price_family_status = crosstab_price_family.plot(kind = 'bar', stacked = False, colormap = 'Dark2')"
   ]
  },
  {
   "cell_type": "code",
   "execution_count": 403,
   "id": "8b0ffe38",
   "metadata": {},
   "outputs": [],
   "source": [
    "stacked_price_family_Status = crosstab_price_family.T.apply(lambda x: x*100/sum(x), axis = 1)"
   ]
  },
  {
   "cell_type": "code",
   "execution_count": 404,
   "id": "d363093d",
   "metadata": {},
   "outputs": [
    {
     "data": {
      "text/html": [
       "<div>\n",
       "<style scoped>\n",
       "    .dataframe tbody tr th:only-of-type {\n",
       "        vertical-align: middle;\n",
       "    }\n",
       "\n",
       "    .dataframe tbody tr th {\n",
       "        vertical-align: top;\n",
       "    }\n",
       "\n",
       "    .dataframe thead th {\n",
       "        text-align: right;\n",
       "    }\n",
       "</style>\n",
       "<table border=\"1\" class=\"dataframe\">\n",
       "  <thead>\n",
       "    <tr style=\"text-align: right;\">\n",
       "      <th>price_flag</th>\n",
       "      <th>high_range_price</th>\n",
       "      <th>low_range_price</th>\n",
       "      <th>mid_range_price</th>\n",
       "      <th>upper_range_price</th>\n",
       "    </tr>\n",
       "    <tr>\n",
       "      <th>Family_status</th>\n",
       "      <th></th>\n",
       "      <th></th>\n",
       "      <th></th>\n",
       "      <th></th>\n",
       "    </tr>\n",
       "  </thead>\n",
       "  <tbody>\n",
       "    <tr>\n",
       "      <th>divorced/widowed</th>\n",
       "      <td>32.55%</td>\n",
       "      <td>30.57%</td>\n",
       "      <td>36.49%</td>\n",
       "      <td>0.39%</td>\n",
       "    </tr>\n",
       "    <tr>\n",
       "      <th>living with parents and siblings</th>\n",
       "      <td>32.57%</td>\n",
       "      <td>30.48%</td>\n",
       "      <td>36.55%</td>\n",
       "      <td>0.40%</td>\n",
       "    </tr>\n",
       "    <tr>\n",
       "      <th>married</th>\n",
       "      <td>32.41%</td>\n",
       "      <td>30.54%</td>\n",
       "      <td>36.65%</td>\n",
       "      <td>0.39%</td>\n",
       "    </tr>\n",
       "    <tr>\n",
       "      <th>single</th>\n",
       "      <td>32.40%</td>\n",
       "      <td>30.57%</td>\n",
       "      <td>36.65%</td>\n",
       "      <td>0.39%</td>\n",
       "    </tr>\n",
       "  </tbody>\n",
       "</table>\n",
       "</div>"
      ],
      "text/plain": [
       "price_flag                        high_range_price  low_range_price  \\\n",
       "Family_status                                                         \n",
       "divorced/widowed                            32.55%           30.57%   \n",
       "living with parents and siblings            32.57%           30.48%   \n",
       "married                                     32.41%           30.54%   \n",
       "single                                      32.40%           30.57%   \n",
       "\n",
       "price_flag                        mid_range_price  upper_range_price  \n",
       "Family_status                                                         \n",
       "divorced/widowed                           36.49%              0.39%  \n",
       "living with parents and siblings           36.55%              0.40%  \n",
       "married                                    36.65%              0.39%  \n",
       "single                                     36.65%              0.39%  "
      ]
     },
     "execution_count": 404,
     "metadata": {},
     "output_type": "execute_result"
    }
   ],
   "source": [
    "stacked_price_family_Status"
   ]
  },
  {
   "cell_type": "code",
   "execution_count": 405,
   "id": "4d05178c",
   "metadata": {},
   "outputs": [],
   "source": [
    "stacked_price_family_Status.to_clipboard()"
   ]
  },
  {
   "cell_type": "code",
   "execution_count": 375,
   "id": "95d905ec",
   "metadata": {},
   "outputs": [],
   "source": [
    "bar_price_family_status.figure.savefig(os.path.join(path, '04analysis','Visualizations', 'bar_price_family.png'),bbox_inches = 'tight')"
   ]
  },
  {
   "cell_type": "code",
   "execution_count": 125,
   "id": "a4047475",
   "metadata": {},
   "outputs": [
    {
     "data": {
      "text/html": [
       "<div>\n",
       "<style scoped>\n",
       "    .dataframe tbody tr th:only-of-type {\n",
       "        vertical-align: middle;\n",
       "    }\n",
       "\n",
       "    .dataframe tbody tr th {\n",
       "        vertical-align: top;\n",
       "    }\n",
       "\n",
       "    .dataframe thead th {\n",
       "        text-align: right;\n",
       "    }\n",
       "</style>\n",
       "<table border=\"1\" class=\"dataframe\">\n",
       "  <thead>\n",
       "    <tr style=\"text-align: right;\">\n",
       "      <th>days_frequency</th>\n",
       "      <th>0</th>\n",
       "      <th>1</th>\n",
       "      <th>2</th>\n",
       "      <th>3</th>\n",
       "      <th>4</th>\n",
       "      <th>5</th>\n",
       "      <th>6</th>\n",
       "      <th>7</th>\n",
       "      <th>8</th>\n",
       "      <th>9</th>\n",
       "      <th>...</th>\n",
       "      <th>21</th>\n",
       "      <th>22</th>\n",
       "      <th>23</th>\n",
       "      <th>24</th>\n",
       "      <th>25</th>\n",
       "      <th>26</th>\n",
       "      <th>27</th>\n",
       "      <th>28</th>\n",
       "      <th>29</th>\n",
       "      <th>30</th>\n",
       "    </tr>\n",
       "    <tr>\n",
       "      <th>loyalty_flag</th>\n",
       "      <th></th>\n",
       "      <th></th>\n",
       "      <th></th>\n",
       "      <th></th>\n",
       "      <th></th>\n",
       "      <th></th>\n",
       "      <th></th>\n",
       "      <th></th>\n",
       "      <th></th>\n",
       "      <th></th>\n",
       "      <th></th>\n",
       "      <th></th>\n",
       "      <th></th>\n",
       "      <th></th>\n",
       "      <th></th>\n",
       "      <th></th>\n",
       "      <th></th>\n",
       "      <th></th>\n",
       "      <th></th>\n",
       "      <th></th>\n",
       "      <th></th>\n",
       "    </tr>\n",
       "  </thead>\n",
       "  <tbody>\n",
       "    <tr>\n",
       "      <th>Loyal customer</th>\n",
       "      <td>23133</td>\n",
       "      <td>124427</td>\n",
       "      <td>479810</td>\n",
       "      <td>1260649</td>\n",
       "      <td>1875005</td>\n",
       "      <td>1783754</td>\n",
       "      <td>1819467</td>\n",
       "      <td>2490096</td>\n",
       "      <td>356286</td>\n",
       "      <td>58296</td>\n",
       "      <td>...</td>\n",
       "      <td>0</td>\n",
       "      <td>0</td>\n",
       "      <td>0</td>\n",
       "      <td>0</td>\n",
       "      <td>0</td>\n",
       "      <td>0</td>\n",
       "      <td>0</td>\n",
       "      <td>0</td>\n",
       "      <td>0</td>\n",
       "      <td>0</td>\n",
       "    </tr>\n",
       "    <tr>\n",
       "      <th>New customer</th>\n",
       "      <td>2964</td>\n",
       "      <td>7943</td>\n",
       "      <td>16535</td>\n",
       "      <td>40354</td>\n",
       "      <td>70924</td>\n",
       "      <td>97286</td>\n",
       "      <td>156195</td>\n",
       "      <td>345876</td>\n",
       "      <td>232861</td>\n",
       "      <td>175641</td>\n",
       "      <td>...</td>\n",
       "      <td>179087</td>\n",
       "      <td>114203</td>\n",
       "      <td>96635</td>\n",
       "      <td>84578</td>\n",
       "      <td>78652</td>\n",
       "      <td>89471</td>\n",
       "      <td>97762</td>\n",
       "      <td>124835</td>\n",
       "      <td>86071</td>\n",
       "      <td>1028389</td>\n",
       "    </tr>\n",
       "    <tr>\n",
       "      <th>Regular customer</th>\n",
       "      <td>1512</td>\n",
       "      <td>14379</td>\n",
       "      <td>59554</td>\n",
       "      <td>174618</td>\n",
       "      <td>370706</td>\n",
       "      <td>605264</td>\n",
       "      <td>1002232</td>\n",
       "      <td>2816897</td>\n",
       "      <td>2106980</td>\n",
       "      <td>1394431</td>\n",
       "      <td>...</td>\n",
       "      <td>212839</td>\n",
       "      <td>132911</td>\n",
       "      <td>90958</td>\n",
       "      <td>73742</td>\n",
       "      <td>62813</td>\n",
       "      <td>59711</td>\n",
       "      <td>59380</td>\n",
       "      <td>56717</td>\n",
       "      <td>36198</td>\n",
       "      <td>121189</td>\n",
       "    </tr>\n",
       "  </tbody>\n",
       "</table>\n",
       "<p>3 rows × 31 columns</p>\n",
       "</div>"
      ],
      "text/plain": [
       "days_frequency       0       1       2        3        4        5        6   \\\n",
       "loyalty_flag                                                                  \n",
       "Loyal customer    23133  124427  479810  1260649  1875005  1783754  1819467   \n",
       "New customer       2964    7943   16535    40354    70924    97286   156195   \n",
       "Regular customer   1512   14379   59554   174618   370706   605264  1002232   \n",
       "\n",
       "days_frequency         7        8        9   ...      21      22     23  \\\n",
       "loyalty_flag                                 ...                          \n",
       "Loyal customer    2490096   356286    58296  ...       0       0      0   \n",
       "New customer       345876   232861   175641  ...  179087  114203  96635   \n",
       "Regular customer  2816897  2106980  1394431  ...  212839  132911  90958   \n",
       "\n",
       "days_frequency       24     25     26     27      28     29       30  \n",
       "loyalty_flag                                                          \n",
       "Loyal customer        0      0      0      0       0      0        0  \n",
       "New customer      84578  78652  89471  97762  124835  86071  1028389  \n",
       "Regular customer  73742  62813  59711  59380   56717  36198   121189  \n",
       "\n",
       "[3 rows x 31 columns]"
      ]
     },
     "execution_count": 125,
     "metadata": {},
     "output_type": "execute_result"
    }
   ],
   "source": [
    "#loyalty/frequency\n",
    "crosstab_loyalty_frequency = pd.crosstab(df_clean['loyalty_flag'], df_clean['days_frequency'], dropna = False)\n",
    "crosstab_loyalty_frequency"
   ]
  },
  {
   "cell_type": "code",
   "execution_count": 303,
   "id": "a9b584b9",
   "metadata": {
    "scrolled": true
   },
   "outputs": [
    {
     "data": {
      "image/png": "[encoded data removed]",
      "text/plain": [
       "<Figure size 432x288 with 1 Axes>"
      ]
     },
     "metadata": {
      "needs_background": "light"
     },
     "output_type": "display_data"
    }
   ],
   "source": [
    "#loyyalty/days since last orderb\n",
    "bar_loyalty_orders = crosstab_loyalty_frequency.T.plot(kind = 'bar', stacked = False, width = 1, colormap = loyalty_flag_c)"
   ]
  },
  {
   "cell_type": "markdown",
   "id": "0f642de0",
   "metadata": {},
   "source": [
    "_Suspicious high number of orders from new customers at 30 days. I suspect that the original dataset has been altered (for the sake of this exercise) by marking orders made more than 30 days apart as simply \"30\"._"
   ]
  },
  {
   "cell_type": "code",
   "execution_count": 304,
   "id": "7c849931",
   "metadata": {},
   "outputs": [],
   "source": [
    "bar_loyalty_orders.figure.savefig(os.path.join(path, '04analysis','Visualizations', 'bar_loyalty_freq.png'),bbox_inches = 'tight')"
   ]
  },
  {
   "cell_type": "code",
   "execution_count": 152,
   "id": "41e971c6",
   "metadata": {},
   "outputs": [],
   "source": [
    "#loyalty/department\n",
    "crosstab_loyalty_department = pd.crosstab(df_clean['loyalty_flag'], df_clean['department_id'], dropna = False)"
   ]
  },
  {
   "cell_type": "code",
   "execution_count": 153,
   "id": "8ac667cf",
   "metadata": {
    "scrolled": true
   },
   "outputs": [
    {
     "data": {
      "text/html": [
       "<div>\n",
       "<style scoped>\n",
       "    .dataframe tbody tr th:only-of-type {\n",
       "        vertical-align: middle;\n",
       "    }\n",
       "\n",
       "    .dataframe tbody tr th {\n",
       "        vertical-align: top;\n",
       "    }\n",
       "\n",
       "    .dataframe thead th {\n",
       "        text-align: right;\n",
       "    }\n",
       "</style>\n",
       "<table border=\"1\" class=\"dataframe\">\n",
       "  <thead>\n",
       "    <tr style=\"text-align: right;\">\n",
       "      <th>loyalty_flag</th>\n",
       "      <th>Loyal customer</th>\n",
       "      <th>New customer</th>\n",
       "      <th>Regular customer</th>\n",
       "    </tr>\n",
       "    <tr>\n",
       "      <th>department_id</th>\n",
       "      <th></th>\n",
       "      <th></th>\n",
       "      <th></th>\n",
       "    </tr>\n",
       "  </thead>\n",
       "  <tbody>\n",
       "    <tr>\n",
       "      <th>1.0</th>\n",
       "      <td>609460</td>\n",
       "      <td>372272</td>\n",
       "      <td>1140000</td>\n",
       "    </tr>\n",
       "    <tr>\n",
       "      <th>2.0</th>\n",
       "      <td>10715</td>\n",
       "      <td>5839</td>\n",
       "      <td>17857</td>\n",
       "    </tr>\n",
       "    <tr>\n",
       "      <th>3.0</th>\n",
       "      <td>379873</td>\n",
       "      <td>172104</td>\n",
       "      <td>568851</td>\n",
       "    </tr>\n",
       "    <tr>\n",
       "      <th>4.0</th>\n",
       "      <td>3147376</td>\n",
       "      <td>1336607</td>\n",
       "      <td>4595293</td>\n",
       "    </tr>\n",
       "    <tr>\n",
       "      <th>5.0</th>\n",
       "      <td>38726</td>\n",
       "      <td>28647</td>\n",
       "      <td>77301</td>\n",
       "    </tr>\n",
       "    <tr>\n",
       "      <th>6.0</th>\n",
       "      <td>78394</td>\n",
       "      <td>43841</td>\n",
       "      <td>133756</td>\n",
       "    </tr>\n",
       "    <tr>\n",
       "      <th>7.0</th>\n",
       "      <td>855017</td>\n",
       "      <td>396649</td>\n",
       "      <td>1320235</td>\n",
       "    </tr>\n",
       "    <tr>\n",
       "      <th>8.0</th>\n",
       "      <td>25469</td>\n",
       "      <td>15880</td>\n",
       "      <td>51711</td>\n",
       "    </tr>\n",
       "    <tr>\n",
       "      <th>9.0</th>\n",
       "      <td>242580</td>\n",
       "      <td>144836</td>\n",
       "      <td>434720</td>\n",
       "    </tr>\n",
       "    <tr>\n",
       "      <th>10.0</th>\n",
       "      <td>13834</td>\n",
       "      <td>4149</td>\n",
       "      <td>15468</td>\n",
       "    </tr>\n",
       "    <tr>\n",
       "      <th>11.0</th>\n",
       "      <td>123376</td>\n",
       "      <td>75447</td>\n",
       "      <td>225536</td>\n",
       "    </tr>\n",
       "    <tr>\n",
       "      <th>12.0</th>\n",
       "      <td>202480</td>\n",
       "      <td>112464</td>\n",
       "      <td>359837</td>\n",
       "    </tr>\n",
       "    <tr>\n",
       "      <th>13.0</th>\n",
       "      <td>560402</td>\n",
       "      <td>299576</td>\n",
       "      <td>922727</td>\n",
       "    </tr>\n",
       "    <tr>\n",
       "      <th>14.0</th>\n",
       "      <td>221866</td>\n",
       "      <td>106356</td>\n",
       "      <td>343650</td>\n",
       "    </tr>\n",
       "    <tr>\n",
       "      <th>15.0</th>\n",
       "      <td>294594</td>\n",
       "      <td>180196</td>\n",
       "      <td>537284</td>\n",
       "    </tr>\n",
       "    <tr>\n",
       "      <th>16.0</th>\n",
       "      <td>1830707</td>\n",
       "      <td>750057</td>\n",
       "      <td>2596419</td>\n",
       "    </tr>\n",
       "    <tr>\n",
       "      <th>17.0</th>\n",
       "      <td>196873</td>\n",
       "      <td>128118</td>\n",
       "      <td>374867</td>\n",
       "    </tr>\n",
       "    <tr>\n",
       "      <th>18.0</th>\n",
       "      <td>167108</td>\n",
       "      <td>46708</td>\n",
       "      <td>196576</td>\n",
       "    </tr>\n",
       "    <tr>\n",
       "      <th>19.0</th>\n",
       "      <td>943150</td>\n",
       "      <td>413107</td>\n",
       "      <td>1410149</td>\n",
       "    </tr>\n",
       "    <tr>\n",
       "      <th>20.0</th>\n",
       "      <td>324046</td>\n",
       "      <td>158335</td>\n",
       "      <td>521453</td>\n",
       "    </tr>\n",
       "    <tr>\n",
       "      <th>21.0</th>\n",
       "      <td>18350</td>\n",
       "      <td>12713</td>\n",
       "      <td>33705</td>\n",
       "    </tr>\n",
       "  </tbody>\n",
       "</table>\n",
       "</div>"
      ],
      "text/plain": [
       "loyalty_flag   Loyal customer  New customer  Regular customer\n",
       "department_id                                                \n",
       "1.0                    609460        372272           1140000\n",
       "2.0                     10715          5839             17857\n",
       "3.0                    379873        172104            568851\n",
       "4.0                   3147376       1336607           4595293\n",
       "5.0                     38726         28647             77301\n",
       "6.0                     78394         43841            133756\n",
       "7.0                    855017        396649           1320235\n",
       "8.0                     25469         15880             51711\n",
       "9.0                    242580        144836            434720\n",
       "10.0                    13834          4149             15468\n",
       "11.0                   123376         75447            225536\n",
       "12.0                   202480        112464            359837\n",
       "13.0                   560402        299576            922727\n",
       "14.0                   221866        106356            343650\n",
       "15.0                   294594        180196            537284\n",
       "16.0                  1830707        750057           2596419\n",
       "17.0                   196873        128118            374867\n",
       "18.0                   167108         46708            196576\n",
       "19.0                   943150        413107           1410149\n",
       "20.0                   324046        158335            521453\n",
       "21.0                    18350         12713             33705"
      ]
     },
     "execution_count": 153,
     "metadata": {},
     "output_type": "execute_result"
    }
   ],
   "source": [
    "crosstab_loyalty_department.T"
   ]
  },
  {
   "cell_type": "code",
   "execution_count": 305,
   "id": "77899f53",
   "metadata": {
    "scrolled": true
   },
   "outputs": [
    {
     "data": {
      "image/png": "[encoded data removed]",
      "text/plain": [
       "<Figure size 432x288 with 1 Axes>"
      ]
     },
     "metadata": {
      "needs_background": "light"
     },
     "output_type": "display_data"
    }
   ],
   "source": [
    "#department orders/loyalty\n",
    "bar_loyalty_department = crosstab_loyalty_department.T.plot(kind = 'bar', stacked = True, width = 1, \n",
    "                                                            colormap = loyalty_flag_c)"
   ]
  },
  {
   "cell_type": "code",
   "execution_count": 306,
   "id": "2dceea49",
   "metadata": {},
   "outputs": [],
   "source": [
    "bar_loyalty_department.figure.savefig(os.path.join(path, '04analysis','Visualizations', 'bar_loyalty_dep.png'),bbox_inches = 'tight')"
   ]
  },
  {
   "cell_type": "code",
   "execution_count": 45,
   "id": "b6eed668",
   "metadata": {},
   "outputs": [],
   "source": [
    "#loyalty/region\n",
    "crosstab_loyalty_region = pd.crosstab(df_clean['loyalty_flag'], df_clean['Region'], dropna = False)"
   ]
  },
  {
   "cell_type": "code",
   "execution_count": 158,
   "id": "a9af43c7",
   "metadata": {},
   "outputs": [
    {
     "data": {
      "text/html": [
       "<div>\n",
       "<style scoped>\n",
       "    .dataframe tbody tr th:only-of-type {\n",
       "        vertical-align: middle;\n",
       "    }\n",
       "\n",
       "    .dataframe tbody tr th {\n",
       "        vertical-align: top;\n",
       "    }\n",
       "\n",
       "    .dataframe thead th {\n",
       "        text-align: right;\n",
       "    }\n",
       "</style>\n",
       "<table border=\"1\" class=\"dataframe\">\n",
       "  <thead>\n",
       "    <tr style=\"text-align: right;\">\n",
       "      <th>Region</th>\n",
       "      <th>Midwest</th>\n",
       "      <th>Northeast</th>\n",
       "      <th>South</th>\n",
       "      <th>West</th>\n",
       "    </tr>\n",
       "    <tr>\n",
       "      <th>loyalty_flag</th>\n",
       "      <th></th>\n",
       "      <th></th>\n",
       "      <th></th>\n",
       "      <th></th>\n",
       "    </tr>\n",
       "  </thead>\n",
       "  <tbody>\n",
       "    <tr>\n",
       "      <th>Loyal customer</th>\n",
       "      <td>2373854</td>\n",
       "      <td>1841833</td>\n",
       "      <td>3205520</td>\n",
       "      <td>2863189</td>\n",
       "    </tr>\n",
       "    <tr>\n",
       "      <th>New customer</th>\n",
       "      <td>1136805</td>\n",
       "      <td>842195</td>\n",
       "      <td>1501034</td>\n",
       "      <td>1323867</td>\n",
       "    </tr>\n",
       "    <tr>\n",
       "      <th>Regular customer</th>\n",
       "      <td>3751105</td>\n",
       "      <td>2780851</td>\n",
       "      <td>4995604</td>\n",
       "      <td>4349835</td>\n",
       "    </tr>\n",
       "  </tbody>\n",
       "</table>\n",
       "</div>"
      ],
      "text/plain": [
       "Region            Midwest  Northeast    South     West\n",
       "loyalty_flag                                          \n",
       "Loyal customer    2373854    1841833  3205520  2863189\n",
       "New customer      1136805     842195  1501034  1323867\n",
       "Regular customer  3751105    2780851  4995604  4349835"
      ]
     },
     "execution_count": 158,
     "metadata": {},
     "output_type": "execute_result"
    }
   ],
   "source": [
    "crosstab_loyalty_region "
   ]
  },
  {
   "cell_type": "code",
   "execution_count": 50,
   "id": "41755525",
   "metadata": {},
   "outputs": [
    {
     "data": {
      "image/png": "[encoded data removed]",
      "text/plain": [
       "<Figure size 432x288 with 1 Axes>"
      ]
     },
     "metadata": {
      "needs_background": "light"
     },
     "output_type": "display_data"
    }
   ],
   "source": [
    "bar_loyalty_region = crosstab_loyalty_region.T.plot(kind = 'bar', stacked = False, width = 0.5, colormap = 'Set1')"
   ]
  },
  {
   "cell_type": "code",
   "execution_count": 308,
   "id": "84fb47b8",
   "metadata": {},
   "outputs": [],
   "source": [
    "bar_loyalty_region.figure.savefig(os.path.join(path, '04analysis','Visualizations', 'bar_loyalty_region.png'),bbox_inches = 'tight')"
   ]
  },
  {
   "cell_type": "code",
   "execution_count": 221,
   "id": "ceb7b33f",
   "metadata": {},
   "outputs": [],
   "source": [
    "#department/region\n",
    "crosstab_department_region = pd.crosstab(df_clean['department_id'], df_clean['Region'], dropna = False)"
   ]
  },
  {
   "cell_type": "code",
   "execution_count": 220,
   "id": "a65acb1d",
   "metadata": {},
   "outputs": [],
   "source": [
    "crosstab_department_region.to_clipboard()"
   ]
  },
  {
   "cell_type": "code",
   "execution_count": 319,
   "id": "4bc9ff72",
   "metadata": {
    "scrolled": false
   },
   "outputs": [
    {
     "data": {
      "image/png": "[encoded data removed]",
      "text/plain": [
       "<Figure size 432x288 with 1 Axes>"
      ]
     },
     "metadata": {
      "needs_background": "light"
     },
     "output_type": "display_data"
    }
   ],
   "source": [
    "bar_department_region = crosstab_department_region.plot(kind = 'bar', stacked = True, width = 1, colormap = 'viridis')"
   ]
  },
  {
   "cell_type": "code",
   "execution_count": 374,
   "id": "503a1b89",
   "metadata": {},
   "outputs": [],
   "source": [
    "bar_department_region.figure.savefig(os.path.join(path, '04analysis','Visualizations', 'bar_departmnet_region.png'),bbox_inches = 'tight')"
   ]
  },
  {
   "cell_type": "code",
   "execution_count": 183,
   "id": "b3285ace",
   "metadata": {},
   "outputs": [
    {
     "data": {
      "text/html": [
       "<div>\n",
       "<style scoped>\n",
       "    .dataframe tbody tr th:only-of-type {\n",
       "        vertical-align: middle;\n",
       "    }\n",
       "\n",
       "    .dataframe tbody tr th {\n",
       "        vertical-align: top;\n",
       "    }\n",
       "\n",
       "    .dataframe thead th {\n",
       "        text-align: right;\n",
       "    }\n",
       "</style>\n",
       "<table border=\"1\" class=\"dataframe\">\n",
       "  <thead>\n",
       "    <tr style=\"text-align: right;\">\n",
       "      <th>Family_status</th>\n",
       "      <th>divorced/widowed</th>\n",
       "      <th>living with parents and siblings</th>\n",
       "      <th>married</th>\n",
       "      <th>single</th>\n",
       "    </tr>\n",
       "    <tr>\n",
       "      <th>age_group</th>\n",
       "      <th></th>\n",
       "      <th></th>\n",
       "      <th></th>\n",
       "      <th></th>\n",
       "    </tr>\n",
       "  </thead>\n",
       "  <tbody>\n",
       "    <tr>\n",
       "      <th>20-30</th>\n",
       "      <td>0</td>\n",
       "      <td>731492</td>\n",
       "      <td>2888941</td>\n",
       "      <td>1222851</td>\n",
       "    </tr>\n",
       "    <tr>\n",
       "      <th>30-40</th>\n",
       "      <td>0</td>\n",
       "      <td>0</td>\n",
       "      <td>3634662</td>\n",
       "      <td>1212977</td>\n",
       "    </tr>\n",
       "    <tr>\n",
       "      <th>40-50</th>\n",
       "      <td>0</td>\n",
       "      <td>0</td>\n",
       "      <td>3669560</td>\n",
       "      <td>1213803</td>\n",
       "    </tr>\n",
       "    <tr>\n",
       "      <th>50-60</th>\n",
       "      <td>0</td>\n",
       "      <td>0</td>\n",
       "      <td>3621822</td>\n",
       "      <td>1220163</td>\n",
       "    </tr>\n",
       "    <tr>\n",
       "      <th>60-70</th>\n",
       "      <td>1204514</td>\n",
       "      <td>0</td>\n",
       "      <td>3557277</td>\n",
       "      <td>0</td>\n",
       "    </tr>\n",
       "    <tr>\n",
       "      <th>&lt;20</th>\n",
       "      <td>0</td>\n",
       "      <td>749716</td>\n",
       "      <td>0</td>\n",
       "      <td>224851</td>\n",
       "    </tr>\n",
       "    <tr>\n",
       "      <th>over 70</th>\n",
       "      <td>1440858</td>\n",
       "      <td>0</td>\n",
       "      <td>4372205</td>\n",
       "      <td>0</td>\n",
       "    </tr>\n",
       "  </tbody>\n",
       "</table>\n",
       "</div>"
      ],
      "text/plain": [
       "Family_status  divorced/widowed  living with parents and siblings  married  \\\n",
       "age_group                                                                    \n",
       "20-30                         0                            731492  2888941   \n",
       "30-40                         0                                 0  3634662   \n",
       "40-50                         0                                 0  3669560   \n",
       "50-60                         0                                 0  3621822   \n",
       "60-70                   1204514                                 0  3557277   \n",
       "<20                           0                            749716        0   \n",
       "over 70                 1440858                                 0  4372205   \n",
       "\n",
       "Family_status   single  \n",
       "age_group               \n",
       "20-30          1222851  \n",
       "30-40          1212977  \n",
       "40-50          1213803  \n",
       "50-60          1220163  \n",
       "60-70                0  \n",
       "<20             224851  \n",
       "over 70              0  "
      ]
     },
     "execution_count": 183,
     "metadata": {},
     "output_type": "execute_result"
    }
   ],
   "source": [
    "#age/family\n",
    "crosstab_age_family = pd.crosstab(df_clean['age_group'], df_clean['Family_status'], dropna = False)\n",
    "crosstab_age_family"
   ]
  },
  {
   "cell_type": "code",
   "execution_count": 365,
   "id": "fdf8a866",
   "metadata": {},
   "outputs": [
    {
     "data": {
      "image/png": "[encoded data removed]",
      "text/plain": [
       "<Figure size 432x288 with 1 Axes>"
      ]
     },
     "metadata": {
      "needs_background": "light"
     },
     "output_type": "display_data"
    }
   ],
   "source": [
    "bar_age_family = crosstab_age_family.plot(kind = 'bar', stacked = False, width = 0.8, colormap = family_c)"
   ]
  },
  {
   "cell_type": "code",
   "execution_count": 366,
   "id": "92acf6e8",
   "metadata": {},
   "outputs": [],
   "source": [
    "bar_age_family.figure.savefig(os.path.join(path, '04analysis','Visualizations', 'bar_age_family.png'),bbox_inches = 'tight')"
   ]
  },
  {
   "cell_type": "code",
   "execution_count": 223,
   "id": "184cb811",
   "metadata": {},
   "outputs": [],
   "source": [
    "#family/region\n",
    "crosstab_family_region = pd.crosstab(df_clean['Family_status'], df_clean['Region'], dropna = False)"
   ]
  },
  {
   "cell_type": "code",
   "execution_count": 225,
   "id": "ba3e6dce",
   "metadata": {},
   "outputs": [
    {
     "data": {
      "text/html": [
       "<div>\n",
       "<style scoped>\n",
       "    .dataframe tbody tr th:only-of-type {\n",
       "        vertical-align: middle;\n",
       "    }\n",
       "\n",
       "    .dataframe tbody tr th {\n",
       "        vertical-align: top;\n",
       "    }\n",
       "\n",
       "    .dataframe thead th {\n",
       "        text-align: right;\n",
       "    }\n",
       "</style>\n",
       "<table border=\"1\" class=\"dataframe\">\n",
       "  <thead>\n",
       "    <tr style=\"text-align: right;\">\n",
       "      <th>Region</th>\n",
       "      <th>Midwest</th>\n",
       "      <th>Northeast</th>\n",
       "      <th>South</th>\n",
       "      <th>West</th>\n",
       "    </tr>\n",
       "    <tr>\n",
       "      <th>Family_status</th>\n",
       "      <th></th>\n",
       "      <th></th>\n",
       "      <th></th>\n",
       "      <th></th>\n",
       "    </tr>\n",
       "  </thead>\n",
       "  <tbody>\n",
       "    <tr>\n",
       "      <th>divorced/widowed</th>\n",
       "      <td>617223</td>\n",
       "      <td>478786</td>\n",
       "      <td>817228</td>\n",
       "      <td>732135</td>\n",
       "    </tr>\n",
       "    <tr>\n",
       "      <th>living with parents and siblings</th>\n",
       "      <td>351447</td>\n",
       "      <td>256433</td>\n",
       "      <td>481482</td>\n",
       "      <td>391846</td>\n",
       "    </tr>\n",
       "    <tr>\n",
       "      <th>married</th>\n",
       "      <td>5087426</td>\n",
       "      <td>3853896</td>\n",
       "      <td>6803810</td>\n",
       "      <td>5999335</td>\n",
       "    </tr>\n",
       "    <tr>\n",
       "      <th>single</th>\n",
       "      <td>1205668</td>\n",
       "      <td>875764</td>\n",
       "      <td>1599638</td>\n",
       "      <td>1413575</td>\n",
       "    </tr>\n",
       "  </tbody>\n",
       "</table>\n",
       "</div>"
      ],
      "text/plain": [
       "Region                            Midwest  Northeast    South     West\n",
       "Family_status                                                         \n",
       "divorced/widowed                   617223     478786   817228   732135\n",
       "living with parents and siblings   351447     256433   481482   391846\n",
       "married                           5087426    3853896  6803810  5999335\n",
       "single                            1205668     875764  1599638  1413575"
      ]
     },
     "execution_count": 225,
     "metadata": {},
     "output_type": "execute_result"
    }
   ],
   "source": [
    "crosstab_family_region"
   ]
  },
  {
   "cell_type": "code",
   "execution_count": 368,
   "id": "75ffeb4a",
   "metadata": {
    "scrolled": true
   },
   "outputs": [
    {
     "data": {
      "image/png": "[encoded data removed]",
      "text/plain": [
       "<Figure size 432x288 with 1 Axes>"
      ]
     },
     "metadata": {
      "needs_background": "light"
     },
     "output_type": "display_data"
    }
   ],
   "source": [
    "bar_fam_region = crosstab_family_region.T.plot(kind = 'bar', stacked = True, width = 0.6, colormap = family_c)"
   ]
  },
  {
   "cell_type": "code",
   "execution_count": 373,
   "id": "a6e7e521",
   "metadata": {},
   "outputs": [],
   "source": [
    "bar_fam_region.figure.savefig(os.path.join(path, '04analysis','Visualizations', 'bar_family_region.png'),bbox_inches = 'tight')"
   ]
  },
  {
   "cell_type": "code",
   "execution_count": 230,
   "id": "b91ea383",
   "metadata": {},
   "outputs": [],
   "source": [
    "#family/department\n",
    "crosstab_family_department = pd.crosstab(df_clean['Family_status'], df_clean['department_id'], dropna = False)"
   ]
  },
  {
   "cell_type": "code",
   "execution_count": 231,
   "id": "d9e2af59",
   "metadata": {},
   "outputs": [
    {
     "data": {
      "text/html": [
       "<div>\n",
       "<style scoped>\n",
       "    .dataframe tbody tr th:only-of-type {\n",
       "        vertical-align: middle;\n",
       "    }\n",
       "\n",
       "    .dataframe tbody tr th {\n",
       "        vertical-align: top;\n",
       "    }\n",
       "\n",
       "    .dataframe thead th {\n",
       "        text-align: right;\n",
       "    }\n",
       "</style>\n",
       "<table border=\"1\" class=\"dataframe\">\n",
       "  <thead>\n",
       "    <tr style=\"text-align: right;\">\n",
       "      <th>department_id</th>\n",
       "      <th>1.0</th>\n",
       "      <th>2.0</th>\n",
       "      <th>3.0</th>\n",
       "      <th>4.0</th>\n",
       "      <th>5.0</th>\n",
       "      <th>6.0</th>\n",
       "      <th>7.0</th>\n",
       "      <th>8.0</th>\n",
       "      <th>9.0</th>\n",
       "      <th>10.0</th>\n",
       "      <th>...</th>\n",
       "      <th>12.0</th>\n",
       "      <th>13.0</th>\n",
       "      <th>14.0</th>\n",
       "      <th>15.0</th>\n",
       "      <th>16.0</th>\n",
       "      <th>17.0</th>\n",
       "      <th>18.0</th>\n",
       "      <th>19.0</th>\n",
       "      <th>20.0</th>\n",
       "      <th>21.0</th>\n",
       "    </tr>\n",
       "    <tr>\n",
       "      <th>Family_status</th>\n",
       "      <th></th>\n",
       "      <th></th>\n",
       "      <th></th>\n",
       "      <th></th>\n",
       "      <th></th>\n",
       "      <th></th>\n",
       "      <th></th>\n",
       "      <th></th>\n",
       "      <th></th>\n",
       "      <th></th>\n",
       "      <th></th>\n",
       "      <th></th>\n",
       "      <th></th>\n",
       "      <th></th>\n",
       "      <th></th>\n",
       "      <th></th>\n",
       "      <th></th>\n",
       "      <th></th>\n",
       "      <th></th>\n",
       "      <th></th>\n",
       "      <th></th>\n",
       "    </tr>\n",
       "  </thead>\n",
       "  <tbody>\n",
       "    <tr>\n",
       "      <th>divorced/widowed</th>\n",
       "      <td>183957</td>\n",
       "      <td>2842</td>\n",
       "      <td>95735</td>\n",
       "      <td>777095</td>\n",
       "      <td>11878</td>\n",
       "      <td>21814</td>\n",
       "      <td>220879</td>\n",
       "      <td>8025</td>\n",
       "      <td>70251</td>\n",
       "      <td>2676</td>\n",
       "      <td>...</td>\n",
       "      <td>57621</td>\n",
       "      <td>151891</td>\n",
       "      <td>56670</td>\n",
       "      <td>84268</td>\n",
       "      <td>442602</td>\n",
       "      <td>58446</td>\n",
       "      <td>34351</td>\n",
       "      <td>236244</td>\n",
       "      <td>86749</td>\n",
       "      <td>5064</td>\n",
       "    </tr>\n",
       "    <tr>\n",
       "      <th>living with parents and siblings</th>\n",
       "      <td>102993</td>\n",
       "      <td>1815</td>\n",
       "      <td>53684</td>\n",
       "      <td>430539</td>\n",
       "      <td>8380</td>\n",
       "      <td>12394</td>\n",
       "      <td>119107</td>\n",
       "      <td>5338</td>\n",
       "      <td>39542</td>\n",
       "      <td>1633</td>\n",
       "      <td>...</td>\n",
       "      <td>32344</td>\n",
       "      <td>85845</td>\n",
       "      <td>33233</td>\n",
       "      <td>48477</td>\n",
       "      <td>250207</td>\n",
       "      <td>33349</td>\n",
       "      <td>19381</td>\n",
       "      <td>131310</td>\n",
       "      <td>48119</td>\n",
       "      <td>3317</td>\n",
       "    </tr>\n",
       "    <tr>\n",
       "      <th>married</th>\n",
       "      <td>1489391</td>\n",
       "      <td>23882</td>\n",
       "      <td>785749</td>\n",
       "      <td>6373295</td>\n",
       "      <td>99442</td>\n",
       "      <td>179136</td>\n",
       "      <td>1807453</td>\n",
       "      <td>64120</td>\n",
       "      <td>578298</td>\n",
       "      <td>23818</td>\n",
       "      <td>...</td>\n",
       "      <td>476559</td>\n",
       "      <td>1252956</td>\n",
       "      <td>471919</td>\n",
       "      <td>712577</td>\n",
       "      <td>3632600</td>\n",
       "      <td>495151</td>\n",
       "      <td>287683</td>\n",
       "      <td>1944658</td>\n",
       "      <td>702333</td>\n",
       "      <td>45516</td>\n",
       "    </tr>\n",
       "    <tr>\n",
       "      <th>single</th>\n",
       "      <td>345391</td>\n",
       "      <td>5872</td>\n",
       "      <td>185660</td>\n",
       "      <td>1498347</td>\n",
       "      <td>24974</td>\n",
       "      <td>42647</td>\n",
       "      <td>424462</td>\n",
       "      <td>15577</td>\n",
       "      <td>134045</td>\n",
       "      <td>5324</td>\n",
       "      <td>...</td>\n",
       "      <td>108257</td>\n",
       "      <td>292013</td>\n",
       "      <td>110050</td>\n",
       "      <td>166752</td>\n",
       "      <td>851774</td>\n",
       "      <td>112912</td>\n",
       "      <td>68977</td>\n",
       "      <td>454194</td>\n",
       "      <td>166633</td>\n",
       "      <td>10871</td>\n",
       "    </tr>\n",
       "  </tbody>\n",
       "</table>\n",
       "<p>4 rows × 21 columns</p>\n",
       "</div>"
      ],
      "text/plain": [
       "department_id                        1.0    2.0     3.0      4.0    5.0   \\\n",
       "Family_status                                                              \n",
       "divorced/widowed                   183957   2842   95735   777095  11878   \n",
       "living with parents and siblings   102993   1815   53684   430539   8380   \n",
       "married                           1489391  23882  785749  6373295  99442   \n",
       "single                             345391   5872  185660  1498347  24974   \n",
       "\n",
       "department_id                       6.0      7.0    8.0     9.0    10.0  ...  \\\n",
       "Family_status                                                            ...   \n",
       "divorced/widowed                   21814   220879   8025   70251   2676  ...   \n",
       "living with parents and siblings   12394   119107   5338   39542   1633  ...   \n",
       "married                           179136  1807453  64120  578298  23818  ...   \n",
       "single                             42647   424462  15577  134045   5324  ...   \n",
       "\n",
       "department_id                       12.0     13.0    14.0    15.0     16.0  \\\n",
       "Family_status                                                                \n",
       "divorced/widowed                   57621   151891   56670   84268   442602   \n",
       "living with parents and siblings   32344    85845   33233   48477   250207   \n",
       "married                           476559  1252956  471919  712577  3632600   \n",
       "single                            108257   292013  110050  166752   851774   \n",
       "\n",
       "department_id                       17.0    18.0     19.0    20.0   21.0  \n",
       "Family_status                                                             \n",
       "divorced/widowed                   58446   34351   236244   86749   5064  \n",
       "living with parents and siblings   33349   19381   131310   48119   3317  \n",
       "married                           495151  287683  1944658  702333  45516  \n",
       "single                            112912   68977   454194  166633  10871  \n",
       "\n",
       "[4 rows x 21 columns]"
      ]
     },
     "execution_count": 231,
     "metadata": {},
     "output_type": "execute_result"
    }
   ],
   "source": [
    "crosstab_family_department"
   ]
  },
  {
   "cell_type": "code",
   "execution_count": 370,
   "id": "27e0d77c",
   "metadata": {},
   "outputs": [
    {
     "data": {
      "image/png": "[encoded data removed]",
      "text/plain": [
       "<Figure size 432x288 with 1 Axes>"
      ]
     },
     "metadata": {
      "needs_background": "light"
     },
     "output_type": "display_data"
    }
   ],
   "source": [
    "bar_fam_dep = crosstab_family_department.T.plot(kind = 'bar', stacked = True, width = 0.6, colormap = family_c)"
   ]
  },
  {
   "cell_type": "code",
   "execution_count": 372,
   "id": "066db07a",
   "metadata": {},
   "outputs": [],
   "source": [
    "bar_fam_dep.figure.savefig(os.path.join(path, '04analysis','Visualizations', 'bar_family_department.png'),bbox_inches = 'tight')"
   ]
  },
  {
   "cell_type": "code",
   "execution_count": 79,
   "id": "047247f4",
   "metadata": {
    "scrolled": true
   },
   "outputs": [
    {
     "data": {
      "image/png": "[encoded data removed]",
      "text/plain": [
       "<Figure size 432x288 with 1 Axes>"
      ]
     },
     "metadata": {
      "needs_background": "light"
     },
     "output_type": "display_data"
    }
   ],
   "source": [
    "bar_age_dep = crosstab_age.T.plot(kind = 'bar', stacked = True, width = 0.6, colormap = age_c)"
   ]
  },
  {
   "cell_type": "code",
   "execution_count": 82,
   "id": "cc315973",
   "metadata": {},
   "outputs": [],
   "source": [
    "bar_age_dep.figure.savefig(os.path.join(path, '04analysis','Visualizations', 'bar_age_department.png'),bbox_inches = 'tight')"
   ]
  },
  {
   "cell_type": "code",
   "execution_count": 92,
   "id": "4627569c",
   "metadata": {},
   "outputs": [
    {
     "data": {
      "image/png": "[encoded data removed]",
      "text/plain": [
       "<Figure size 432x288 with 1 Axes>"
      ]
     },
     "metadata": {
      "needs_background": "light"
     },
     "output_type": "display_data"
    }
   ],
   "source": [
    "bar_age_income = crosstab_age_income.plot(kind = 'bar', stacked = True, width = 0.6, colormap = loyalty_flag_c)"
   ]
  },
  {
   "cell_type": "code",
   "execution_count": 93,
   "id": "e52cad53",
   "metadata": {},
   "outputs": [],
   "source": [
    "bar_age_income.figure.savefig(os.path.join(path, '04analysis','Visualizations', 'bar_age_income.png'),bbox_inches = 'tight')"
   ]
  },
  {
   "cell_type": "code",
   "execution_count": 66,
   "id": "fe568ace",
   "metadata": {},
   "outputs": [
    {
     "data": {
      "image/png": "[encoded data removed]",
      "text/plain": [
       "<Figure size 432x288 with 1 Axes>"
      ]
     },
     "metadata": {
      "needs_background": "light"
     },
     "output_type": "display_data"
    }
   ],
   "source": [
    "bar_age_loyalty = crosstab_age_loyalty.plot(kind = 'bar', stacked = True, width = 0.6, colormap = loyalty_flag_c)"
   ]
  },
  {
   "cell_type": "markdown",
   "id": "ad9bc3d0",
   "metadata": {},
   "source": [
    "### 7. Aggregate the max, mean, and min variables on a customer-profile level for usage frequency and expenditure."
   ]
  },
  {
   "cell_type": "code",
   "execution_count": 114,
   "id": "c9226aba",
   "metadata": {
    "scrolled": true
   },
   "outputs": [],
   "source": [
    "agg_prices = df_clean.groupby('user_id').agg({'prices': ['mean', 'min', 'max']})"
   ]
  },
  {
   "cell_type": "code",
   "execution_count": 115,
   "id": "e3610394",
   "metadata": {
    "scrolled": true
   },
   "outputs": [
    {
     "data": {
      "text/html": [
       "<div>\n",
       "<style scoped>\n",
       "    .dataframe tbody tr th:only-of-type {\n",
       "        vertical-align: middle;\n",
       "    }\n",
       "\n",
       "    .dataframe tbody tr th {\n",
       "        vertical-align: top;\n",
       "    }\n",
       "\n",
       "    .dataframe thead tr th {\n",
       "        text-align: left;\n",
       "    }\n",
       "\n",
       "    .dataframe thead tr:last-of-type th {\n",
       "        text-align: right;\n",
       "    }\n",
       "</style>\n",
       "<table border=\"1\" class=\"dataframe\">\n",
       "  <thead>\n",
       "    <tr>\n",
       "      <th></th>\n",
       "      <th colspan=\"3\" halign=\"left\">prices</th>\n",
       "    </tr>\n",
       "    <tr>\n",
       "      <th></th>\n",
       "      <th>mean</th>\n",
       "      <th>min</th>\n",
       "      <th>max</th>\n",
       "    </tr>\n",
       "    <tr>\n",
       "      <th>user_id</th>\n",
       "      <th></th>\n",
       "      <th></th>\n",
       "      <th></th>\n",
       "    </tr>\n",
       "  </thead>\n",
       "  <tbody>\n",
       "    <tr>\n",
       "      <th>1</th>\n",
       "      <td>6.367188</td>\n",
       "      <td>1.000000</td>\n",
       "      <td>14.000000</td>\n",
       "    </tr>\n",
       "    <tr>\n",
       "      <th>2</th>\n",
       "      <td>7.515625</td>\n",
       "      <td>1.299805</td>\n",
       "      <td>14.796875</td>\n",
       "    </tr>\n",
       "    <tr>\n",
       "      <th>3</th>\n",
       "      <td>8.195312</td>\n",
       "      <td>1.299805</td>\n",
       "      <td>14.398438</td>\n",
       "    </tr>\n",
       "    <tr>\n",
       "      <th>4</th>\n",
       "      <td>8.203125</td>\n",
       "      <td>1.400391</td>\n",
       "      <td>14.601562</td>\n",
       "    </tr>\n",
       "    <tr>\n",
       "      <th>7</th>\n",
       "      <td>7.464844</td>\n",
       "      <td>1.099609</td>\n",
       "      <td>23.203125</td>\n",
       "    </tr>\n",
       "  </tbody>\n",
       "</table>\n",
       "</div>"
      ],
      "text/plain": [
       "           prices                     \n",
       "             mean       min        max\n",
       "user_id                               \n",
       "1        6.367188  1.000000  14.000000\n",
       "2        7.515625  1.299805  14.796875\n",
       "3        8.195312  1.299805  14.398438\n",
       "4        8.203125  1.400391  14.601562\n",
       "7        7.464844  1.099609  23.203125"
      ]
     },
     "execution_count": 115,
     "metadata": {},
     "output_type": "execute_result"
    }
   ],
   "source": [
    "agg_prices.head()"
   ]
  },
  {
   "cell_type": "code",
   "execution_count": 116,
   "id": "5311adf6",
   "metadata": {},
   "outputs": [],
   "source": [
    "#fixing the column names\n",
    "agg_prices.reset_index()\n",
    "header_names = ('mean_price', 'min_price', 'max_price')\n",
    "agg_prices.columns = header_names"
   ]
  },
  {
   "cell_type": "code",
   "execution_count": 117,
   "id": "16b48018",
   "metadata": {},
   "outputs": [
    {
     "data": {
      "text/html": [
       "<div>\n",
       "<style scoped>\n",
       "    .dataframe tbody tr th:only-of-type {\n",
       "        vertical-align: middle;\n",
       "    }\n",
       "\n",
       "    .dataframe tbody tr th {\n",
       "        vertical-align: top;\n",
       "    }\n",
       "\n",
       "    .dataframe thead th {\n",
       "        text-align: right;\n",
       "    }\n",
       "</style>\n",
       "<table border=\"1\" class=\"dataframe\">\n",
       "  <thead>\n",
       "    <tr style=\"text-align: right;\">\n",
       "      <th></th>\n",
       "      <th>mean_price</th>\n",
       "      <th>min_price</th>\n",
       "      <th>max_price</th>\n",
       "    </tr>\n",
       "    <tr>\n",
       "      <th>user_id</th>\n",
       "      <th></th>\n",
       "      <th></th>\n",
       "      <th></th>\n",
       "    </tr>\n",
       "  </thead>\n",
       "  <tbody>\n",
       "    <tr>\n",
       "      <th>1</th>\n",
       "      <td>6.367188</td>\n",
       "      <td>1.000000</td>\n",
       "      <td>14.000000</td>\n",
       "    </tr>\n",
       "    <tr>\n",
       "      <th>2</th>\n",
       "      <td>7.515625</td>\n",
       "      <td>1.299805</td>\n",
       "      <td>14.796875</td>\n",
       "    </tr>\n",
       "    <tr>\n",
       "      <th>3</th>\n",
       "      <td>8.195312</td>\n",
       "      <td>1.299805</td>\n",
       "      <td>14.398438</td>\n",
       "    </tr>\n",
       "    <tr>\n",
       "      <th>4</th>\n",
       "      <td>8.203125</td>\n",
       "      <td>1.400391</td>\n",
       "      <td>14.601562</td>\n",
       "    </tr>\n",
       "    <tr>\n",
       "      <th>7</th>\n",
       "      <td>7.464844</td>\n",
       "      <td>1.099609</td>\n",
       "      <td>23.203125</td>\n",
       "    </tr>\n",
       "  </tbody>\n",
       "</table>\n",
       "</div>"
      ],
      "text/plain": [
       "         mean_price  min_price  max_price\n",
       "user_id                                  \n",
       "1          6.367188   1.000000  14.000000\n",
       "2          7.515625   1.299805  14.796875\n",
       "3          8.195312   1.299805  14.398438\n",
       "4          8.203125   1.400391  14.601562\n",
       "7          7.464844   1.099609  23.203125"
      ]
     },
     "execution_count": 117,
     "metadata": {},
     "output_type": "execute_result"
    }
   ],
   "source": [
    "agg_prices.head()"
   ]
  },
  {
   "cell_type": "code",
   "execution_count": 118,
   "id": "9a59c2e8",
   "metadata": {},
   "outputs": [
    {
     "data": {
      "image/png": "[encoded data removed]",
      "text/plain": [
       "<Figure size 432x288 with 1 Axes>"
      ]
     },
     "metadata": {
      "needs_background": "light"
     },
     "output_type": "display_data"
    }
   ],
   "source": [
    "hist_sns = sns.histplot(data = agg_prices)"
   ]
  },
  {
   "cell_type": "code",
   "execution_count": 119,
   "id": "bc39b962",
   "metadata": {},
   "outputs": [],
   "source": [
    "agg_prices.to_csv((os.path.join(path, '02data','prepared_data', 'aggregated_prices.csv')))"
   ]
  },
  {
   "cell_type": "code",
   "execution_count": 99,
   "id": "df7374f9",
   "metadata": {},
   "outputs": [],
   "source": [
    "agg_days = df_clean.groupby('user_id').agg({'days_since_prior_order': ['mean', 'min', 'max']})"
   ]
  },
  {
   "cell_type": "code",
   "execution_count": 101,
   "id": "7a7cfe84",
   "metadata": {},
   "outputs": [
    {
     "data": {
      "text/html": [
       "<div>\n",
       "<style scoped>\n",
       "    .dataframe tbody tr th:only-of-type {\n",
       "        vertical-align: middle;\n",
       "    }\n",
       "\n",
       "    .dataframe tbody tr th {\n",
       "        vertical-align: top;\n",
       "    }\n",
       "\n",
       "    .dataframe thead tr th {\n",
       "        text-align: left;\n",
       "    }\n",
       "\n",
       "    .dataframe thead tr:last-of-type th {\n",
       "        text-align: right;\n",
       "    }\n",
       "</style>\n",
       "<table border=\"1\" class=\"dataframe\">\n",
       "  <thead>\n",
       "    <tr>\n",
       "      <th></th>\n",
       "      <th colspan=\"3\" halign=\"left\">days_since_prior_order</th>\n",
       "    </tr>\n",
       "    <tr>\n",
       "      <th></th>\n",
       "      <th>mean</th>\n",
       "      <th>min</th>\n",
       "      <th>max</th>\n",
       "    </tr>\n",
       "    <tr>\n",
       "      <th>user_id</th>\n",
       "      <th></th>\n",
       "      <th></th>\n",
       "      <th></th>\n",
       "    </tr>\n",
       "  </thead>\n",
       "  <tbody>\n",
       "    <tr>\n",
       "      <th>1</th>\n",
       "      <td>20.265625</td>\n",
       "      <td>0.0</td>\n",
       "      <td>30.0</td>\n",
       "    </tr>\n",
       "    <tr>\n",
       "      <th>2</th>\n",
       "      <td>15.968750</td>\n",
       "      <td>3.0</td>\n",
       "      <td>30.0</td>\n",
       "    </tr>\n",
       "    <tr>\n",
       "      <th>3</th>\n",
       "      <td>11.484375</td>\n",
       "      <td>7.0</td>\n",
       "      <td>21.0</td>\n",
       "    </tr>\n",
       "    <tr>\n",
       "      <th>4</th>\n",
       "      <td>15.359375</td>\n",
       "      <td>0.0</td>\n",
       "      <td>21.0</td>\n",
       "    </tr>\n",
       "    <tr>\n",
       "      <th>7</th>\n",
       "      <td>13.546875</td>\n",
       "      <td>2.0</td>\n",
       "      <td>30.0</td>\n",
       "    </tr>\n",
       "  </tbody>\n",
       "</table>\n",
       "</div>"
      ],
      "text/plain": [
       "        days_since_prior_order           \n",
       "                          mean  min   max\n",
       "user_id                                  \n",
       "1                    20.265625  0.0  30.0\n",
       "2                    15.968750  3.0  30.0\n",
       "3                    11.484375  7.0  21.0\n",
       "4                    15.359375  0.0  21.0\n",
       "7                    13.546875  2.0  30.0"
      ]
     },
     "execution_count": 101,
     "metadata": {},
     "output_type": "execute_result"
    }
   ],
   "source": [
    "agg_days.head()"
   ]
  },
  {
   "cell_type": "code",
   "execution_count": 102,
   "id": "f041b477",
   "metadata": {},
   "outputs": [],
   "source": [
    "#fixing the column names\n",
    "agg_days.reset_index()\n",
    "header_names = ('mean_interval', 'min_interval', 'max_interval')\n",
    "agg_days.columns = header_names"
   ]
  },
  {
   "cell_type": "code",
   "execution_count": 103,
   "id": "4f62dee8",
   "metadata": {
    "scrolled": true
   },
   "outputs": [
    {
     "data": {
      "text/html": [
       "<div>\n",
       "<style scoped>\n",
       "    .dataframe tbody tr th:only-of-type {\n",
       "        vertical-align: middle;\n",
       "    }\n",
       "\n",
       "    .dataframe tbody tr th {\n",
       "        vertical-align: top;\n",
       "    }\n",
       "\n",
       "    .dataframe thead th {\n",
       "        text-align: right;\n",
       "    }\n",
       "</style>\n",
       "<table border=\"1\" class=\"dataframe\">\n",
       "  <thead>\n",
       "    <tr style=\"text-align: right;\">\n",
       "      <th></th>\n",
       "      <th>mean_interval</th>\n",
       "      <th>min_interval</th>\n",
       "      <th>max_interval</th>\n",
       "    </tr>\n",
       "    <tr>\n",
       "      <th>user_id</th>\n",
       "      <th></th>\n",
       "      <th></th>\n",
       "      <th></th>\n",
       "    </tr>\n",
       "  </thead>\n",
       "  <tbody>\n",
       "    <tr>\n",
       "      <th>1</th>\n",
       "      <td>20.265625</td>\n",
       "      <td>0.0</td>\n",
       "      <td>30.0</td>\n",
       "    </tr>\n",
       "    <tr>\n",
       "      <th>2</th>\n",
       "      <td>15.968750</td>\n",
       "      <td>3.0</td>\n",
       "      <td>30.0</td>\n",
       "    </tr>\n",
       "    <tr>\n",
       "      <th>3</th>\n",
       "      <td>11.484375</td>\n",
       "      <td>7.0</td>\n",
       "      <td>21.0</td>\n",
       "    </tr>\n",
       "    <tr>\n",
       "      <th>4</th>\n",
       "      <td>15.359375</td>\n",
       "      <td>0.0</td>\n",
       "      <td>21.0</td>\n",
       "    </tr>\n",
       "    <tr>\n",
       "      <th>7</th>\n",
       "      <td>13.546875</td>\n",
       "      <td>2.0</td>\n",
       "      <td>30.0</td>\n",
       "    </tr>\n",
       "  </tbody>\n",
       "</table>\n",
       "</div>"
      ],
      "text/plain": [
       "         mean_interval  min_interval  max_interval\n",
       "user_id                                           \n",
       "1            20.265625           0.0          30.0\n",
       "2            15.968750           3.0          30.0\n",
       "3            11.484375           7.0          21.0\n",
       "4            15.359375           0.0          21.0\n",
       "7            13.546875           2.0          30.0"
      ]
     },
     "execution_count": 103,
     "metadata": {},
     "output_type": "execute_result"
    }
   ],
   "source": [
    "agg_days.head()"
   ]
  },
  {
   "cell_type": "code",
   "execution_count": 104,
   "id": "24a5c48a",
   "metadata": {
    "scrolled": true
   },
   "outputs": [
    {
     "data": {
      "image/png": "[encoded data removed]",
      "text/plain": [
       "<Figure size 432x288 with 1 Axes>"
      ]
     },
     "metadata": {
      "needs_background": "light"
     },
     "output_type": "display_data"
    }
   ],
   "source": [
    "hist_interval = sns.histplot (data = agg_days)"
   ]
  },
  {
   "cell_type": "code",
   "execution_count": 105,
   "id": "c295c47c",
   "metadata": {},
   "outputs": [],
   "source": [
    "''''the 30 days interval spike is probably an artifact due to how the dataset has been edited for this exercise. \n",
    "I'll drop all the entries with this value, because is compressing the rest of the bars to much'''\n",
    "agg_days_clean = agg_days[agg_days['max_interval'] < 30]"
   ]
  },
  {
   "cell_type": "code",
   "execution_count": 113,
   "id": "fca3d7d5",
   "metadata": {},
   "outputs": [
    {
     "data": {
      "image/png": "[encoded data removed]",
      "text/plain": [
       "<Figure size 432x288 with 1 Axes>"
      ]
     },
     "metadata": {
      "needs_background": "light"
     },
     "output_type": "display_data"
    }
   ],
   "source": [
    "hist_interval2 = sns.histplot (data = agg_days_clean)"
   ]
  },
  {
   "cell_type": "code",
   "execution_count": 111,
   "id": "cc00a5ec",
   "metadata": {},
   "outputs": [],
   "source": [
    "#export the dataframe\n",
    "agg_days_clean.to_csv((os.path.join(path, '02data','prepared_data', 'aggregated_days_interval.csv')))"
   ]
  },
  {
   "cell_type": "code",
   "execution_count": 147,
   "id": "0bc2d74c",
   "metadata": {
    "scrolled": true
   },
   "outputs": [
    {
     "name": "stdout",
     "output_type": "stream",
     "text": [
      "<class 'pandas.core.frame.DataFrame'>\n",
      "Int64Index: 30994611 entries, 0 to 32436240\n",
      "Data columns (total 33 columns):\n",
      " #   Column                  Dtype   \n",
      "---  ------                  -----   \n",
      " 0   order_id                int32   \n",
      " 1   user_id                 int32   \n",
      " 2   order_number            int8    \n",
      " 3   orders_day_of_week      int8    \n",
      " 4   order_hour_of_day       int8    \n",
      " 5   days_since_prior_order  float16 \n",
      " 6   product_id              int32   \n",
      " 7   add_to_cart_order       int16   \n",
      " 8   reordered               category\n",
      " 9   product_name            object  \n",
      " 10  aisle_id                float16 \n",
      " 11  department_id           float16 \n",
      " 12  prices                  float16 \n",
      " 13  busiest_day             category\n",
      " 14  Busiest days            category\n",
      " 15  busiest_period_of_day   category\n",
      " 16  max_order               int8    \n",
      " 17  loyalty_flag            category\n",
      " 18  mean_prices_customers   float16 \n",
      " 19  spending_flag           category\n",
      " 20  days_frequency          int8    \n",
      " 21  frequency_flag          category\n",
      " 22  First_name              object  \n",
      " 23  Surname                 object  \n",
      " 24  Gender                  category\n",
      " 25  State                   object  \n",
      " 26  Age                     int8    \n",
      " 27  Date_joined             object  \n",
      " 28  n_dependants            int8    \n",
      " 29  Family_status           category\n",
      " 30  Income                  int32   \n",
      " 31  Region                  category\n",
      " 32  age_group               object  \n",
      "dtypes: category(10), float16(5), int16(1), int32(4), int8(7), object(6)\n",
      "memory usage: 3.9+ GB\n"
     ]
    }
   ],
   "source": [
    "df_clean.info()"
   ]
  },
  {
   "cell_type": "code",
   "execution_count": 269,
   "id": "3bb6b607",
   "metadata": {},
   "outputs": [],
   "source": [
    "agg_hours = df_clean.groupby('user_id').agg({'order_hour_of_day': ['mean', 'min', 'max']})"
   ]
  },
  {
   "cell_type": "code",
   "execution_count": 267,
   "id": "f6093b64",
   "metadata": {
    "scrolled": true
   },
   "outputs": [
    {
     "name": "stdout",
     "output_type": "stream",
     "text": [
      "<class 'pandas.core.frame.DataFrame'>\n",
      "Int64Index: 162633 entries, 1 to 206209\n",
      "Data columns (total 3 columns):\n",
      " #   Column                     Non-Null Count   Dtype  \n",
      "---  ------                     --------------   -----  \n",
      " 0   (order_hour_of_day, mean)  162633 non-null  float64\n",
      " 1   (order_hour_of_day, min)   162633 non-null  int8   \n",
      " 2   (order_hour_of_day, max)   162633 non-null  int8   \n",
      "dtypes: float64(1), int8(2)\n",
      "memory usage: 2.8 MB\n"
     ]
    }
   ],
   "source": [
    "agg_hours.info()"
   ]
  },
  {
   "cell_type": "code",
   "execution_count": 271,
   "id": "33cec9f6",
   "metadata": {},
   "outputs": [],
   "source": [
    "agg_hours.reset_index()\n",
    "header_names = ('mean_hour', 'min_hour', 'max_hour')\n",
    "agg_hours.columns = header_names"
   ]
  },
  {
   "cell_type": "code",
   "execution_count": 272,
   "id": "5151b329",
   "metadata": {},
   "outputs": [
    {
     "name": "stdout",
     "output_type": "stream",
     "text": [
      "<class 'pandas.core.frame.DataFrame'>\n",
      "Int64Index: 162633 entries, 1 to 206209\n",
      "Data columns (total 3 columns):\n",
      " #   Column     Non-Null Count   Dtype  \n",
      "---  ------     --------------   -----  \n",
      " 0   mean_hour  162633 non-null  float64\n",
      " 1   min_hour   162633 non-null  int8   \n",
      " 2   max_hour   162633 non-null  int8   \n",
      "dtypes: float64(1), int8(2)\n",
      "memory usage: 2.8 MB\n"
     ]
    }
   ],
   "source": [
    "agg_hours.info()"
   ]
  },
  {
   "cell_type": "code",
   "execution_count": 273,
   "id": "694ca8e4",
   "metadata": {
    "scrolled": true
   },
   "outputs": [
    {
     "data": {
      "image/png": "[encoded data removed]",
      "text/plain": [
       "<Figure size 432x288 with 1 Axes>"
      ]
     },
     "metadata": {
      "needs_background": "light"
     },
     "output_type": "display_data"
    }
   ],
   "source": [
    "hist_hour = sns.histplot (data = agg_hours)"
   ]
  },
  {
   "cell_type": "code",
   "execution_count": 284,
   "id": "cced4ac6",
   "metadata": {},
   "outputs": [],
   "source": [
    "agg_day = df_clean.groupby('user_id').agg({'orders_day_of_week': ['mean', 'min', 'max']})"
   ]
  },
  {
   "cell_type": "code",
   "execution_count": 285,
   "id": "1d5229a7",
   "metadata": {},
   "outputs": [
    {
     "name": "stdout",
     "output_type": "stream",
     "text": [
      "<class 'pandas.core.frame.DataFrame'>\n",
      "Int64Index: 162633 entries, 1 to 206209\n",
      "Data columns (total 3 columns):\n",
      " #   Column                      Non-Null Count   Dtype  \n",
      "---  ------                      --------------   -----  \n",
      " 0   (orders_day_of_week, mean)  162633 non-null  float64\n",
      " 1   (orders_day_of_week, min)   162633 non-null  int8   \n",
      " 2   (orders_day_of_week, max)   162633 non-null  int8   \n",
      "dtypes: float64(1), int8(2)\n",
      "memory usage: 2.8 MB\n"
     ]
    }
   ],
   "source": [
    "agg_day.info()"
   ]
  },
  {
   "cell_type": "code",
   "execution_count": 289,
   "id": "bae73469",
   "metadata": {},
   "outputs": [],
   "source": [
    "agg_day.reset_index()\n",
    "header_names = ('mean_day', 'min_day', 'max_day')\n",
    "agg_day.columns = header_names"
   ]
  },
  {
   "cell_type": "code",
   "execution_count": 290,
   "id": "94da87d1",
   "metadata": {
    "scrolled": true
   },
   "outputs": [
    {
     "name": "stdout",
     "output_type": "stream",
     "text": [
      "<class 'pandas.core.frame.DataFrame'>\n",
      "Int64Index: 162633 entries, 1 to 206209\n",
      "Data columns (total 3 columns):\n",
      " #   Column    Non-Null Count   Dtype  \n",
      "---  ------    --------------   -----  \n",
      " 0   mean_day  162633 non-null  float64\n",
      " 1   min_day   162633 non-null  int8   \n",
      " 2   max_day   162633 non-null  int8   \n",
      "dtypes: float64(1), int8(2)\n",
      "memory usage: 2.8 MB\n"
     ]
    }
   ],
   "source": [
    "agg_day.info()"
   ]
  },
  {
   "cell_type": "code",
   "execution_count": 320,
   "id": "50384a4f",
   "metadata": {},
   "outputs": [
    {
     "data": {
      "text/html": [
       "<div>\n",
       "<style scoped>\n",
       "    .dataframe tbody tr th:only-of-type {\n",
       "        vertical-align: middle;\n",
       "    }\n",
       "\n",
       "    .dataframe tbody tr th {\n",
       "        vertical-align: top;\n",
       "    }\n",
       "\n",
       "    .dataframe thead th {\n",
       "        text-align: right;\n",
       "    }\n",
       "</style>\n",
       "<table border=\"1\" class=\"dataframe\">\n",
       "  <thead>\n",
       "    <tr style=\"text-align: right;\">\n",
       "      <th></th>\n",
       "      <th>mean_day</th>\n",
       "      <th>min_day</th>\n",
       "      <th>max_day</th>\n",
       "    </tr>\n",
       "    <tr>\n",
       "      <th>user_id</th>\n",
       "      <th></th>\n",
       "      <th></th>\n",
       "      <th></th>\n",
       "    </tr>\n",
       "  </thead>\n",
       "  <tbody>\n",
       "    <tr>\n",
       "      <th>1</th>\n",
       "      <td>2.64</td>\n",
       "      <td>1</td>\n",
       "      <td>4</td>\n",
       "    </tr>\n",
       "    <tr>\n",
       "      <th>2</th>\n",
       "      <td>2.01</td>\n",
       "      <td>1</td>\n",
       "      <td>5</td>\n",
       "    </tr>\n",
       "    <tr>\n",
       "      <th>3</th>\n",
       "      <td>1.01</td>\n",
       "      <td>0</td>\n",
       "      <td>3</td>\n",
       "    </tr>\n",
       "    <tr>\n",
       "      <th>4</th>\n",
       "      <td>4.72</td>\n",
       "      <td>4</td>\n",
       "      <td>6</td>\n",
       "    </tr>\n",
       "    <tr>\n",
       "      <th>7</th>\n",
       "      <td>1.73</td>\n",
       "      <td>0</td>\n",
       "      <td>6</td>\n",
       "    </tr>\n",
       "  </tbody>\n",
       "</table>\n",
       "</div>"
      ],
      "text/plain": [
       "         mean_day  min_day  max_day\n",
       "user_id                            \n",
       "1            2.64        1        4\n",
       "2            2.01        1        5\n",
       "3            1.01        0        3\n",
       "4            4.72        4        6\n",
       "7            1.73        0        6"
      ]
     },
     "execution_count": 320,
     "metadata": {},
     "output_type": "execute_result"
    }
   ],
   "source": [
    "agg_day.head()"
   ]
  },
  {
   "cell_type": "code",
   "execution_count": 293,
   "id": "c70fdda5",
   "metadata": {
    "scrolled": true
   },
   "outputs": [
    {
     "data": {
      "image/png": "[encoded data removed]",
      "text/plain": [
       "<Figure size 432x288 with 1 Axes>"
      ]
     },
     "metadata": {
      "needs_background": "light"
     },
     "output_type": "display_data"
    }
   ],
   "source": [
    "hist_age_hour = sns.histplot (data = agg_day)"
   ]
  },
  {
   "cell_type": "markdown",
   "id": "c4b9003f",
   "metadata": {},
   "source": [
    "### 8 Compare your customer profiles with regions and departments. Can you identify a link between them? Customers may demonstrate different behaviors across regions, which could make this information important. "
   ]
  },
  {
   "cell_type": "code",
   "execution_count": 377,
   "id": "002e79eb",
   "metadata": {},
   "outputs": [],
   "source": [
    "#family status/region\n",
    "crosstab_family_region = pd.crosstab(df_clean['Family_status'], df_clean['Region'], dropna = False)"
   ]
  },
  {
   "cell_type": "code",
   "execution_count": 382,
   "id": "0233d95e",
   "metadata": {},
   "outputs": [
    {
     "data": {
      "image/png": "[encoded data removed]",
      "text/plain": [
       "<Figure size 432x288 with 1 Axes>"
      ]
     },
     "metadata": {
      "needs_background": "light"
     },
     "output_type": "display_data"
    }
   ],
   "source": [
    "bar_family_region = crosstab_family_region.plot(kind = 'bar', stacked = True, width = 0.6, colormap = region_c)"
   ]
  },
  {
   "cell_type": "code",
   "execution_count": 408,
   "id": "0dcfae57",
   "metadata": {},
   "outputs": [],
   "source": [
    "bar_family_region.figure.savefig(os.path.join(path, '04analysis','Visualizations', 'bar_family_region.png'),bbox_inches = 'tight')"
   ]
  },
  {
   "cell_type": "code",
   "execution_count": 390,
   "id": "c7e2e54f",
   "metadata": {},
   "outputs": [
    {
     "data": {
      "image/png": "[encoded data removed]",
      "text/plain": [
       "<Figure size 432x288 with 1 Axes>"
      ]
     },
     "metadata": {
      "needs_background": "light"
     },
     "output_type": "display_data"
    }
   ],
   "source": [
    "stacked_family_region = crosstab_family_region.T.apply(lambda x: x*100/sum(x), axis = 1)\n",
    "bar_stacked_family_region = stacked_family_region.plot (kind = 'bar', stacked = True, colormap = region_c)"
   ]
  },
  {
   "cell_type": "code",
   "execution_count": 391,
   "id": "2ce0369c",
   "metadata": {},
   "outputs": [],
   "source": [
    "bar_stacked_family_region.figure.savefig(os.path.join(path, '04analysis','Visualizations', 'bastacked_family_region.png'),bbox_inches = 'tight')"
   ]
  },
  {
   "cell_type": "code",
   "execution_count": 393,
   "id": "d0651a58",
   "metadata": {},
   "outputs": [],
   "source": [
    "stacked_family_region.to_clipboard()"
   ]
  },
  {
   "cell_type": "code",
   "execution_count": 399,
   "id": "355ac5e0",
   "metadata": {
    "scrolled": true
   },
   "outputs": [
    {
     "data": {
      "text/html": [
       "<div>\n",
       "<style scoped>\n",
       "    .dataframe tbody tr th:only-of-type {\n",
       "        vertical-align: middle;\n",
       "    }\n",
       "\n",
       "    .dataframe tbody tr th {\n",
       "        vertical-align: top;\n",
       "    }\n",
       "\n",
       "    .dataframe thead th {\n",
       "        text-align: right;\n",
       "    }\n",
       "</style>\n",
       "<table border=\"1\" class=\"dataframe\">\n",
       "  <thead>\n",
       "    <tr style=\"text-align: right;\">\n",
       "      <th>Family_status</th>\n",
       "      <th>divorced/widowed</th>\n",
       "      <th>living with parents and siblings</th>\n",
       "      <th>married</th>\n",
       "      <th>single</th>\n",
       "    </tr>\n",
       "    <tr>\n",
       "      <th>Region</th>\n",
       "      <th></th>\n",
       "      <th></th>\n",
       "      <th></th>\n",
       "      <th></th>\n",
       "    </tr>\n",
       "  </thead>\n",
       "  <tbody>\n",
       "    <tr>\n",
       "      <th>Midwest</th>\n",
       "      <td>8.50%</td>\n",
       "      <td>4.84%</td>\n",
       "      <td>70.06%</td>\n",
       "      <td>16.60%</td>\n",
       "    </tr>\n",
       "    <tr>\n",
       "      <th>Northeast</th>\n",
       "      <td>8.76%</td>\n",
       "      <td>4.69%</td>\n",
       "      <td>70.52%</td>\n",
       "      <td>16.03%</td>\n",
       "    </tr>\n",
       "    <tr>\n",
       "      <th>South</th>\n",
       "      <td>8.42%</td>\n",
       "      <td>4.96%</td>\n",
       "      <td>70.13%</td>\n",
       "      <td>16.49%</td>\n",
       "    </tr>\n",
       "    <tr>\n",
       "      <th>West</th>\n",
       "      <td>8.58%</td>\n",
       "      <td>4.59%</td>\n",
       "      <td>70.28%</td>\n",
       "      <td>16.56%</td>\n",
       "    </tr>\n",
       "  </tbody>\n",
       "</table>\n",
       "</div>"
      ],
      "text/plain": [
       "Family_status  divorced/widowed  living with parents and siblings  married  \\\n",
       "Region                                                                       \n",
       "Midwest                   8.50%                             4.84%   70.06%   \n",
       "Northeast                 8.76%                             4.69%   70.52%   \n",
       "South                     8.42%                             4.96%   70.13%   \n",
       "West                      8.58%                             4.59%   70.28%   \n",
       "\n",
       "Family_status  single  \n",
       "Region                 \n",
       "Midwest        16.60%  \n",
       "Northeast      16.03%  \n",
       "South          16.49%  \n",
       "West           16.56%  "
      ]
     },
     "execution_count": 399,
     "metadata": {},
     "output_type": "execute_result"
    }
   ],
   "source": [
    "#show family status by region as %\n",
    "pd.options.display.float_format = '{:.2f}%'.format\n",
    "stacked_family_region\n"
   ]
  }
 ],
 "metadata": {
  "kernelspec": {
   "display_name": "Python 3",
   "language": "python",
   "name": "python3"
  },
  "language_info": {
   "codemirror_mode": {
    "name": "ipython",
    "version": 3
   },
   "file_extension": ".py",
   "mimetype": "text/x-python",
   "name": "python",
   "nbconvert_exporter": "python",
   "pygments_lexer": "ipython3",
   "version": "3.8.8"
  }
 },
 "nbformat": 4,
 "nbformat_minor": 5
}
