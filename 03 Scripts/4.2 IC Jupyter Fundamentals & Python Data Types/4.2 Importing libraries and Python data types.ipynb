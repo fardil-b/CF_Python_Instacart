{
 "cells": [
  {
   "cell_type": "markdown",
   "id": "dd4f2399",
   "metadata": {},
   "source": [
    "# 01. Importing libraries"
   ]
  },
  {
   "cell_type": "code",
   "execution_count": 1,
   "id": "6ed84f03",
   "metadata": {},
   "outputs": [],
   "source": [
    "# Import libraries\n",
    "import pandas as pd\n",
    "import numpy as np\n",
    "import os"
   ]
  },
  {
   "cell_type": "markdown",
   "id": "9f372bb2",
   "metadata": {},
   "source": [
    "# 02. Data types"
   ]
  },
  {
   "cell_type": "markdown",
   "id": "2601c041",
   "metadata": {},
   "source": [
    "### Code 3 different ways of reaching a result of 100"
   ]
  },
  {
   "cell_type": "code",
   "execution_count": 8,
   "id": "706b589d",
   "metadata": {},
   "outputs": [
    {
     "data": {
      "text/plain": [
       "100"
      ]
     },
     "execution_count": 8,
     "metadata": {},
     "output_type": "execute_result"
    }
   ],
   "source": [
    "# example 1\n",
    "50 + 50"
   ]
  },
  {
   "cell_type": "code",
   "execution_count": 9,
   "id": "aa13ab13",
   "metadata": {},
   "outputs": [
    {
     "data": {
      "text/plain": [
       "100"
      ]
     },
     "execution_count": 9,
     "metadata": {},
     "output_type": "execute_result"
    }
   ],
   "source": [
    "# example 2\n",
    "200 - 100"
   ]
  },
  {
   "cell_type": "code",
   "execution_count": 10,
   "id": "89b48b0d",
   "metadata": {},
   "outputs": [
    {
     "data": {
      "text/plain": [
       "100"
      ]
     },
     "execution_count": 10,
     "metadata": {},
     "output_type": "execute_result"
    }
   ],
   "source": [
    "# example 3\n",
    "x = 50\n",
    "y = 2\n",
    "x * y"
   ]
  },
  {
   "cell_type": "markdown",
   "id": "6c5d3078",
   "metadata": {},
   "source": [
    "### Code 2 floating-point variables and divide them by each other"
   ]
  },
  {
   "cell_type": "code",
   "execution_count": 13,
   "id": "96118751",
   "metadata": {},
   "outputs": [
    {
     "data": {
      "text/plain": [
       "17.533333333333335"
      ]
     },
     "execution_count": 13,
     "metadata": {},
     "output_type": "execute_result"
    }
   ],
   "source": [
    "a = 5.26\n",
    "b = 0.3\n",
    "a/b"
   ]
  },
  {
   "cell_type": "markdown",
   "id": "6f735a79",
   "metadata": {},
   "source": [
    "### Construct a short word made of separate strings"
   ]
  },
  {
   "cell_type": "code",
   "execution_count": 14,
   "id": "f4ec18e8",
   "metadata": {},
   "outputs": [
    {
     "data": {
      "text/plain": [
       "'love'"
      ]
     },
     "execution_count": 14,
     "metadata": {},
     "output_type": "execute_result"
    }
   ],
   "source": [
    "a = 'l'\n",
    "b = 'o'\n",
    "c = 'v'\n",
    "d = 'e'\n",
    "a+b+c+d"
   ]
  },
  {
   "cell_type": "markdown",
   "id": "5608caee",
   "metadata": {},
   "source": [
    "### Construct 2 short sentences made of separate strings"
   ]
  },
  {
   "cell_type": "code",
   "execution_count": 18,
   "id": "e6b0322c",
   "metadata": {},
   "outputs": [
    {
     "data": {
      "text/plain": [
       "'Have fun coding!'"
      ]
     },
     "execution_count": 18,
     "metadata": {},
     "output_type": "execute_result"
    }
   ],
   "source": [
    "x = 'Have '\n",
    "y = 'fun '\n",
    "z = 'coding!'\n",
    "x + y + z"
   ]
  },
  {
   "cell_type": "markdown",
   "id": "12ee4841",
   "metadata": {},
   "source": [
    "## Bonus Task\n",
    "### At the bottom of your file, include a command that makes a string appear 100 times."
   ]
  },
  {
   "cell_type": "code",
   "execution_count": 19,
   "id": "22db3ef3",
   "metadata": {},
   "outputs": [
    {
     "data": {
      "text/plain": [
       "'fun fun fun fun fun fun fun fun fun fun fun fun fun fun fun fun fun fun fun fun fun fun fun fun fun fun fun fun fun fun fun fun fun fun fun fun fun fun fun fun fun fun fun fun fun fun fun fun fun fun fun fun fun fun fun fun fun fun fun fun fun fun fun fun fun fun fun fun fun fun fun fun fun fun fun fun fun fun fun fun fun fun fun fun fun fun fun fun fun fun fun fun fun fun fun fun fun fun fun fun '"
      ]
     },
     "execution_count": 19,
     "metadata": {},
     "output_type": "execute_result"
    }
   ],
   "source": [
    "y * 100"
   ]
  }
 ],
 "metadata": {
  "kernelspec": {
   "display_name": "Python 3",
   "language": "python",
   "name": "python3"
  },
  "language_info": {
   "codemirror_mode": {
    "name": "ipython",
    "version": 3
   },
   "file_extension": ".py",
   "mimetype": "text/x-python",
   "name": "python",
   "nbconvert_exporter": "python",
   "pygments_lexer": "ipython3",
   "version": "3.8.8"
  }
 },
 "nbformat": 4,
 "nbformat_minor": 5
}
